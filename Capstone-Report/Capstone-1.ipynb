{
 "cells": [
  {
   "cell_type": "markdown",
   "metadata": {},
   "source": [
    "# Capstone report"
   ]
  },
  {
   "cell_type": "markdown",
   "metadata": {},
   "source": [
    "## Preliminaries"
   ]
  },
  {
   "cell_type": "code",
   "execution_count": 1,
   "metadata": {
    "collapsed": true
   },
   "outputs": [],
   "source": [
    "import numpy as np\n",
    "import pandas as pd"
   ]
  },
  {
   "cell_type": "markdown",
   "metadata": {},
   "source": [
    "## Read original files"
   ]
  },
  {
   "cell_type": "code",
   "execution_count": 2,
   "metadata": {
    "collapsed": true
   },
   "outputs": [],
   "source": [
    "# Cross walk of County, Commuting Zone and State\n",
    "cw = pd.read_csv('Health-Wealth/cty_cz_st_crosswalk.csv', index_col=None)"
   ]
  },
  {
   "cell_type": "code",
   "execution_count": 3,
   "metadata": {
    "collapsed": true
   },
   "outputs": [],
   "source": [
    "# National life expectancy estimates (pooling 2001-14) for men and women, by income percentile \n",
    "ltb1 = pd.read_csv('Health-Wealth/health_ineq_online_table_1.csv', index_col=None)\n",
    "# National by-year life expectancy estimates for men and women, by income percentile\n",
    "ltb2 = pd.read_csv('Health-Wealth/health_ineq_online_table_2.csv', index_col=None)\n",
    "# State-level life expectancy estimates for men and women, by income quartile\n",
    "ltb3 = pd.read_csv('Health-Wealth/health_ineq_online_table_3.csv', index_col=None)\n",
    "# State-level estimates of trends in life expectancy for men and women, by income quartile\n",
    "ltb4 = pd.read_csv('Health-Wealth/health_ineq_online_table_4.csv', index_col=None)\n",
    "# State-level by-year life expectancy estimates for men and women, by income quartile \n",
    "ltb5 = pd.read_csv('Health-Wealth/health_ineq_online_table_5.csv', index_col=None)\n",
    "# CZ-level life expectancy estimates for men and women, by income quartile\n",
    "ltb6 = pd.read_csv('Health-Wealth/health_ineq_online_table_6.csv', index_col=None)\n",
    "# CZ-level life expectancy estimates for men and women, by income ventile\n",
    "ltb7 = pd.read_csv('Health-Wealth/health_ineq_online_table_7.csv', index_col=None)\n",
    "# CZ-level estimates of trends in life expectancy for men and women, by income quartile\n",
    "ltb8 = pd.read_csv('Health-Wealth/health_ineq_online_table_8.csv', index_col=None)\n",
    "# CZ-level by-year life expectancy estimates for men and women, by income quartile\n",
    "ltb9 = pd.read_csv('Health-Wealth/health_ineq_online_table_9.csv', index_col=None)\n",
    "# CZ-level characteristics described in eTable 9 \n",
    "ltb10 = pd.read_csv('Health-Wealth/health_ineq_online_table_10.csv', index_col=None)\n",
    "# County-level life expectancy estimates for men and women, by income quartile \n",
    "ltb11 = pd.read_csv('Health-Wealth/health_ineq_online_table_11.csv', index_col=None)\n",
    "# County-level characteristics described in eTable 9 \n",
    "ltb12 = pd.read_csv('Health-Wealth/health_ineq_online_table_12.csv', index_col=None, encoding='latin-1')\n",
    "# International estimates of mean life expectancy at age 40, by country for men and women\n",
    "ltb13 = pd.read_csv('Health-Wealth/health_ineq_online_table_13.csv', index_col=None)\n",
    "# Comparison of population and death counts in tax data and NCHS data \n",
    "ltb14 = pd.read_csv('Health-Wealth/health_ineq_online_table_14.csv', index_col=None)"
   ]
  },
  {
   "cell_type": "markdown",
   "metadata": {},
   "source": [
    "## Cleaning and wrangling data"
   ]
  },
  {
   "cell_type": "markdown",
   "metadata": {},
   "source": [
    "For each table, remove the Unadjusted and Standard Error columns."
   ]
  },
  {
   "cell_type": "code",
   "execution_count": 4,
   "metadata": {
    "collapsed": true
   },
   "outputs": [],
   "source": [
    "tb1 = ltb1.loc[:, 'gnd':'le_raceadj']\n",
    "tb2 = ltb2.loc[:, 'gnd':'le_raceadj']"
   ]
  },
  {
   "cell_type": "code",
   "execution_count": 5,
   "metadata": {
    "collapsed": false
   },
   "outputs": [],
   "source": [
    "tb3 = ltb3[['st', 'statename', 'stateabbrv', 'le_raceadj_q1_F', 'le_raceadj_q2_F', 'le_raceadj_q3_F', 'le_raceadj_q4_F', 'le_raceadj_q1_M', 'le_raceadj_q2_M', 'le_raceadj_q3_M', 'le_raceadj_q4_M', 'count_q1_F', 'count_q2_F', 'count_q3_F', 'count_q4_F', 'count_q1_M', 'count_q2_M', 'count_q3_M', 'count_q4_M']]"
   ]
  },
  {
   "cell_type": "code",
   "execution_count": 6,
   "metadata": {
    "collapsed": true
   },
   "outputs": [],
   "source": [
    "tb4 = ltb4[['st', 'statename', 'stateabbrv', 'le_raceadj_slope_q1_F', 'le_raceadj_slope_q2_F', 'le_raceadj_slope_q3_F', 'le_raceadj_slope_q4_F', 'le_raceadj_slope_q1_M', 'le_raceadj_slope_q2_M', 'le_raceadj_slope_q3_M', 'le_raceadj_slope_q4_M', 'count_q1_F', 'count_q2_F', 'count_q3_F', 'count_q4_F', 'count_q1_M', 'count_q2_M', 'count_q3_M', 'count_q4_M']]"
   ]
  },
  {
   "cell_type": "code",
   "execution_count": 7,
   "metadata": {
    "collapsed": false
   },
   "outputs": [],
   "source": [
    "tb5 = ltb5[['st', 'statename', 'stateabbrv', 'year', 'le_raceadj_q1_F', 'le_raceadj_q2_F', 'le_raceadj_q3_F', 'le_raceadj_q4_F', 'le_raceadj_q1_M', 'le_raceadj_q2_M', 'le_raceadj_q3_M', 'le_raceadj_q4_M', 'count_q1_F', 'count_q2_F', 'count_q3_F', 'count_q4_F', 'count_q1_M', 'count_q2_M', 'count_q3_M', 'count_q4_M']]"
   ]
  },
  {
   "cell_type": "code",
   "execution_count": 8,
   "metadata": {
    "collapsed": true
   },
   "outputs": [],
   "source": [
    "tb6 = ltb6[['cz', 'czname', 'pop2000', 'fips', 'statename', 'stateabbrv', 'le_raceadj_q1_F', 'le_raceadj_q2_F', 'le_raceadj_q3_F', 'le_raceadj_q4_F', 'le_raceadj_q1_M', 'le_raceadj_q2_M', 'le_raceadj_q3_M', 'le_raceadj_q4_M', 'count_q1_F', 'count_q2_F', 'count_q3_F', 'count_q4_F', 'count_q1_M', 'count_q2_M', 'count_q3_M', 'count_q4_M']]"
   ]
  },
  {
   "cell_type": "code",
   "execution_count": 9,
   "metadata": {
    "collapsed": true
   },
   "outputs": [],
   "source": [
    "tb7_1 = ltb7.loc[:, 'cz':'le_raceadj_v20_F']\n",
    "tb7_2 = ltb7.loc[:, 'le_raceadj_v1_M':'le_raceadj_v20_M']\n",
    "tb7_3 = ltb7.loc[:, 'count_v1_F':'count_v20_M']\n",
    "tb7 = pd.concat([tb7_1, tb7_2, tb7_3], axis = 1)"
   ]
  },
  {
   "cell_type": "code",
   "execution_count": 10,
   "metadata": {
    "collapsed": true
   },
   "outputs": [],
   "source": [
    "tb8 = ltb8[['cz', 'czname', 'pop2000', 'fips', 'statename', 'stateabbrv', 'le_raceadj_slope_q1_F', 'le_raceadj_slope_q2_F', 'le_raceadj_slope_q3_F', 'le_raceadj_slope_q4_F', 'le_raceadj_slope_q1_M', 'le_raceadj_slope_q2_M', 'le_raceadj_slope_q3_M', 'le_raceadj_slope_q4_M', 'count_q1_F', 'count_q2_F', 'count_q3_F', 'count_q4_F', 'count_q1_M', 'count_q2_M', 'count_q3_M', 'count_q4_M']]"
   ]
  },
  {
   "cell_type": "code",
   "execution_count": 11,
   "metadata": {
    "collapsed": false
   },
   "outputs": [],
   "source": [
    "tb9 = ltb9[['cz', 'czname', 'pop2000', 'stateabbrv', 'year', 'le_raceadj_q1_F', 'le_raceadj_q2_F', 'le_raceadj_q3_F', 'le_raceadj_q4_F', 'le_raceadj_q1_M', 'le_raceadj_q1_M', 'le_raceadj_q2_M', 'le_raceadj_q3_M', 'count_q4_F', 'count_q1_M', 'count_q2_M', 'count_q3_M', 'count_q4_M']]"
   ]
  },
  {
   "cell_type": "code",
   "execution_count": 12,
   "metadata": {
    "collapsed": false
   },
   "outputs": [],
   "source": [
    "tb11_1 = ltb11.loc[:, 'cty':'stateabbrv']\n",
    "tb11_2 = ltb11[['le_raceadj_q1_F', 'le_raceadj_q2_F', 'le_raceadj_q3_F', 'le_raceadj_q4_F', 'le_raceadj_q1_M', 'le_raceadj_q2_M', 'le_raceadj_q3_M', 'le_raceadj_q4_M', 'count_q1_F', 'count_q2_F', 'count_q3_F', 'count_q4_F', 'count_q1_M', 'count_q2_M', 'count_q3_M', 'count_q4_M']]\n",
    "tb11 = pd.concat([tb11_1, tb11_2], axis = 1)"
   ]
  },
  {
   "cell_type": "code",
   "execution_count": 13,
   "metadata": {
    "collapsed": true
   },
   "outputs": [],
   "source": [
    "tb13 = ltb13\n",
    "tb14 = ltb14"
   ]
  },
  {
   "cell_type": "code",
   "execution_count": 14,
   "metadata": {
    "collapsed": true
   },
   "outputs": [],
   "source": [
    "# Save data sets to files\n",
    "tb1.to_csv('table_1.csv', index=False)\n",
    "tb2.to_csv('table_2.csv', index=False)\n",
    "tb3.to_csv('table_3.csv', index=False)\n",
    "tb4.to_csv('table_4.csv', index=False)\n",
    "tb5.to_csv('table_5.csv', index=False)\n",
    "tb6.to_csv('table_6.csv', index=False)\n",
    "tb7.to_csv('table_7.csv', index=False)\n",
    "tb8.to_csv('table_8.csv', index=False)\n",
    "tb9.to_csv('table_9.csv', index=False)\n",
    "tb11.to_csv('table_11.csv', index=False)\n",
    "tb13.to_csv('table_13.csv', index=False)\n",
    "tb14.to_csv('table_14.csv', index=False)"
   ]
  },
  {
   "cell_type": "markdown",
   "metadata": {},
   "source": [
    "#### Fill missing values in table 10\n",
    "* A column is removed if there are more than 10% missing value.   \n",
    "* A commuting zone is removed if all the values of a column are missing.  \n",
    "* Fill missing values with the mean value of that that commuting zone."
   ]
  },
  {
   "cell_type": "code",
   "execution_count": 15,
   "metadata": {
    "collapsed": true
   },
   "outputs": [],
   "source": [
    "# Remove the columns whose empty values are more than 10% in table 10\n",
    "tb10 = ltb10\n",
    "l = len(tb10)\n",
    "names = tb10.columns.values[6:] \n",
    "for name in names:\n",
    "    n = tb10[name].isnull().values.sum()\n",
    "    if n/l > 0.1: \n",
    "        tb10 = tb10.drop([name], axis=1)"
   ]
  },
  {
   "cell_type": "code",
   "execution_count": 16,
   "metadata": {
    "collapsed": false
   },
   "outputs": [
    {
     "data": {
      "text/html": [
       "<div>\n",
       "<table border=\"1\" class=\"dataframe\">\n",
       "  <thead>\n",
       "    <tr style=\"text-align: right;\">\n",
       "      <th></th>\n",
       "      <th>cz</th>\n",
       "      <th>czname</th>\n",
       "      <th>pop2000</th>\n",
       "      <th>fips</th>\n",
       "      <th>statename</th>\n",
       "      <th>stateabbrv</th>\n",
       "      <th>puninsured2010</th>\n",
       "      <th>reimb_penroll_adj10</th>\n",
       "      <th>mort_30day_hosp_z</th>\n",
       "      <th>adjmortmeas_amiall30day</th>\n",
       "      <th>...</th>\n",
       "      <th>ccd_exp_tot</th>\n",
       "      <th>ccd_pup_tch_ratio</th>\n",
       "      <th>score_r</th>\n",
       "      <th>cs_educ_ba</th>\n",
       "      <th>e_rank_b</th>\n",
       "      <th>cs_fam_wkidsinglemom</th>\n",
       "      <th>crime_total</th>\n",
       "      <th>subcty_exp_pc</th>\n",
       "      <th>taxrate</th>\n",
       "      <th>tax_st_diff_top20</th>\n",
       "    </tr>\n",
       "  </thead>\n",
       "  <tbody>\n",
       "    <tr>\n",
       "      <th>0</th>\n",
       "      <td>100</td>\n",
       "      <td>Johnson City</td>\n",
       "      <td>576081.0</td>\n",
       "      <td>47</td>\n",
       "      <td>Tennessee</td>\n",
       "      <td>TN</td>\n",
       "      <td>15.99971</td>\n",
       "      <td>10121.9180</td>\n",
       "      <td>1.020608</td>\n",
       "      <td>0.165202</td>\n",
       "      <td>...</td>\n",
       "      <td>5.184547</td>\n",
       "      <td>NaN</td>\n",
       "      <td>2.728379</td>\n",
       "      <td>15.869880</td>\n",
       "      <td>38.38750</td>\n",
       "      <td>0.189803</td>\n",
       "      <td>0.005402</td>\n",
       "      <td>1886.148</td>\n",
       "      <td>0.020392</td>\n",
       "      <td>0.0</td>\n",
       "    </tr>\n",
       "    <tr>\n",
       "      <th>1</th>\n",
       "      <td>200</td>\n",
       "      <td>Morristown</td>\n",
       "      <td>227816.0</td>\n",
       "      <td>47</td>\n",
       "      <td>Tennessee</td>\n",
       "      <td>TN</td>\n",
       "      <td>19.50662</td>\n",
       "      <td>10228.2860</td>\n",
       "      <td>0.896963</td>\n",
       "      <td>0.162280</td>\n",
       "      <td>...</td>\n",
       "      <td>4.505886</td>\n",
       "      <td>NaN</td>\n",
       "      <td>-3.400274</td>\n",
       "      <td>11.720440</td>\n",
       "      <td>37.77675</td>\n",
       "      <td>0.185106</td>\n",
       "      <td>0.007115</td>\n",
       "      <td>2004.337</td>\n",
       "      <td>0.023447</td>\n",
       "      <td>0.0</td>\n",
       "    </tr>\n",
       "    <tr>\n",
       "      <th>2</th>\n",
       "      <td>301</td>\n",
       "      <td>Middlesborough</td>\n",
       "      <td>66708.0</td>\n",
       "      <td>47</td>\n",
       "      <td>Tennessee</td>\n",
       "      <td>TN</td>\n",
       "      <td>17.74554</td>\n",
       "      <td>12756.4190</td>\n",
       "      <td>0.712357</td>\n",
       "      <td>0.185303</td>\n",
       "      <td>...</td>\n",
       "      <td>5.614119</td>\n",
       "      <td>15.084937</td>\n",
       "      <td>-9.315062</td>\n",
       "      <td>9.077307</td>\n",
       "      <td>39.04925</td>\n",
       "      <td>0.211003</td>\n",
       "      <td>0.003898</td>\n",
       "      <td>1189.820</td>\n",
       "      <td>0.015380</td>\n",
       "      <td>0.0</td>\n",
       "    </tr>\n",
       "    <tr>\n",
       "      <th>3</th>\n",
       "      <td>302</td>\n",
       "      <td>Knoxville</td>\n",
       "      <td>727600.0</td>\n",
       "      <td>47</td>\n",
       "      <td>Tennessee</td>\n",
       "      <td>TN</td>\n",
       "      <td>14.88756</td>\n",
       "      <td>9913.4986</td>\n",
       "      <td>0.283885</td>\n",
       "      <td>0.150970</td>\n",
       "      <td>...</td>\n",
       "      <td>4.899846</td>\n",
       "      <td>NaN</td>\n",
       "      <td>-6.031831</td>\n",
       "      <td>22.526610</td>\n",
       "      <td>37.84125</td>\n",
       "      <td>0.205602</td>\n",
       "      <td>0.005388</td>\n",
       "      <td>2356.851</td>\n",
       "      <td>0.018870</td>\n",
       "      <td>0.0</td>\n",
       "    </tr>\n",
       "    <tr>\n",
       "      <th>4</th>\n",
       "      <td>401</td>\n",
       "      <td>Winston-Salem</td>\n",
       "      <td>493180.0</td>\n",
       "      <td>37</td>\n",
       "      <td>North Carolina</td>\n",
       "      <td>NC</td>\n",
       "      <td>19.02583</td>\n",
       "      <td>9635.7908</td>\n",
       "      <td>0.506144</td>\n",
       "      <td>0.167063</td>\n",
       "      <td>...</td>\n",
       "      <td>5.462676</td>\n",
       "      <td>15.385281</td>\n",
       "      <td>-2.297035</td>\n",
       "      <td>22.389480</td>\n",
       "      <td>36.96925</td>\n",
       "      <td>0.220471</td>\n",
       "      <td>0.010577</td>\n",
       "      <td>1891.450</td>\n",
       "      <td>0.017905</td>\n",
       "      <td>1.0</td>\n",
       "    </tr>\n",
       "  </tbody>\n",
       "</table>\n",
       "<p>5 rows × 53 columns</p>\n",
       "</div>"
      ],
      "text/plain": [
       "    cz          czname   pop2000  fips       statename stateabbrv  \\\n",
       "0  100    Johnson City  576081.0    47       Tennessee         TN   \n",
       "1  200      Morristown  227816.0    47       Tennessee         TN   \n",
       "2  301  Middlesborough   66708.0    47       Tennessee         TN   \n",
       "3  302       Knoxville  727600.0    47       Tennessee         TN   \n",
       "4  401   Winston-Salem  493180.0    37  North Carolina         NC   \n",
       "\n",
       "   puninsured2010  reimb_penroll_adj10  mort_30day_hosp_z  \\\n",
       "0        15.99971           10121.9180           1.020608   \n",
       "1        19.50662           10228.2860           0.896963   \n",
       "2        17.74554           12756.4190           0.712357   \n",
       "3        14.88756            9913.4986           0.283885   \n",
       "4        19.02583            9635.7908           0.506144   \n",
       "\n",
       "   adjmortmeas_amiall30day        ...          ccd_exp_tot  ccd_pup_tch_ratio  \\\n",
       "0                 0.165202        ...             5.184547                NaN   \n",
       "1                 0.162280        ...             4.505886                NaN   \n",
       "2                 0.185303        ...             5.614119          15.084937   \n",
       "3                 0.150970        ...             4.899846                NaN   \n",
       "4                 0.167063        ...             5.462676          15.385281   \n",
       "\n",
       "    score_r  cs_educ_ba  e_rank_b  cs_fam_wkidsinglemom  crime_total  \\\n",
       "0  2.728379   15.869880  38.38750              0.189803     0.005402   \n",
       "1 -3.400274   11.720440  37.77675              0.185106     0.007115   \n",
       "2 -9.315062    9.077307  39.04925              0.211003     0.003898   \n",
       "3 -6.031831   22.526610  37.84125              0.205602     0.005388   \n",
       "4 -2.297035   22.389480  36.96925              0.220471     0.010577   \n",
       "\n",
       "   subcty_exp_pc   taxrate  tax_st_diff_top20  \n",
       "0       1886.148  0.020392                0.0  \n",
       "1       2004.337  0.023447                0.0  \n",
       "2       1189.820  0.015380                0.0  \n",
       "3       2356.851  0.018870                0.0  \n",
       "4       1891.450  0.017905                1.0  \n",
       "\n",
       "[5 rows x 53 columns]"
      ]
     },
     "execution_count": 16,
     "metadata": {},
     "output_type": "execute_result"
    }
   ],
   "source": [
    "tb10.head()"
   ]
  },
  {
   "cell_type": "code",
   "execution_count": 17,
   "metadata": {
    "collapsed": false
   },
   "outputs": [
    {
     "data": {
      "text/plain": [
       "array(['puninsured2010', 'reimb_penroll_adj10', 'mort_30day_hosp_z',\n",
       "       'adjmortmeas_amiall30day', 'adjmortmeas_chfall30day',\n",
       "       'adjmortmeas_pnall30day', 'med_prev_qual_z', 'primcarevis_10',\n",
       "       'diab_hemotest_10', 'diab_eyeexam_10', 'diab_lipids_10',\n",
       "       'mammogram_10', 'amb_disch_per1000_10', 'cs00_seg_inc',\n",
       "       'cs00_seg_inc_pov25', 'cs00_seg_inc_aff75', 'cs_race_theil_2000',\n",
       "       'gini99', 'poor_share', 'inc_share_1perc', 'frac_middleclass',\n",
       "       'scap_ski90pcm', 'rel_tot', 'cs_frac_black', 'cs_frac_hisp',\n",
       "       'unemp_rate', 'pop_d_2000_1980', 'lf_d_2000_1980', 'cs_labforce',\n",
       "       'cs_elf_ind_man', 'cs_born_foreign', 'mig_inflow', 'mig_outflow',\n",
       "       'pop_density', 'frac_traveltime_lt15', 'hhinc00',\n",
       "       'median_house_value', 'ccd_exp_tot', 'ccd_pup_tch_ratio', 'score_r',\n",
       "       'cs_educ_ba', 'e_rank_b', 'cs_fam_wkidsinglemom', 'crime_total',\n",
       "       'subcty_exp_pc', 'taxrate', 'tax_st_diff_top20'], dtype=object)"
      ]
     },
     "execution_count": 17,
     "metadata": {},
     "output_type": "execute_result"
    }
   ],
   "source": [
    "names = tb10.columns.values[6:]\n",
    "names"
   ]
  },
  {
   "cell_type": "code",
   "execution_count": 18,
   "metadata": {
    "collapsed": false
   },
   "outputs": [
    {
     "data": {
      "text/plain": [
       "686"
      ]
     },
     "execution_count": 18,
     "metadata": {},
     "output_type": "execute_result"
    }
   ],
   "source": [
    "czs = tb10['czname'].unique()\n",
    "len(czs)"
   ]
  },
  {
   "cell_type": "code",
   "execution_count": 19,
   "metadata": {
    "collapsed": false
   },
   "outputs": [
    {
     "name": "stderr",
     "output_type": "stream",
     "text": [
      "/home/toniachu/ProgramFiles/Anaconda3/lib/python3.6/site-packages/pandas/core/indexing.py:477: SettingWithCopyWarning: \n",
      "A value is trying to be set on a copy of a slice from a DataFrame.\n",
      "Try using .loc[row_indexer,col_indexer] = value instead\n",
      "\n",
      "See the caveats in the documentation: http://pandas.pydata.org/pandas-docs/stable/indexing.html#indexing-view-versus-copy\n",
      "  self.obj[item] = s\n"
     ]
    }
   ],
   "source": [
    "# Remove commuting zones with all the values in a column are missing in table 10\n",
    "# Fill missing values with the mean value of that commuting zone.\n",
    "for name in names:\n",
    "    g = tb10.groupby(['czname'])\n",
    "    m = g[name].mean()\n",
    "    czs = tb10['czname'].unique()\n",
    "    for cz in czs:\n",
    "        if m.isnull()[cz]:\n",
    "            tb10 = tb10[tb10.czname != cz]\n",
    "        else:\n",
    "            t = tb10[tb10.czname == cz]\n",
    "            t = t[name].fillna(m[cz])\n",
    "            tb10.loc[tb10.czname == cz, name] = t\n",
    "tb10.to_csv('table_10.csv', index=False)"
   ]
  },
  {
   "cell_type": "code",
   "execution_count": 20,
   "metadata": {
    "collapsed": false
   },
   "outputs": [
    {
     "data": {
      "text/plain": [
       "643"
      ]
     },
     "execution_count": 20,
     "metadata": {},
     "output_type": "execute_result"
    }
   ],
   "source": [
    "len(tb10)"
   ]
  },
  {
   "cell_type": "markdown",
   "metadata": {},
   "source": [
    "#### Fill missing values in table 12\n",
    "* A column is removed if there are more than 10% missing value.   \n",
    "* A county is removed if all the values of a column are missing.  \n",
    "* Fill missing values with the mean value of that that county."
   ]
  },
  {
   "cell_type": "code",
   "execution_count": 21,
   "metadata": {
    "collapsed": false
   },
   "outputs": [],
   "source": [
    "# Remove the columns whose empty values are more than 10% in table 12\n",
    "tb12 = ltb12\n",
    "l = len(tb12)\n",
    "names = tb12.columns.values[9:] \n",
    "for name in names:\n",
    "    n = tb12[name].isnull().values.sum()\n",
    "    if n/l > 0.1: \n",
    "        tb12 = tb12.drop([name], axis=1)"
   ]
  },
  {
   "cell_type": "code",
   "execution_count": 22,
   "metadata": {
    "collapsed": false
   },
   "outputs": [
    {
     "data": {
      "text/html": [
       "<div>\n",
       "<table border=\"1\" class=\"dataframe\">\n",
       "  <thead>\n",
       "    <tr style=\"text-align: right;\">\n",
       "      <th></th>\n",
       "      <th>cty</th>\n",
       "      <th>county_name</th>\n",
       "      <th>cty_pop2000</th>\n",
       "      <th>cz</th>\n",
       "      <th>cz_name</th>\n",
       "      <th>cz_pop2000</th>\n",
       "      <th>statename</th>\n",
       "      <th>state_id</th>\n",
       "      <th>stateabbrv</th>\n",
       "      <th>intersects_msa</th>\n",
       "      <th>...</th>\n",
       "      <th>ccd_exp_tot</th>\n",
       "      <th>ccd_pup_tch_ratio</th>\n",
       "      <th>score_r</th>\n",
       "      <th>cs_educ_ba</th>\n",
       "      <th>e_rank_b</th>\n",
       "      <th>cs_fam_wkidsinglemom</th>\n",
       "      <th>crime_total</th>\n",
       "      <th>subcty_exp_pc</th>\n",
       "      <th>taxrate</th>\n",
       "      <th>tax_st_diff_top20</th>\n",
       "    </tr>\n",
       "  </thead>\n",
       "  <tbody>\n",
       "    <tr>\n",
       "      <th>0</th>\n",
       "      <td>1001</td>\n",
       "      <td>Autauga</td>\n",
       "      <td>43671</td>\n",
       "      <td>11101</td>\n",
       "      <td>Montgomery</td>\n",
       "      <td>367927.0</td>\n",
       "      <td>Alabama</td>\n",
       "      <td>1</td>\n",
       "      <td>AL</td>\n",
       "      <td>1</td>\n",
       "      <td>...</td>\n",
       "      <td>4.460057</td>\n",
       "      <td>19.715980</td>\n",
       "      <td>-7.308133</td>\n",
       "      <td>18.0</td>\n",
       "      <td>41.87288</td>\n",
       "      <td>0.191595</td>\n",
       "      <td>0.009353</td>\n",
       "      <td>1059.6690</td>\n",
       "      <td>0.011183</td>\n",
       "      <td>0.0</td>\n",
       "    </tr>\n",
       "    <tr>\n",
       "      <th>1</th>\n",
       "      <td>1003</td>\n",
       "      <td>Baldwin</td>\n",
       "      <td>140415</td>\n",
       "      <td>11001</td>\n",
       "      <td>Mobile</td>\n",
       "      <td>599405.0</td>\n",
       "      <td>Alabama</td>\n",
       "      <td>1</td>\n",
       "      <td>AL</td>\n",
       "      <td>1</td>\n",
       "      <td>...</td>\n",
       "      <td>4.596590</td>\n",
       "      <td>16.850983</td>\n",
       "      <td>-13.628750</td>\n",
       "      <td>23.1</td>\n",
       "      <td>44.49239</td>\n",
       "      <td>0.186779</td>\n",
       "      <td>0.007371</td>\n",
       "      <td>2209.9100</td>\n",
       "      <td>0.011756</td>\n",
       "      <td>0.0</td>\n",
       "    </tr>\n",
       "    <tr>\n",
       "      <th>2</th>\n",
       "      <td>1005</td>\n",
       "      <td>Barbour</td>\n",
       "      <td>29038</td>\n",
       "      <td>10301</td>\n",
       "      <td>Eufaula</td>\n",
       "      <td>61458.0</td>\n",
       "      <td>Alabama</td>\n",
       "      <td>1</td>\n",
       "      <td>AL</td>\n",
       "      <td>0</td>\n",
       "      <td>...</td>\n",
       "      <td>4.734407</td>\n",
       "      <td>16.656711</td>\n",
       "      <td>-15.955110</td>\n",
       "      <td>10.9</td>\n",
       "      <td>37.71876</td>\n",
       "      <td>0.337853</td>\n",
       "      <td>0.007749</td>\n",
       "      <td>1570.2480</td>\n",
       "      <td>0.012059</td>\n",
       "      <td>0.0</td>\n",
       "    </tr>\n",
       "    <tr>\n",
       "      <th>3</th>\n",
       "      <td>1007</td>\n",
       "      <td>Bibb</td>\n",
       "      <td>20826</td>\n",
       "      <td>10801</td>\n",
       "      <td>Tuscaloosa</td>\n",
       "      <td>261112.0</td>\n",
       "      <td>Alabama</td>\n",
       "      <td>1</td>\n",
       "      <td>AL</td>\n",
       "      <td>1</td>\n",
       "      <td>...</td>\n",
       "      <td>4.154157</td>\n",
       "      <td>18.958192</td>\n",
       "      <td>-14.839100</td>\n",
       "      <td>7.1</td>\n",
       "      <td>42.24516</td>\n",
       "      <td>0.197729</td>\n",
       "      <td>0.004514</td>\n",
       "      <td>1338.4410</td>\n",
       "      <td>0.008007</td>\n",
       "      <td>0.0</td>\n",
       "    </tr>\n",
       "    <tr>\n",
       "      <th>4</th>\n",
       "      <td>1009</td>\n",
       "      <td>Blount</td>\n",
       "      <td>51024</td>\n",
       "      <td>10700</td>\n",
       "      <td>Birmingham</td>\n",
       "      <td>1038182.0</td>\n",
       "      <td>Alabama</td>\n",
       "      <td>1</td>\n",
       "      <td>AL</td>\n",
       "      <td>1</td>\n",
       "      <td>...</td>\n",
       "      <td>3.998976</td>\n",
       "      <td>19.323810</td>\n",
       "      <td>-10.218140</td>\n",
       "      <td>9.6</td>\n",
       "      <td>49.04332</td>\n",
       "      <td>0.121988</td>\n",
       "      <td>0.002019</td>\n",
       "      <td>987.4388</td>\n",
       "      <td>0.007012</td>\n",
       "      <td>0.0</td>\n",
       "    </tr>\n",
       "  </tbody>\n",
       "</table>\n",
       "<p>5 rows × 57 columns</p>\n",
       "</div>"
      ],
      "text/plain": [
       "    cty county_name  cty_pop2000     cz     cz_name  cz_pop2000 statename  \\\n",
       "0  1001     Autauga        43671  11101  Montgomery    367927.0   Alabama   \n",
       "1  1003     Baldwin       140415  11001      Mobile    599405.0   Alabama   \n",
       "2  1005     Barbour        29038  10301     Eufaula     61458.0   Alabama   \n",
       "3  1007        Bibb        20826  10801  Tuscaloosa    261112.0   Alabama   \n",
       "4  1009      Blount        51024  10700  Birmingham   1038182.0   Alabama   \n",
       "\n",
       "   state_id stateabbrv  intersects_msa        ...          ccd_exp_tot  \\\n",
       "0         1         AL               1        ...             4.460057   \n",
       "1         1         AL               1        ...             4.596590   \n",
       "2         1         AL               0        ...             4.734407   \n",
       "3         1         AL               1        ...             4.154157   \n",
       "4         1         AL               1        ...             3.998976   \n",
       "\n",
       "   ccd_pup_tch_ratio    score_r  cs_educ_ba  e_rank_b  cs_fam_wkidsinglemom  \\\n",
       "0          19.715980  -7.308133        18.0  41.87288              0.191595   \n",
       "1          16.850983 -13.628750        23.1  44.49239              0.186779   \n",
       "2          16.656711 -15.955110        10.9  37.71876              0.337853   \n",
       "3          18.958192 -14.839100         7.1  42.24516              0.197729   \n",
       "4          19.323810 -10.218140         9.6  49.04332              0.121988   \n",
       "\n",
       "   crime_total  subcty_exp_pc   taxrate  tax_st_diff_top20  \n",
       "0     0.009353      1059.6690  0.011183                0.0  \n",
       "1     0.007371      2209.9100  0.011756                0.0  \n",
       "2     0.007749      1570.2480  0.012059                0.0  \n",
       "3     0.004514      1338.4410  0.008007                0.0  \n",
       "4     0.002019       987.4388  0.007012                0.0  \n",
       "\n",
       "[5 rows x 57 columns]"
      ]
     },
     "execution_count": 22,
     "metadata": {},
     "output_type": "execute_result"
    }
   ],
   "source": [
    "tb12.head()"
   ]
  },
  {
   "cell_type": "code",
   "execution_count": 23,
   "metadata": {
    "collapsed": false
   },
   "outputs": [
    {
     "data": {
      "text/plain": [
       "array(['intersects_msa', 'puninsured2010', 'reimb_penroll_adj10',\n",
       "       'mort_30day_hosp_z', 'adjmortmeas_amiall30day',\n",
       "       'adjmortmeas_chfall30day', 'adjmortmeas_pnall30day',\n",
       "       'med_prev_qual_z', 'primcarevis_10', 'diab_hemotest_10',\n",
       "       'diab_eyeexam_10', 'diab_lipids_10', 'mammogram_10',\n",
       "       'amb_disch_per1000_10', 'cs00_seg_inc', 'cs00_seg_inc_pov25',\n",
       "       'cs00_seg_inc_aff75', 'cs_race_theil_2000', 'gini99', 'poor_share',\n",
       "       'inc_share_1perc', 'frac_middleclass', 'scap_ski90pcm', 'rel_tot',\n",
       "       'cs_frac_black', 'cs_frac_hisp', 'unemp_rate', 'pop_d_2000_1980',\n",
       "       'lf_d_2000_1980', 'cs_labforce', 'cs_elf_ind_man',\n",
       "       'cs_born_foreign', 'mig_inflow', 'mig_outflow', 'pop_density',\n",
       "       'frac_traveltime_lt15', 'hhinc00', 'median_house_value',\n",
       "       'ccd_exp_tot', 'ccd_pup_tch_ratio', 'score_r', 'cs_educ_ba',\n",
       "       'e_rank_b', 'cs_fam_wkidsinglemom', 'crime_total', 'subcty_exp_pc',\n",
       "       'taxrate', 'tax_st_diff_top20'], dtype=object)"
      ]
     },
     "execution_count": 23,
     "metadata": {},
     "output_type": "execute_result"
    }
   ],
   "source": [
    "names = tb12.columns.values[9:]\n",
    "names"
   ]
  },
  {
   "cell_type": "code",
   "execution_count": 24,
   "metadata": {
    "collapsed": false
   },
   "outputs": [
    {
     "data": {
      "text/plain": [
       "1843"
      ]
     },
     "execution_count": 24,
     "metadata": {},
     "output_type": "execute_result"
    }
   ],
   "source": [
    "cts = tb12['county_name'].unique()\n",
    "len(cts)"
   ]
  },
  {
   "cell_type": "code",
   "execution_count": 25,
   "metadata": {
    "collapsed": false
   },
   "outputs": [
    {
     "name": "stderr",
     "output_type": "stream",
     "text": [
      "/home/toniachu/ProgramFiles/Anaconda3/lib/python3.6/site-packages/pandas/core/indexing.py:477: SettingWithCopyWarning: \n",
      "A value is trying to be set on a copy of a slice from a DataFrame.\n",
      "Try using .loc[row_indexer,col_indexer] = value instead\n",
      "\n",
      "See the caveats in the documentation: http://pandas.pydata.org/pandas-docs/stable/indexing.html#indexing-view-versus-copy\n",
      "  self.obj[item] = s\n"
     ]
    }
   ],
   "source": [
    "for name in names:\n",
    "    g = tb12.groupby(['county_name'])\n",
    "    m = g[name].mean()\n",
    "    cts = tb12['county_name'].unique()\n",
    "    for ct in cts:\n",
    "        if m.isnull()[ct]:\n",
    "            tb12 = tb12[tb12.county_name != ct]\n",
    "        else:\n",
    "            t = tb12[tb12.county_name == ct]\n",
    "            t = t[name].fillna(m[ct])\n",
    "            tb12.loc[tb12.county_name == ct, name] = t\n",
    "tb12.to_csv('table_12.csv', index=False)"
   ]
  },
  {
   "cell_type": "code",
   "execution_count": 26,
   "metadata": {
    "collapsed": false
   },
   "outputs": [
    {
     "data": {
      "text/plain": [
       "2778"
      ]
     },
     "execution_count": 26,
     "metadata": {},
     "output_type": "execute_result"
    }
   ],
   "source": [
    "len(tb12)"
   ]
  }
 ],
 "metadata": {
  "kernelspec": {
   "display_name": "Python 3",
   "language": "python",
   "name": "python3"
  },
  "language_info": {
   "codemirror_mode": {
    "name": "ipython",
    "version": 3
   },
   "file_extension": ".py",
   "mimetype": "text/x-python",
   "name": "python",
   "nbconvert_exporter": "python",
   "pygments_lexer": "ipython3",
   "version": "3.6.0"
  }
 },
 "nbformat": 4,
 "nbformat_minor": 2
}
