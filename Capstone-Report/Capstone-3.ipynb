{
 "cells": [
  {
   "cell_type": "markdown",
   "metadata": {},
   "source": [
    "# Capstone report"
   ]
  },
  {
   "cell_type": "markdown",
   "metadata": {},
   "source": [
    "## Preliminaries"
   ]
  },
  {
   "cell_type": "code",
   "execution_count": 1,
   "metadata": {
    "collapsed": true
   },
   "outputs": [],
   "source": [
    "import numpy as np\n",
    "import pandas as pd\n",
    "import matplotlib.pyplot as plt\n",
    "import seaborn as sns\n",
    "%matplotlib inline"
   ]
  },
  {
   "cell_type": "markdown",
   "metadata": {},
   "source": [
    "## Prepare Dataset"
   ]
  },
  {
   "cell_type": "markdown",
   "metadata": {},
   "source": [
    "Merge table 11 and table 12"
   ]
  },
  {
   "cell_type": "code",
   "execution_count": 2,
   "metadata": {
    "collapsed": true
   },
   "outputs": [],
   "source": [
    "# read table 11 and 12\n",
    "tb11 = pd.read_csv('table_11.csv', index_col=None)\n",
    "tb12 = pd.read_csv('table_12.csv', index_col=None)"
   ]
  },
  {
   "cell_type": "code",
   "execution_count": 3,
   "metadata": {
    "collapsed": false
   },
   "outputs": [],
   "source": [
    "# merge table 11 and 12 by County ID\n",
    "ntb12 = tb12.drop(tb12.columns[1:9], axis=1)\n",
    "tb = pd.merge(tb11, ntb12, how='inner', on='cty')"
   ]
  },
  {
   "cell_type": "code",
   "execution_count": 4,
   "metadata": {
    "collapsed": true
   },
   "outputs": [],
   "source": [
    "tb.to_csv('table_11-12.csv', index=False)"
   ]
  },
  {
   "cell_type": "code",
   "execution_count": 5,
   "metadata": {
    "collapsed": false
   },
   "outputs": [
    {
     "data": {
      "text/plain": [
       "Index(['cty', 'county_name', 'cty_pop2000', 'cz', 'cz_name', 'cz_pop2000',\n",
       "       'statename', 'state_id', 'stateabbrv', 'le_raceadj_q1_F',\n",
       "       'le_raceadj_q2_F', 'le_raceadj_q3_F', 'le_raceadj_q4_F',\n",
       "       'le_raceadj_q1_M', 'le_raceadj_q2_M', 'le_raceadj_q3_M',\n",
       "       'le_raceadj_q4_M', 'count_q1_F', 'count_q2_F', 'count_q3_F',\n",
       "       'count_q4_F', 'count_q1_M', 'count_q2_M', 'count_q3_M', 'count_q4_M',\n",
       "       'intersects_msa', 'puninsured2010', 'reimb_penroll_adj10',\n",
       "       'mort_30day_hosp_z', 'adjmortmeas_amiall30day',\n",
       "       'adjmortmeas_chfall30day', 'adjmortmeas_pnall30day', 'med_prev_qual_z',\n",
       "       'primcarevis_10', 'diab_hemotest_10', 'diab_eyeexam_10',\n",
       "       'diab_lipids_10', 'mammogram_10', 'amb_disch_per1000_10',\n",
       "       'cs00_seg_inc', 'cs00_seg_inc_pov25', 'cs00_seg_inc_aff75',\n",
       "       'cs_race_theil_2000', 'gini99', 'poor_share', 'inc_share_1perc',\n",
       "       'frac_middleclass', 'scap_ski90pcm', 'rel_tot', 'cs_frac_black',\n",
       "       'cs_frac_hisp', 'unemp_rate', 'pop_d_2000_1980', 'lf_d_2000_1980',\n",
       "       'cs_labforce', 'cs_elf_ind_man', 'cs_born_foreign', 'mig_inflow',\n",
       "       'mig_outflow', 'pop_density', 'frac_traveltime_lt15', 'hhinc00',\n",
       "       'median_house_value', 'ccd_exp_tot', 'ccd_pup_tch_ratio', 'score_r',\n",
       "       'cs_educ_ba', 'e_rank_b', 'cs_fam_wkidsinglemom', 'crime_total',\n",
       "       'subcty_exp_pc', 'taxrate', 'tax_st_diff_top20'],\n",
       "      dtype='object')"
      ]
     },
     "execution_count": 5,
     "metadata": {},
     "output_type": "execute_result"
    }
   ],
   "source": [
    "tb.columns"
   ]
  },
  {
   "cell_type": "code",
   "execution_count": 6,
   "metadata": {
    "collapsed": false
   },
   "outputs": [
    {
     "data": {
      "text/plain": [
       "1442"
      ]
     },
     "execution_count": 6,
     "metadata": {},
     "output_type": "execute_result"
    }
   ],
   "source": [
    "len(tb)"
   ]
  },
  {
   "cell_type": "code",
   "execution_count": 7,
   "metadata": {
    "collapsed": false
   },
   "outputs": [
    {
     "data": {
      "text/html": [
       "<div>\n",
       "<table border=\"1\" class=\"dataframe\">\n",
       "  <thead>\n",
       "    <tr style=\"text-align: right;\">\n",
       "      <th></th>\n",
       "      <th>cty</th>\n",
       "      <th>county_name</th>\n",
       "      <th>cty_pop2000</th>\n",
       "      <th>cz</th>\n",
       "      <th>cz_name</th>\n",
       "      <th>cz_pop2000</th>\n",
       "      <th>statename</th>\n",
       "      <th>state_id</th>\n",
       "      <th>stateabbrv</th>\n",
       "      <th>le_raceadj_q1_F</th>\n",
       "      <th>...</th>\n",
       "      <th>ccd_exp_tot</th>\n",
       "      <th>ccd_pup_tch_ratio</th>\n",
       "      <th>score_r</th>\n",
       "      <th>cs_educ_ba</th>\n",
       "      <th>e_rank_b</th>\n",
       "      <th>cs_fam_wkidsinglemom</th>\n",
       "      <th>crime_total</th>\n",
       "      <th>subcty_exp_pc</th>\n",
       "      <th>taxrate</th>\n",
       "      <th>tax_st_diff_top20</th>\n",
       "    </tr>\n",
       "  </thead>\n",
       "  <tbody>\n",
       "    <tr>\n",
       "      <th>0</th>\n",
       "      <td>1001</td>\n",
       "      <td>Autauga</td>\n",
       "      <td>43671</td>\n",
       "      <td>11101</td>\n",
       "      <td>Montgomery</td>\n",
       "      <td>367927.0</td>\n",
       "      <td>Alabama</td>\n",
       "      <td>1</td>\n",
       "      <td>AL</td>\n",
       "      <td>80.83063</td>\n",
       "      <td>...</td>\n",
       "      <td>4.460057</td>\n",
       "      <td>19.715980</td>\n",
       "      <td>-7.308133</td>\n",
       "      <td>18.0</td>\n",
       "      <td>41.87288</td>\n",
       "      <td>0.191595</td>\n",
       "      <td>0.009353</td>\n",
       "      <td>1059.6690</td>\n",
       "      <td>0.011183</td>\n",
       "      <td>0.0</td>\n",
       "    </tr>\n",
       "    <tr>\n",
       "      <th>1</th>\n",
       "      <td>1003</td>\n",
       "      <td>Baldwin</td>\n",
       "      <td>140415</td>\n",
       "      <td>11001</td>\n",
       "      <td>Mobile</td>\n",
       "      <td>599405.0</td>\n",
       "      <td>Alabama</td>\n",
       "      <td>1</td>\n",
       "      <td>AL</td>\n",
       "      <td>83.41104</td>\n",
       "      <td>...</td>\n",
       "      <td>4.596590</td>\n",
       "      <td>16.850983</td>\n",
       "      <td>-13.628750</td>\n",
       "      <td>23.1</td>\n",
       "      <td>44.49239</td>\n",
       "      <td>0.186778</td>\n",
       "      <td>0.007371</td>\n",
       "      <td>2209.9100</td>\n",
       "      <td>0.011756</td>\n",
       "      <td>0.0</td>\n",
       "    </tr>\n",
       "    <tr>\n",
       "      <th>2</th>\n",
       "      <td>1005</td>\n",
       "      <td>Barbour</td>\n",
       "      <td>29038</td>\n",
       "      <td>10301</td>\n",
       "      <td>Eufaula</td>\n",
       "      <td>61458.0</td>\n",
       "      <td>Alabama</td>\n",
       "      <td>1</td>\n",
       "      <td>AL</td>\n",
       "      <td>84.54345</td>\n",
       "      <td>...</td>\n",
       "      <td>4.734407</td>\n",
       "      <td>16.656711</td>\n",
       "      <td>-15.955110</td>\n",
       "      <td>10.9</td>\n",
       "      <td>37.71876</td>\n",
       "      <td>0.337853</td>\n",
       "      <td>0.007749</td>\n",
       "      <td>1570.2480</td>\n",
       "      <td>0.012059</td>\n",
       "      <td>0.0</td>\n",
       "    </tr>\n",
       "    <tr>\n",
       "      <th>3</th>\n",
       "      <td>1009</td>\n",
       "      <td>Blount</td>\n",
       "      <td>51024</td>\n",
       "      <td>10700</td>\n",
       "      <td>Birmingham</td>\n",
       "      <td>1038182.0</td>\n",
       "      <td>Alabama</td>\n",
       "      <td>1</td>\n",
       "      <td>AL</td>\n",
       "      <td>81.59277</td>\n",
       "      <td>...</td>\n",
       "      <td>3.998976</td>\n",
       "      <td>19.323810</td>\n",
       "      <td>-10.218140</td>\n",
       "      <td>9.6</td>\n",
       "      <td>49.04332</td>\n",
       "      <td>0.121988</td>\n",
       "      <td>0.002019</td>\n",
       "      <td>987.4388</td>\n",
       "      <td>0.007012</td>\n",
       "      <td>0.0</td>\n",
       "    </tr>\n",
       "    <tr>\n",
       "      <th>4</th>\n",
       "      <td>1015</td>\n",
       "      <td>Calhoun</td>\n",
       "      <td>112249</td>\n",
       "      <td>9600</td>\n",
       "      <td>LaGrange</td>\n",
       "      <td>457299.0</td>\n",
       "      <td>Alabama</td>\n",
       "      <td>1</td>\n",
       "      <td>AL</td>\n",
       "      <td>80.31331</td>\n",
       "      <td>...</td>\n",
       "      <td>4.285027</td>\n",
       "      <td>19.376473</td>\n",
       "      <td>-7.025562</td>\n",
       "      <td>15.2</td>\n",
       "      <td>42.28995</td>\n",
       "      <td>0.242177</td>\n",
       "      <td>0.008780</td>\n",
       "      <td>1722.6160</td>\n",
       "      <td>0.011815</td>\n",
       "      <td>0.0</td>\n",
       "    </tr>\n",
       "  </tbody>\n",
       "</table>\n",
       "<p>5 rows × 73 columns</p>\n",
       "</div>"
      ],
      "text/plain": [
       "    cty county_name  cty_pop2000     cz     cz_name  cz_pop2000 statename  \\\n",
       "0  1001     Autauga        43671  11101  Montgomery    367927.0   Alabama   \n",
       "1  1003     Baldwin       140415  11001      Mobile    599405.0   Alabama   \n",
       "2  1005     Barbour        29038  10301     Eufaula     61458.0   Alabama   \n",
       "3  1009      Blount        51024  10700  Birmingham   1038182.0   Alabama   \n",
       "4  1015     Calhoun       112249   9600    LaGrange    457299.0   Alabama   \n",
       "\n",
       "   state_id stateabbrv  le_raceadj_q1_F        ...          ccd_exp_tot  \\\n",
       "0         1         AL         80.83063        ...             4.460057   \n",
       "1         1         AL         83.41104        ...             4.596590   \n",
       "2         1         AL         84.54345        ...             4.734407   \n",
       "3         1         AL         81.59277        ...             3.998976   \n",
       "4         1         AL         80.31331        ...             4.285027   \n",
       "\n",
       "   ccd_pup_tch_ratio    score_r  cs_educ_ba  e_rank_b  cs_fam_wkidsinglemom  \\\n",
       "0          19.715980  -7.308133        18.0  41.87288              0.191595   \n",
       "1          16.850983 -13.628750        23.1  44.49239              0.186778   \n",
       "2          16.656711 -15.955110        10.9  37.71876              0.337853   \n",
       "3          19.323810 -10.218140         9.6  49.04332              0.121988   \n",
       "4          19.376473  -7.025562        15.2  42.28995              0.242177   \n",
       "\n",
       "   crime_total  subcty_exp_pc   taxrate  tax_st_diff_top20  \n",
       "0     0.009353      1059.6690  0.011183                0.0  \n",
       "1     0.007371      2209.9100  0.011756                0.0  \n",
       "2     0.007749      1570.2480  0.012059                0.0  \n",
       "3     0.002019       987.4388  0.007012                0.0  \n",
       "4     0.008780      1722.6160  0.011815                0.0  \n",
       "\n",
       "[5 rows x 73 columns]"
      ]
     },
     "execution_count": 7,
     "metadata": {},
     "output_type": "execute_result"
    }
   ],
   "source": [
    "tb.head(5)"
   ]
  },
  {
   "cell_type": "code",
   "execution_count": 8,
   "metadata": {
    "collapsed": false
   },
   "outputs": [],
   "source": [
    "# Get average values of life expectancy\n",
    "count_M = tb.count_q1_M + tb.count_q2_M + tb.count_q3_M + tb.count_q4_M\n",
    "count_F = tb.count_q1_F + tb.count_q2_F + tb.count_q3_F + tb.count_q4_F\n",
    "le_M = (tb.le_raceadj_q1_M * tb.count_q1_M \n",
    "            + tb.le_raceadj_q2_M * tb.count_q2_M \n",
    "            + tb.le_raceadj_q3_M * tb.count_q3_M \n",
    "            + tb.le_raceadj_q4_M * tb.count_q4_M) / count_M\n",
    "le_F = (tb.le_raceadj_q1_F * tb.count_q1_F \n",
    "            + tb.le_raceadj_q2_F * tb.count_q2_F \n",
    "            + tb.le_raceadj_q3_F * tb.count_q3_F \n",
    "            + tb.le_raceadj_q4_F * tb.count_q4_F) / count_F\n",
    "tb['le'] = (le_M * count_M + le_F * count_F) / (count_M + count_F)"
   ]
  },
  {
   "cell_type": "code",
   "execution_count": 9,
   "metadata": {
    "collapsed": false
   },
   "outputs": [
    {
     "data": {
      "text/html": [
       "<div>\n",
       "<table border=\"1\" class=\"dataframe\">\n",
       "  <thead>\n",
       "    <tr style=\"text-align: right;\">\n",
       "      <th></th>\n",
       "      <th>cty</th>\n",
       "      <th>county_name</th>\n",
       "      <th>cty_pop2000</th>\n",
       "      <th>cz</th>\n",
       "      <th>cz_name</th>\n",
       "      <th>cz_pop2000</th>\n",
       "      <th>statename</th>\n",
       "      <th>state_id</th>\n",
       "      <th>stateabbrv</th>\n",
       "      <th>le_raceadj_q1_F</th>\n",
       "      <th>...</th>\n",
       "      <th>ccd_pup_tch_ratio</th>\n",
       "      <th>score_r</th>\n",
       "      <th>cs_educ_ba</th>\n",
       "      <th>e_rank_b</th>\n",
       "      <th>cs_fam_wkidsinglemom</th>\n",
       "      <th>crime_total</th>\n",
       "      <th>subcty_exp_pc</th>\n",
       "      <th>taxrate</th>\n",
       "      <th>tax_st_diff_top20</th>\n",
       "      <th>le</th>\n",
       "    </tr>\n",
       "  </thead>\n",
       "  <tbody>\n",
       "    <tr>\n",
       "      <th>0</th>\n",
       "      <td>1001</td>\n",
       "      <td>Autauga</td>\n",
       "      <td>43671</td>\n",
       "      <td>11101</td>\n",
       "      <td>Montgomery</td>\n",
       "      <td>367927.0</td>\n",
       "      <td>Alabama</td>\n",
       "      <td>1</td>\n",
       "      <td>AL</td>\n",
       "      <td>80.83063</td>\n",
       "      <td>...</td>\n",
       "      <td>19.715980</td>\n",
       "      <td>-7.308133</td>\n",
       "      <td>18.0</td>\n",
       "      <td>41.87288</td>\n",
       "      <td>0.191595</td>\n",
       "      <td>0.009353</td>\n",
       "      <td>1059.6690</td>\n",
       "      <td>0.011183</td>\n",
       "      <td>0.0</td>\n",
       "      <td>81.091187</td>\n",
       "    </tr>\n",
       "    <tr>\n",
       "      <th>1</th>\n",
       "      <td>1003</td>\n",
       "      <td>Baldwin</td>\n",
       "      <td>140415</td>\n",
       "      <td>11001</td>\n",
       "      <td>Mobile</td>\n",
       "      <td>599405.0</td>\n",
       "      <td>Alabama</td>\n",
       "      <td>1</td>\n",
       "      <td>AL</td>\n",
       "      <td>83.41104</td>\n",
       "      <td>...</td>\n",
       "      <td>16.850983</td>\n",
       "      <td>-13.628750</td>\n",
       "      <td>23.1</td>\n",
       "      <td>44.49239</td>\n",
       "      <td>0.186778</td>\n",
       "      <td>0.007371</td>\n",
       "      <td>2209.9100</td>\n",
       "      <td>0.011756</td>\n",
       "      <td>0.0</td>\n",
       "      <td>83.435263</td>\n",
       "    </tr>\n",
       "    <tr>\n",
       "      <th>2</th>\n",
       "      <td>1005</td>\n",
       "      <td>Barbour</td>\n",
       "      <td>29038</td>\n",
       "      <td>10301</td>\n",
       "      <td>Eufaula</td>\n",
       "      <td>61458.0</td>\n",
       "      <td>Alabama</td>\n",
       "      <td>1</td>\n",
       "      <td>AL</td>\n",
       "      <td>84.54345</td>\n",
       "      <td>...</td>\n",
       "      <td>16.656711</td>\n",
       "      <td>-15.955110</td>\n",
       "      <td>10.9</td>\n",
       "      <td>37.71876</td>\n",
       "      <td>0.337853</td>\n",
       "      <td>0.007749</td>\n",
       "      <td>1570.2480</td>\n",
       "      <td>0.012059</td>\n",
       "      <td>0.0</td>\n",
       "      <td>82.808376</td>\n",
       "    </tr>\n",
       "    <tr>\n",
       "      <th>3</th>\n",
       "      <td>1009</td>\n",
       "      <td>Blount</td>\n",
       "      <td>51024</td>\n",
       "      <td>10700</td>\n",
       "      <td>Birmingham</td>\n",
       "      <td>1038182.0</td>\n",
       "      <td>Alabama</td>\n",
       "      <td>1</td>\n",
       "      <td>AL</td>\n",
       "      <td>81.59277</td>\n",
       "      <td>...</td>\n",
       "      <td>19.323810</td>\n",
       "      <td>-10.218140</td>\n",
       "      <td>9.6</td>\n",
       "      <td>49.04332</td>\n",
       "      <td>0.121988</td>\n",
       "      <td>0.002019</td>\n",
       "      <td>987.4388</td>\n",
       "      <td>0.007012</td>\n",
       "      <td>0.0</td>\n",
       "      <td>82.485203</td>\n",
       "    </tr>\n",
       "    <tr>\n",
       "      <th>4</th>\n",
       "      <td>1015</td>\n",
       "      <td>Calhoun</td>\n",
       "      <td>112249</td>\n",
       "      <td>9600</td>\n",
       "      <td>LaGrange</td>\n",
       "      <td>457299.0</td>\n",
       "      <td>Alabama</td>\n",
       "      <td>1</td>\n",
       "      <td>AL</td>\n",
       "      <td>80.31331</td>\n",
       "      <td>...</td>\n",
       "      <td>19.376473</td>\n",
       "      <td>-7.025562</td>\n",
       "      <td>15.2</td>\n",
       "      <td>42.28995</td>\n",
       "      <td>0.242177</td>\n",
       "      <td>0.008780</td>\n",
       "      <td>1722.6160</td>\n",
       "      <td>0.011815</td>\n",
       "      <td>0.0</td>\n",
       "      <td>81.344830</td>\n",
       "    </tr>\n",
       "  </tbody>\n",
       "</table>\n",
       "<p>5 rows × 74 columns</p>\n",
       "</div>"
      ],
      "text/plain": [
       "    cty county_name  cty_pop2000     cz     cz_name  cz_pop2000 statename  \\\n",
       "0  1001     Autauga        43671  11101  Montgomery    367927.0   Alabama   \n",
       "1  1003     Baldwin       140415  11001      Mobile    599405.0   Alabama   \n",
       "2  1005     Barbour        29038  10301     Eufaula     61458.0   Alabama   \n",
       "3  1009      Blount        51024  10700  Birmingham   1038182.0   Alabama   \n",
       "4  1015     Calhoun       112249   9600    LaGrange    457299.0   Alabama   \n",
       "\n",
       "   state_id stateabbrv  le_raceadj_q1_F    ...      ccd_pup_tch_ratio  \\\n",
       "0         1         AL         80.83063    ...              19.715980   \n",
       "1         1         AL         83.41104    ...              16.850983   \n",
       "2         1         AL         84.54345    ...              16.656711   \n",
       "3         1         AL         81.59277    ...              19.323810   \n",
       "4         1         AL         80.31331    ...              19.376473   \n",
       "\n",
       "     score_r  cs_educ_ba  e_rank_b  cs_fam_wkidsinglemom  crime_total  \\\n",
       "0  -7.308133        18.0  41.87288              0.191595     0.009353   \n",
       "1 -13.628750        23.1  44.49239              0.186778     0.007371   \n",
       "2 -15.955110        10.9  37.71876              0.337853     0.007749   \n",
       "3 -10.218140         9.6  49.04332              0.121988     0.002019   \n",
       "4  -7.025562        15.2  42.28995              0.242177     0.008780   \n",
       "\n",
       "   subcty_exp_pc   taxrate  tax_st_diff_top20         le  \n",
       "0      1059.6690  0.011183                0.0  81.091187  \n",
       "1      2209.9100  0.011756                0.0  83.435263  \n",
       "2      1570.2480  0.012059                0.0  82.808376  \n",
       "3       987.4388  0.007012                0.0  82.485203  \n",
       "4      1722.6160  0.011815                0.0  81.344830  \n",
       "\n",
       "[5 rows x 74 columns]"
      ]
     },
     "execution_count": 9,
     "metadata": {},
     "output_type": "execute_result"
    }
   ],
   "source": [
    "tb.head(5)"
   ]
  },
  {
   "cell_type": "code",
   "execution_count": 10,
   "metadata": {
    "collapsed": false
   },
   "outputs": [
    {
     "data": {
      "text/plain": [
       "Index(['cty', 'county_name', 'cty_pop2000', 'cz', 'cz_name', 'cz_pop2000',\n",
       "       'statename', 'state_id', 'stateabbrv', 'le_raceadj_q1_F',\n",
       "       'le_raceadj_q2_F', 'le_raceadj_q3_F', 'le_raceadj_q4_F',\n",
       "       'le_raceadj_q1_M', 'le_raceadj_q2_M', 'le_raceadj_q3_M',\n",
       "       'le_raceadj_q4_M', 'count_q1_F', 'count_q2_F', 'count_q3_F',\n",
       "       'count_q4_F', 'count_q1_M', 'count_q2_M', 'count_q3_M', 'count_q4_M',\n",
       "       'intersects_msa', 'puninsured2010', 'reimb_penroll_adj10',\n",
       "       'mort_30day_hosp_z', 'adjmortmeas_amiall30day',\n",
       "       'adjmortmeas_chfall30day', 'adjmortmeas_pnall30day', 'med_prev_qual_z',\n",
       "       'primcarevis_10', 'diab_hemotest_10', 'diab_eyeexam_10',\n",
       "       'diab_lipids_10', 'mammogram_10', 'amb_disch_per1000_10',\n",
       "       'cs00_seg_inc', 'cs00_seg_inc_pov25', 'cs00_seg_inc_aff75',\n",
       "       'cs_race_theil_2000', 'gini99', 'poor_share', 'inc_share_1perc',\n",
       "       'frac_middleclass', 'scap_ski90pcm', 'rel_tot', 'cs_frac_black',\n",
       "       'cs_frac_hisp', 'unemp_rate', 'pop_d_2000_1980', 'lf_d_2000_1980',\n",
       "       'cs_labforce', 'cs_elf_ind_man', 'cs_born_foreign', 'mig_inflow',\n",
       "       'mig_outflow', 'pop_density', 'frac_traveltime_lt15', 'hhinc00',\n",
       "       'median_house_value', 'ccd_exp_tot', 'ccd_pup_tch_ratio', 'score_r',\n",
       "       'cs_educ_ba', 'e_rank_b', 'cs_fam_wkidsinglemom', 'crime_total',\n",
       "       'subcty_exp_pc', 'taxrate', 'tax_st_diff_top20', 'le'],\n",
       "      dtype='object')"
      ]
     },
     "execution_count": 10,
     "metadata": {},
     "output_type": "execute_result"
    }
   ],
   "source": [
    "tb.columns"
   ]
  },
  {
   "cell_type": "markdown",
   "metadata": {},
   "source": [
    "## In-depth analysis using machine learning"
   ]
  },
  {
   "cell_type": "markdown",
   "metadata": {},
   "source": [
    "### 1. Linear Regression"
   ]
  },
  {
   "cell_type": "code",
   "execution_count": 11,
   "metadata": {
    "collapsed": true
   },
   "outputs": [],
   "source": [
    "# Fitting Linear Regression using sklearn\n",
    "from sklearn.linear_model import LinearRegression"
   ]
  },
  {
   "cell_type": "code",
   "execution_count": 12,
   "metadata": {
    "collapsed": true
   },
   "outputs": [],
   "source": [
    "X = tb.loc[:, 'intersects_msa':'tax_st_diff_top20']\n",
    "y = tb['le']"
   ]
  },
  {
   "cell_type": "code",
   "execution_count": 13,
   "metadata": {
    "collapsed": false
   },
   "outputs": [
    {
     "data": {
      "text/plain": [
       "48"
      ]
     },
     "execution_count": 13,
     "metadata": {},
     "output_type": "execute_result"
    }
   ],
   "source": [
    "len(X.columns)"
   ]
  },
  {
   "cell_type": "markdown",
   "metadata": {},
   "source": [
    "#### 1) Use all 48 predictors to fit linear regression model"
   ]
  },
  {
   "cell_type": "code",
   "execution_count": 14,
   "metadata": {
    "collapsed": false
   },
   "outputs": [
    {
     "data": {
      "text/plain": [
       "LinearRegression(copy_X=True, fit_intercept=True, n_jobs=1, normalize=False)"
      ]
     },
     "execution_count": 14,
     "metadata": {},
     "output_type": "execute_result"
    }
   ],
   "source": [
    "# Creates a LinearRegression object\n",
    "lm = LinearRegression()\n",
    "lm.fit(X, y)"
   ]
  },
  {
   "cell_type": "markdown",
   "metadata": {},
   "source": [
    "#### Estimated intercept and coefficients"
   ]
  },
  {
   "cell_type": "code",
   "execution_count": 15,
   "metadata": {
    "collapsed": false,
    "scrolled": true
   },
   "outputs": [
    {
     "name": "stdout",
     "output_type": "stream",
     "text": [
      "Estimated intercept: 959153.711011\n",
      "Number of coefficients: 48\n"
     ]
    },
    {
     "data": {
      "text/html": [
       "<div>\n",
       "<table border=\"1\" class=\"dataframe\">\n",
       "  <thead>\n",
       "    <tr style=\"text-align: right;\">\n",
       "      <th></th>\n",
       "      <th>features</th>\n",
       "      <th>Coefficients</th>\n",
       "    </tr>\n",
       "  </thead>\n",
       "  <tbody>\n",
       "    <tr>\n",
       "      <th>0</th>\n",
       "      <td>intersects_msa</td>\n",
       "      <td>0.011047</td>\n",
       "    </tr>\n",
       "    <tr>\n",
       "      <th>1</th>\n",
       "      <td>puninsured2010</td>\n",
       "      <td>-0.012985</td>\n",
       "    </tr>\n",
       "    <tr>\n",
       "      <th>2</th>\n",
       "      <td>reimb_penroll_adj10</td>\n",
       "      <td>-0.000150</td>\n",
       "    </tr>\n",
       "    <tr>\n",
       "      <th>3</th>\n",
       "      <td>mort_30day_hosp_z</td>\n",
       "      <td>485.501828</td>\n",
       "    </tr>\n",
       "    <tr>\n",
       "      <th>4</th>\n",
       "      <td>adjmortmeas_amiall30day</td>\n",
       "      <td>-8377.776579</td>\n",
       "    </tr>\n",
       "    <tr>\n",
       "      <th>5</th>\n",
       "      <td>adjmortmeas_chfall30day</td>\n",
       "      <td>-11360.395276</td>\n",
       "    </tr>\n",
       "    <tr>\n",
       "      <th>6</th>\n",
       "      <td>adjmortmeas_pnall30day</td>\n",
       "      <td>-11116.467798</td>\n",
       "    </tr>\n",
       "    <tr>\n",
       "      <th>7</th>\n",
       "      <td>med_prev_qual_z</td>\n",
       "      <td>87409.622923</td>\n",
       "    </tr>\n",
       "    <tr>\n",
       "      <th>8</th>\n",
       "      <td>primcarevis_10</td>\n",
       "      <td>-2372.975639</td>\n",
       "    </tr>\n",
       "    <tr>\n",
       "      <th>9</th>\n",
       "      <td>diab_hemotest_10</td>\n",
       "      <td>-3170.275235</td>\n",
       "    </tr>\n",
       "    <tr>\n",
       "      <th>10</th>\n",
       "      <td>diab_eyeexam_10</td>\n",
       "      <td>-2651.556767</td>\n",
       "    </tr>\n",
       "    <tr>\n",
       "      <th>11</th>\n",
       "      <td>diab_lipids_10</td>\n",
       "      <td>-2770.796275</td>\n",
       "    </tr>\n",
       "    <tr>\n",
       "      <th>12</th>\n",
       "      <td>mammogram_10</td>\n",
       "      <td>-2337.870890</td>\n",
       "    </tr>\n",
       "    <tr>\n",
       "      <th>13</th>\n",
       "      <td>amb_disch_per1000_10</td>\n",
       "      <td>715.977670</td>\n",
       "    </tr>\n",
       "    <tr>\n",
       "      <th>14</th>\n",
       "      <td>cs00_seg_inc</td>\n",
       "      <td>28.292923</td>\n",
       "    </tr>\n",
       "    <tr>\n",
       "      <th>15</th>\n",
       "      <td>cs00_seg_inc_pov25</td>\n",
       "      <td>-15.989336</td>\n",
       "    </tr>\n",
       "    <tr>\n",
       "      <th>16</th>\n",
       "      <td>cs00_seg_inc_aff75</td>\n",
       "      <td>-12.066571</td>\n",
       "    </tr>\n",
       "    <tr>\n",
       "      <th>17</th>\n",
       "      <td>cs_race_theil_2000</td>\n",
       "      <td>0.555667</td>\n",
       "    </tr>\n",
       "    <tr>\n",
       "      <th>18</th>\n",
       "      <td>gini99</td>\n",
       "      <td>1.634356</td>\n",
       "    </tr>\n",
       "    <tr>\n",
       "      <th>19</th>\n",
       "      <td>poor_share</td>\n",
       "      <td>3.059537</td>\n",
       "    </tr>\n",
       "    <tr>\n",
       "      <th>20</th>\n",
       "      <td>inc_share_1perc</td>\n",
       "      <td>-1.843818</td>\n",
       "    </tr>\n",
       "    <tr>\n",
       "      <th>21</th>\n",
       "      <td>frac_middleclass</td>\n",
       "      <td>0.689857</td>\n",
       "    </tr>\n",
       "    <tr>\n",
       "      <th>22</th>\n",
       "      <td>scap_ski90pcm</td>\n",
       "      <td>0.079195</td>\n",
       "    </tr>\n",
       "    <tr>\n",
       "      <th>23</th>\n",
       "      <td>rel_tot</td>\n",
       "      <td>0.003270</td>\n",
       "    </tr>\n",
       "    <tr>\n",
       "      <th>24</th>\n",
       "      <td>cs_frac_black</td>\n",
       "      <td>0.017513</td>\n",
       "    </tr>\n",
       "    <tr>\n",
       "      <th>25</th>\n",
       "      <td>cs_frac_hisp</td>\n",
       "      <td>-0.016895</td>\n",
       "    </tr>\n",
       "    <tr>\n",
       "      <th>26</th>\n",
       "      <td>unemp_rate</td>\n",
       "      <td>4.847275</td>\n",
       "    </tr>\n",
       "    <tr>\n",
       "      <th>27</th>\n",
       "      <td>pop_d_2000_1980</td>\n",
       "      <td>-0.603381</td>\n",
       "    </tr>\n",
       "    <tr>\n",
       "      <th>28</th>\n",
       "      <td>lf_d_2000_1980</td>\n",
       "      <td>0.831644</td>\n",
       "    </tr>\n",
       "    <tr>\n",
       "      <th>29</th>\n",
       "      <td>cs_labforce</td>\n",
       "      <td>-0.757197</td>\n",
       "    </tr>\n",
       "    <tr>\n",
       "      <th>30</th>\n",
       "      <td>cs_elf_ind_man</td>\n",
       "      <td>0.629220</td>\n",
       "    </tr>\n",
       "    <tr>\n",
       "      <th>31</th>\n",
       "      <td>cs_born_foreign</td>\n",
       "      <td>-0.007156</td>\n",
       "    </tr>\n",
       "    <tr>\n",
       "      <th>32</th>\n",
       "      <td>mig_inflow</td>\n",
       "      <td>0.095567</td>\n",
       "    </tr>\n",
       "    <tr>\n",
       "      <th>33</th>\n",
       "      <td>mig_outflow</td>\n",
       "      <td>-4.871546</td>\n",
       "    </tr>\n",
       "    <tr>\n",
       "      <th>34</th>\n",
       "      <td>pop_density</td>\n",
       "      <td>-0.000041</td>\n",
       "    </tr>\n",
       "    <tr>\n",
       "      <th>35</th>\n",
       "      <td>frac_traveltime_lt15</td>\n",
       "      <td>-0.691147</td>\n",
       "    </tr>\n",
       "    <tr>\n",
       "      <th>36</th>\n",
       "      <td>hhinc00</td>\n",
       "      <td>-0.000003</td>\n",
       "    </tr>\n",
       "    <tr>\n",
       "      <th>37</th>\n",
       "      <td>median_house_value</td>\n",
       "      <td>0.000003</td>\n",
       "    </tr>\n",
       "    <tr>\n",
       "      <th>38</th>\n",
       "      <td>ccd_exp_tot</td>\n",
       "      <td>0.089851</td>\n",
       "    </tr>\n",
       "    <tr>\n",
       "      <th>39</th>\n",
       "      <td>ccd_pup_tch_ratio</td>\n",
       "      <td>0.051219</td>\n",
       "    </tr>\n",
       "    <tr>\n",
       "      <th>40</th>\n",
       "      <td>score_r</td>\n",
       "      <td>0.009274</td>\n",
       "    </tr>\n",
       "    <tr>\n",
       "      <th>41</th>\n",
       "      <td>cs_educ_ba</td>\n",
       "      <td>0.054562</td>\n",
       "    </tr>\n",
       "    <tr>\n",
       "      <th>42</th>\n",
       "      <td>e_rank_b</td>\n",
       "      <td>0.055063</td>\n",
       "    </tr>\n",
       "    <tr>\n",
       "      <th>43</th>\n",
       "      <td>cs_fam_wkidsinglemom</td>\n",
       "      <td>-5.347138</td>\n",
       "    </tr>\n",
       "    <tr>\n",
       "      <th>44</th>\n",
       "      <td>crime_total</td>\n",
       "      <td>-9.392645</td>\n",
       "    </tr>\n",
       "    <tr>\n",
       "      <th>45</th>\n",
       "      <td>subcty_exp_pc</td>\n",
       "      <td>0.000038</td>\n",
       "    </tr>\n",
       "    <tr>\n",
       "      <th>46</th>\n",
       "      <td>taxrate</td>\n",
       "      <td>-0.314776</td>\n",
       "    </tr>\n",
       "    <tr>\n",
       "      <th>47</th>\n",
       "      <td>tax_st_diff_top20</td>\n",
       "      <td>0.017120</td>\n",
       "    </tr>\n",
       "  </tbody>\n",
       "</table>\n",
       "</div>"
      ],
      "text/plain": [
       "                   features  Coefficients\n",
       "0            intersects_msa      0.011047\n",
       "1            puninsured2010     -0.012985\n",
       "2       reimb_penroll_adj10     -0.000150\n",
       "3         mort_30day_hosp_z    485.501828\n",
       "4   adjmortmeas_amiall30day  -8377.776579\n",
       "5   adjmortmeas_chfall30day -11360.395276\n",
       "6    adjmortmeas_pnall30day -11116.467798\n",
       "7           med_prev_qual_z  87409.622923\n",
       "8            primcarevis_10  -2372.975639\n",
       "9          diab_hemotest_10  -3170.275235\n",
       "10          diab_eyeexam_10  -2651.556767\n",
       "11           diab_lipids_10  -2770.796275\n",
       "12             mammogram_10  -2337.870890\n",
       "13     amb_disch_per1000_10    715.977670\n",
       "14             cs00_seg_inc     28.292923\n",
       "15       cs00_seg_inc_pov25    -15.989336\n",
       "16       cs00_seg_inc_aff75    -12.066571\n",
       "17       cs_race_theil_2000      0.555667\n",
       "18                   gini99      1.634356\n",
       "19               poor_share      3.059537\n",
       "20          inc_share_1perc     -1.843818\n",
       "21         frac_middleclass      0.689857\n",
       "22            scap_ski90pcm      0.079195\n",
       "23                  rel_tot      0.003270\n",
       "24            cs_frac_black      0.017513\n",
       "25             cs_frac_hisp     -0.016895\n",
       "26               unemp_rate      4.847275\n",
       "27          pop_d_2000_1980     -0.603381\n",
       "28           lf_d_2000_1980      0.831644\n",
       "29              cs_labforce     -0.757197\n",
       "30           cs_elf_ind_man      0.629220\n",
       "31          cs_born_foreign     -0.007156\n",
       "32               mig_inflow      0.095567\n",
       "33              mig_outflow     -4.871546\n",
       "34              pop_density     -0.000041\n",
       "35     frac_traveltime_lt15     -0.691147\n",
       "36                  hhinc00     -0.000003\n",
       "37       median_house_value      0.000003\n",
       "38              ccd_exp_tot      0.089851\n",
       "39        ccd_pup_tch_ratio      0.051219\n",
       "40                  score_r      0.009274\n",
       "41               cs_educ_ba      0.054562\n",
       "42                 e_rank_b      0.055063\n",
       "43     cs_fam_wkidsinglemom     -5.347138\n",
       "44              crime_total     -9.392645\n",
       "45            subcty_exp_pc      0.000038\n",
       "46                  taxrate     -0.314776\n",
       "47        tax_st_diff_top20      0.017120"
      ]
     },
     "execution_count": 15,
     "metadata": {},
     "output_type": "execute_result"
    }
   ],
   "source": [
    "print('Estimated intercept:', lm.intercept_)\n",
    "print('Number of coefficients:', len(lm.coef_))\n",
    "pd.DataFrame(list(zip(X.columns, lm.coef_)), columns = ['features', 'Coefficients'])"
   ]
  },
  {
   "cell_type": "markdown",
   "metadata": {},
   "source": [
    "We can see that some features have much higher coefficients: \n",
    "mort_30day_hosp_z, adjmortmeas_amiall30day, adjmortmeas_chfall30day, adjmortmeas_pnall30day, med_prev_qual_z, primcarevis_10, diab_hemotest_10, diab_eyeexam_10, diab_lipids_10, mammogram_10, amb_disch_per1000_10 "
   ]
  },
  {
   "cell_type": "code",
   "execution_count": 16,
   "metadata": {
    "collapsed": false
   },
   "outputs": [
    {
     "name": "stdout",
     "output_type": "stream",
     "text": [
      "Coefficient of determination R^2 of the prediction: 0.809854570817\n"
     ]
    }
   ],
   "source": [
    "print('Coefficient of determination R^2 of the prediction:', lm.score(X,y))"
   ]
  },
  {
   "cell_type": "markdown",
   "metadata": {},
   "source": [
    "#### Predict Life Expectancy"
   ]
  },
  {
   "cell_type": "code",
   "execution_count": 17,
   "metadata": {
    "collapsed": false
   },
   "outputs": [
    {
     "data": {
      "text/plain": [
       "<matplotlib.text.Text at 0x7fb5b9ecf358>"
      ]
     },
     "execution_count": 17,
     "metadata": {},
     "output_type": "execute_result"
    },
    {
     "data": {
      "image/png": "[encoded data removed]",
      "text/plain": [
       "<matplotlib.figure.Figure at 0x7fb5bd60ad68>"
      ]
     },
     "metadata": {},
     "output_type": "display_data"
    }
   ],
   "source": [
    "# Plot a histogram of all the predicted prices\n",
    "plt.hist(lm.predict(X))\n",
    "plt.title('Predicted Life Expectancy')\n",
    "plt.xlabel('Life Expectancy')\n",
    "plt.ylabel('Frequency')"
   ]
  },
  {
   "cell_type": "code",
   "execution_count": 18,
   "metadata": {
    "collapsed": false
   },
   "outputs": [
    {
     "data": {
      "text/plain": [
       "<matplotlib.text.Text at 0x7fb5b9d7c4a8>"
      ]
     },
     "execution_count": 18,
     "metadata": {},
     "output_type": "execute_result"
    },
    {
     "data": {
      "image/png": "[encoded data removed]",
      "text/plain": [
       "<matplotlib.figure.Figure at 0x7fb5f062c9b0>"
      ]
     },
     "metadata": {},
     "output_type": "display_data"
    }
   ],
   "source": [
    "# True prices compared to the predicted prices\n",
    "plt.plot(y, lm.predict(X), 'b.')\n",
    "plt.xlabel('Life Expectancy')\n",
    "plt.ylabel('Predicted Life Expectancy')\n",
    "plt.title('Life Expectancy vs Predicted Life Expectancy')"
   ]
  },
  {
   "cell_type": "markdown",
   "metadata": {},
   "source": [
    "##### Residual sum of squares"
   ]
  },
  {
   "cell_type": "code",
   "execution_count": 19,
   "metadata": {
    "collapsed": false
   },
   "outputs": [
    {
     "name": "stdout",
     "output_type": "stream",
     "text": [
      "419.52570040304505\n"
     ]
    }
   ],
   "source": [
    "print(np.sum((y - lm.predict(X)) ** 2))"
   ]
  },
  {
   "cell_type": "markdown",
   "metadata": {},
   "source": [
    "##### Mean squared error"
   ]
  },
  {
   "cell_type": "code",
   "execution_count": 20,
   "metadata": {
    "collapsed": false
   },
   "outputs": [
    {
     "name": "stdout",
     "output_type": "stream",
     "text": [
      "0.29093321803262484\n"
     ]
    }
   ],
   "source": [
    "print(np.mean((y - lm.predict(X)) ** 2))"
   ]
  },
  {
   "cell_type": "markdown",
   "metadata": {},
   "source": [
    "#### 2) Use some predictors to fit linear regression model"
   ]
  },
  {
   "cell_type": "code",
   "execution_count": 21,
   "metadata": {
    "collapsed": true
   },
   "outputs": [],
   "source": [
    "# Use features with high coefficient in last model\n",
    "X1 = tb.loc[:, 'mort_30day_hosp_z':'amb_disch_per1000_10']"
   ]
  },
  {
   "cell_type": "code",
   "execution_count": 22,
   "metadata": {
    "collapsed": false
   },
   "outputs": [
    {
     "data": {
      "text/plain": [
       "LinearRegression(copy_X=True, fit_intercept=True, n_jobs=1, normalize=False)"
      ]
     },
     "execution_count": 22,
     "metadata": {},
     "output_type": "execute_result"
    }
   ],
   "source": [
    "lm1 = LinearRegression()\n",
    "lm1.fit(X1, y)"
   ]
  },
  {
   "cell_type": "markdown",
   "metadata": {},
   "source": [
    "#### Estimated intercept and coefficients"
   ]
  },
  {
   "cell_type": "code",
   "execution_count": 23,
   "metadata": {
    "collapsed": false
   },
   "outputs": [
    {
     "name": "stdout",
     "output_type": "stream",
     "text": [
      "Estimated intercept: 22240.0846427\n",
      "Number of coefficients: 11\n"
     ]
    },
    {
     "data": {
      "text/html": [
       "<div>\n",
       "<table border=\"1\" class=\"dataframe\">\n",
       "  <thead>\n",
       "    <tr style=\"text-align: right;\">\n",
       "      <th></th>\n",
       "      <th>features</th>\n",
       "      <th>Coefficients</th>\n",
       "    </tr>\n",
       "  </thead>\n",
       "  <tbody>\n",
       "    <tr>\n",
       "      <th>0</th>\n",
       "      <td>mort_30day_hosp_z</td>\n",
       "      <td>-4197.936425</td>\n",
       "    </tr>\n",
       "    <tr>\n",
       "      <th>1</th>\n",
       "      <td>adjmortmeas_amiall30day</td>\n",
       "      <td>72400.158879</td>\n",
       "    </tr>\n",
       "    <tr>\n",
       "      <th>2</th>\n",
       "      <td>adjmortmeas_chfall30day</td>\n",
       "      <td>98240.638894</td>\n",
       "    </tr>\n",
       "    <tr>\n",
       "      <th>3</th>\n",
       "      <td>adjmortmeas_pnall30day</td>\n",
       "      <td>96068.471768</td>\n",
       "    </tr>\n",
       "    <tr>\n",
       "      <th>4</th>\n",
       "      <td>med_prev_qual_z</td>\n",
       "      <td>5015.076497</td>\n",
       "    </tr>\n",
       "    <tr>\n",
       "      <th>5</th>\n",
       "      <td>primcarevis_10</td>\n",
       "      <td>-136.172774</td>\n",
       "    </tr>\n",
       "    <tr>\n",
       "      <th>6</th>\n",
       "      <td>diab_hemotest_10</td>\n",
       "      <td>-181.877852</td>\n",
       "    </tr>\n",
       "    <tr>\n",
       "      <th>7</th>\n",
       "      <td>diab_eyeexam_10</td>\n",
       "      <td>-152.110288</td>\n",
       "    </tr>\n",
       "    <tr>\n",
       "      <th>8</th>\n",
       "      <td>diab_lipids_10</td>\n",
       "      <td>-158.974517</td>\n",
       "    </tr>\n",
       "    <tr>\n",
       "      <th>9</th>\n",
       "      <td>mammogram_10</td>\n",
       "      <td>-134.080626</td>\n",
       "    </tr>\n",
       "    <tr>\n",
       "      <th>10</th>\n",
       "      <td>amb_disch_per1000_10</td>\n",
       "      <td>41.064434</td>\n",
       "    </tr>\n",
       "  </tbody>\n",
       "</table>\n",
       "</div>"
      ],
      "text/plain": [
       "                   features  Coefficients\n",
       "0         mort_30day_hosp_z  -4197.936425\n",
       "1   adjmortmeas_amiall30day  72400.158879\n",
       "2   adjmortmeas_chfall30day  98240.638894\n",
       "3    adjmortmeas_pnall30day  96068.471768\n",
       "4           med_prev_qual_z   5015.076497\n",
       "5            primcarevis_10   -136.172774\n",
       "6          diab_hemotest_10   -181.877852\n",
       "7           diab_eyeexam_10   -152.110288\n",
       "8            diab_lipids_10   -158.974517\n",
       "9              mammogram_10   -134.080626\n",
       "10     amb_disch_per1000_10     41.064434"
      ]
     },
     "execution_count": 23,
     "metadata": {},
     "output_type": "execute_result"
    }
   ],
   "source": [
    "print('Estimated intercept:', lm1.intercept_)\n",
    "print('Number of coefficients:', len(lm1.coef_))\n",
    "pd.DataFrame(list(zip(X1.columns, lm1.coef_)), columns = ['features', 'Coefficients'])"
   ]
  },
  {
   "cell_type": "markdown",
   "metadata": {},
   "source": [
    "We can see that some features have much higher coefficients: mort_30day_hosp_z, adjmortmeas_amiall30day, adjmortmeas_chfall30day, adjmortmeas_pnall30day, med_prev_qual_z"
   ]
  },
  {
   "cell_type": "code",
   "execution_count": 24,
   "metadata": {
    "collapsed": false
   },
   "outputs": [
    {
     "name": "stdout",
     "output_type": "stream",
     "text": [
      "Coefficient of determination R^2 of the prediction: 0.549892244786\n"
     ]
    }
   ],
   "source": [
    "print('Coefficient of determination R^2 of the prediction:', lm1.score(X1,y))"
   ]
  },
  {
   "cell_type": "markdown",
   "metadata": {},
   "source": [
    "It seems that this model is more accurate."
   ]
  },
  {
   "cell_type": "markdown",
   "metadata": {},
   "source": [
    "#### Predict Life Expectancy"
   ]
  },
  {
   "cell_type": "code",
   "execution_count": 26,
   "metadata": {
    "collapsed": false
   },
   "outputs": [
    {
     "data": {
      "text/plain": [
       "<matplotlib.text.Text at 0x7fb5b9b0d400>"
      ]
     },
     "execution_count": 26,
     "metadata": {},
     "output_type": "execute_result"
    },
    {
     "data": {
      "image/png": "[encoded data removed]",
      "text/plain": [
       "<matplotlib.figure.Figure at 0x7fb5b9b2def0>"
      ]
     },
     "metadata": {},
     "output_type": "display_data"
    }
   ],
   "source": [
    "# Plot a histogram of all the predicted prices\n",
    "plt.hist(lm1.predict(X1))\n",
    "plt.title('Predicted Life Expectancy')\n",
    "plt.xlabel('Life Expectancy')\n",
    "plt.ylabel('Frequency')"
   ]
  },
  {
   "cell_type": "code",
   "execution_count": 27,
   "metadata": {
    "collapsed": false
   },
   "outputs": [
    {
     "data": {
      "text/plain": [
       "<matplotlib.text.Text at 0x7fb5b99fea90>"
      ]
     },
     "execution_count": 27,
     "metadata": {},
     "output_type": "execute_result"
    },
    {
     "data": {
      "image/png": "[encoded data removed]",
      "text/plain": [
       "<matplotlib.figure.Figure at 0x7fb5b9c90ac8>"
      ]
     },
     "metadata": {},
     "output_type": "display_data"
    }
   ],
   "source": [
    "# True prices compared to the predicted prices\n",
    "plt.plot(y, lm1.predict(X1), 'b.')\n",
    "plt.xlabel('Life Expectancy')\n",
    "plt.ylabel('Predicted Life Expectancy')\n",
    "plt.title('Life Expectancy vs Predicted Life Expectancy')"
   ]
  },
  {
   "cell_type": "markdown",
   "metadata": {},
   "source": [
    "##### Residual sum of squares"
   ]
  },
  {
   "cell_type": "code",
   "execution_count": 29,
   "metadata": {
    "collapsed": false
   },
   "outputs": [
    {
     "name": "stdout",
     "output_type": "stream",
     "text": [
      "993.091298980959\n"
     ]
    }
   ],
   "source": [
    "print(np.sum((y - lm1.predict(X1)) ** 2))"
   ]
  },
  {
   "cell_type": "markdown",
   "metadata": {},
   "source": [
    "##### Mean squared error"
   ]
  },
  {
   "cell_type": "code",
   "execution_count": 30,
   "metadata": {
    "collapsed": false
   },
   "outputs": [
    {
     "name": "stdout",
     "output_type": "stream",
     "text": [
      "0.6886902212073225\n"
     ]
    }
   ],
   "source": [
    "print(np.mean((y - lm1.predict(X1)) ** 2))"
   ]
  },
  {
   "cell_type": "markdown",
   "metadata": {},
   "source": [
    "#### 3) Use less predictors to fit linear regression model"
   ]
  },
  {
   "cell_type": "code",
   "execution_count": 31,
   "metadata": {
    "collapsed": false
   },
   "outputs": [
    {
     "data": {
      "text/plain": [
       "LinearRegression(copy_X=True, fit_intercept=True, n_jobs=1, normalize=False)"
      ]
     },
     "execution_count": 31,
     "metadata": {},
     "output_type": "execute_result"
    }
   ],
   "source": [
    "# Use less features with high coefficient in last model\n",
    "X2 = tb.loc[:, 'mort_30day_hosp_z':'med_prev_qual_z']\n",
    "lm2 = LinearRegression()\n",
    "lm2.fit(X2, y)"
   ]
  },
  {
   "cell_type": "markdown",
   "metadata": {},
   "source": [
    "#### Estimated intercept and coefficients"
   ]
  },
  {
   "cell_type": "code",
   "execution_count": 32,
   "metadata": {
    "collapsed": false
   },
   "outputs": [
    {
     "name": "stdout",
     "output_type": "stream",
     "text": [
      "Estimated intercept: -86211.5763363\n",
      "Number of coefficients: 5\n"
     ]
    },
    {
     "data": {
      "text/html": [
       "<div>\n",
       "<table border=\"1\" class=\"dataframe\">\n",
       "  <thead>\n",
       "    <tr style=\"text-align: right;\">\n",
       "      <th></th>\n",
       "      <th>features</th>\n",
       "      <th>Coefficients</th>\n",
       "    </tr>\n",
       "  </thead>\n",
       "  <tbody>\n",
       "    <tr>\n",
       "      <th>0</th>\n",
       "      <td>mort_30day_hosp_z</td>\n",
       "      <td>-11095.020596</td>\n",
       "    </tr>\n",
       "    <tr>\n",
       "      <th>1</th>\n",
       "      <td>adjmortmeas_amiall30day</td>\n",
       "      <td>191358.882161</td>\n",
       "    </tr>\n",
       "    <tr>\n",
       "      <th>2</th>\n",
       "      <td>adjmortmeas_chfall30day</td>\n",
       "      <td>259643.902280</td>\n",
       "    </tr>\n",
       "    <tr>\n",
       "      <th>3</th>\n",
       "      <td>adjmortmeas_pnall30day</td>\n",
       "      <td>253922.428573</td>\n",
       "    </tr>\n",
       "    <tr>\n",
       "      <th>4</th>\n",
       "      <td>med_prev_qual_z</td>\n",
       "      <td>0.817841</td>\n",
       "    </tr>\n",
       "  </tbody>\n",
       "</table>\n",
       "</div>"
      ],
      "text/plain": [
       "                  features   Coefficients\n",
       "0        mort_30day_hosp_z  -11095.020596\n",
       "1  adjmortmeas_amiall30day  191358.882161\n",
       "2  adjmortmeas_chfall30day  259643.902280\n",
       "3   adjmortmeas_pnall30day  253922.428573\n",
       "4          med_prev_qual_z       0.817841"
      ]
     },
     "execution_count": 32,
     "metadata": {},
     "output_type": "execute_result"
    }
   ],
   "source": [
    "print('Estimated intercept:', lm2.intercept_)\n",
    "print('Number of coefficients:', len(lm2.coef_))\n",
    "pd.DataFrame(list(zip(X2.columns, lm2.coef_)), columns = ['features', 'Coefficients'])"
   ]
  },
  {
   "cell_type": "code",
   "execution_count": 33,
   "metadata": {
    "collapsed": false
   },
   "outputs": [
    {
     "name": "stdout",
     "output_type": "stream",
     "text": [
      "Coefficient of determination R^2 of the prediction: 0.42827888731\n"
     ]
    }
   ],
   "source": [
    "print('Coefficient of determination R^2 of the prediction:', lm2.score(X2,y))"
   ]
  },
  {
   "cell_type": "markdown",
   "metadata": {},
   "source": [
    "#### Predict Life Expectancy"
   ]
  },
  {
   "cell_type": "code",
   "execution_count": 34,
   "metadata": {
    "collapsed": false
   },
   "outputs": [
    {
     "data": {
      "text/plain": [
       "<matplotlib.text.Text at 0x7fb5b9972780>"
      ]
     },
     "execution_count": 34,
     "metadata": {},
     "output_type": "execute_result"
    },
    {
     "data": {
      "image/png": "[encoded data removed]",
      "text/plain": [
       "<matplotlib.figure.Figure at 0x7fb5b9a3e358>"
      ]
     },
     "metadata": {},
     "output_type": "display_data"
    }
   ],
   "source": [
    "# Plot a histogram of all the predicted prices\n",
    "plt.hist(lm2.predict(X2))\n",
    "plt.title('Predicted Life Expectancy')\n",
    "plt.xlabel('Life Expectancy')\n",
    "plt.ylabel('Frequency')"
   ]
  },
  {
   "cell_type": "code",
   "execution_count": 35,
   "metadata": {
    "collapsed": false
   },
   "outputs": [
    {
     "data": {
      "text/plain": [
       "<matplotlib.text.Text at 0x7fb5b98df390>"
      ]
     },
     "execution_count": 35,
     "metadata": {},
     "output_type": "execute_result"
    },
    {
     "data": {
      "image/png": "[encoded data removed]",
      "text/plain": [
       "<matplotlib.figure.Figure at 0x7fb5b9e46cc0>"
      ]
     },
     "metadata": {},
     "output_type": "display_data"
    }
   ],
   "source": [
    "# True prices compared to the predicted prices\n",
    "plt.plot(y, lm2.predict(X2), 'b.')\n",
    "plt.xlabel('Life Expectancy')\n",
    "plt.ylabel('Predicted Life Expectancy')\n",
    "plt.title('Life Expectancy vs Predicted Life Expectancy')"
   ]
  },
  {
   "cell_type": "markdown",
   "metadata": {},
   "source": [
    "##### Residual sum of squares"
   ]
  },
  {
   "cell_type": "code",
   "execution_count": 36,
   "metadata": {
    "collapsed": false
   },
   "outputs": [
    {
     "name": "stdout",
     "output_type": "stream",
     "text": [
      "1261.4118638922619\n"
     ]
    }
   ],
   "source": [
    "print(np.sum((y - lm2.predict(X2)) ** 2))"
   ]
  },
  {
   "cell_type": "markdown",
   "metadata": {},
   "source": [
    "##### Mean squared error"
   ]
  },
  {
   "cell_type": "code",
   "execution_count": 38,
   "metadata": {
    "collapsed": false
   },
   "outputs": [
    {
     "name": "stdout",
     "output_type": "stream",
     "text": [
      "0.8747655089405422\n"
     ]
    }
   ],
   "source": [
    "print(np.mean((y - lm2.predict(X2)) ** 2))"
   ]
  },
  {
   "cell_type": "code",
   "execution_count": 39,
   "metadata": {
    "collapsed": false
   },
   "outputs": [
    {
     "data": {
      "text/plain": [
       "<seaborn.axisgrid.FacetGrid at 0x7fb5b99e5160>"
      ]
     },
     "execution_count": 39,
     "metadata": {},
     "output_type": "execute_result"
    },
    {
     "data": {
      "image/png": "[encoded data removed]",
      "text/plain": [
       "<matplotlib.figure.Figure at 0x7fb5b98cccc0>"
      ]
     },
     "metadata": {},
     "output_type": "display_data"
    }
   ],
   "source": [
    "sns.lmplot(x='adjmortmeas_chfall30day', y='le', data=tb)"
   ]
  },
  {
   "cell_type": "markdown",
   "metadata": {},
   "source": [
    "#### 4) Training and Test Data sets"
   ]
  },
  {
   "cell_type": "code",
   "execution_count": 40,
   "metadata": {
    "collapsed": false
   },
   "outputs": [
    {
     "name": "stdout",
     "output_type": "stream",
     "text": [
      "(1153, 11)\n",
      "(289, 11)\n",
      "(1153,)\n",
      "(289,)\n"
     ]
    }
   ],
   "source": [
    "# Split dataset\n",
    "from sklearn.model_selection import train_test_split\n",
    "X_train, X_test, y_train, y_test = train_test_split(X1, y, test_size=0.2, random_state = 5)\n",
    "print(X_train.shape)\n",
    "print(X_test.shape)\n",
    "print(y_train.shape)\n",
    "print(y_test.shape)"
   ]
  },
  {
   "cell_type": "code",
   "execution_count": 41,
   "metadata": {
    "collapsed": true
   },
   "outputs": [],
   "source": [
    "# Build a linear regression model using training data sets\n",
    "lm = LinearRegression()\n",
    "lm.fit(X_train, y_train)\n",
    "pred_train = lm.predict(X_train)\n",
    "pred_test = lm.predict(X_test)"
   ]
  },
  {
   "cell_type": "code",
   "execution_count": 43,
   "metadata": {
    "collapsed": false
   },
   "outputs": [
    {
     "name": "stdout",
     "output_type": "stream",
     "text": [
      "Fit a model X_train, and calculate MSE with y_train: 0.6787970323495132\n",
      "Fit a model X_train, and calculate MSE with X_test, y_test: 0.7386137567040068\n"
     ]
    }
   ],
   "source": [
    "# Calculate the mean squared error\n",
    "print(\"Fit a model X_train, and calculate MSE with y_train:\", np.mean((y_train - pred_train) ** 2))\n",
    "print(\"Fit a model X_train, and calculate MSE with X_test, y_test:\", np.mean((y_test - pred_test) ** 2))"
   ]
  },
  {
   "cell_type": "markdown",
   "metadata": {},
   "source": [
    "##### Residual plots"
   ]
  },
  {
   "cell_type": "code",
   "execution_count": 50,
   "metadata": {
    "collapsed": false
   },
   "outputs": [
    {
     "data": {
      "text/plain": [
       "<matplotlib.text.Text at 0x7fb5b94094a8>"
      ]
     },
     "execution_count": 50,
     "metadata": {},
     "output_type": "execute_result"
    },
    {
     "data": {
      "image/png": "[encoded data removed]",
      "text/plain": [
       "<matplotlib.figure.Figure at 0x7fb5b9413668>"
      ]
     },
     "metadata": {},
     "output_type": "display_data"
    }
   ],
   "source": [
    "plt.scatter(pred_train, pred_train - y_train, c='b', s=20, alpha=0.4)\n",
    "plt.scatter(pred_test, pred_test - y_test, c='g', s=20, alpha=0.8)\n",
    "plt.hlines(y = 0, xmin=78, xmax = 86)\n",
    "plt.title('Residual Plot using training (blue) and test (green) data')\n",
    "plt.ylabel('Residuals')"
   ]
  },
  {
   "cell_type": "code",
   "execution_count": null,
   "metadata": {
    "collapsed": true
   },
   "outputs": [],
   "source": []
  },
  {
   "cell_type": "code",
   "execution_count": null,
   "metadata": {
    "collapsed": true
   },
   "outputs": [],
   "source": []
  },
  {
   "cell_type": "markdown",
   "metadata": {},
   "source": [
    "### 2. Support Vector Machines"
   ]
  },
  {
   "cell_type": "code",
   "execution_count": null,
   "metadata": {
    "collapsed": true
   },
   "outputs": [],
   "source": []
  },
  {
   "cell_type": "markdown",
   "metadata": {},
   "source": [
    "### 3. Random Forests"
   ]
  },
  {
   "cell_type": "code",
   "execution_count": null,
   "metadata": {
    "collapsed": true
   },
   "outputs": [],
   "source": []
  },
  {
   "cell_type": "code",
   "execution_count": null,
   "metadata": {
    "collapsed": true
   },
   "outputs": [],
   "source": []
  }
 ],
 "metadata": {
  "kernelspec": {
   "display_name": "Python 3",
   "language": "python",
   "name": "python3"
  },
  "language_info": {
   "codemirror_mode": {
    "name": "ipython",
    "version": 3
   },
   "file_extension": ".py",
   "mimetype": "text/x-python",
   "name": "python",
   "nbconvert_exporter": "python",
   "pygments_lexer": "ipython3",
   "version": "3.6.0"
  }
 },
 "nbformat": 4,
 "nbformat_minor": 2
}
