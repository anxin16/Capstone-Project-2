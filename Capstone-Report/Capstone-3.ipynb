{
 "cells": [
  {
   "cell_type": "markdown",
   "metadata": {},
   "source": [
    "# Capstone report"
   ]
  },
  {
   "cell_type": "markdown",
   "metadata": {},
   "source": [
    "## Preliminaries"
   ]
  },
  {
   "cell_type": "code",
   "execution_count": 1,
   "metadata": {
    "collapsed": true
   },
   "outputs": [],
   "source": [
    "import numpy as np\n",
    "import pandas as pd\n",
    "import matplotlib.pyplot as plt\n",
    "import seaborn as sns\n",
    "%matplotlib inline"
   ]
  },
  {
   "cell_type": "markdown",
   "metadata": {},
   "source": [
    "## Prepare Dataset"
   ]
  },
  {
   "cell_type": "markdown",
   "metadata": {},
   "source": [
    "Merge table 11 and table 12"
   ]
  },
  {
   "cell_type": "code",
   "execution_count": 2,
   "metadata": {
    "collapsed": true
   },
   "outputs": [],
   "source": [
    "# read table 11 and 12\n",
    "tb11 = pd.read_csv('table_11.csv', index_col=None)\n",
    "tb12 = pd.read_csv('table_12.csv', index_col=None)"
   ]
  },
  {
   "cell_type": "code",
   "execution_count": 3,
   "metadata": {
    "collapsed": false
   },
   "outputs": [],
   "source": [
    "# merge table 11 and 12 by County ID\n",
    "ntb11 = tb11.drop(tb11.columns[1:9], axis=1)\n",
    "tb = pd.merge(tb12, ntb11, how='inner', on='cty')"
   ]
  },
  {
   "cell_type": "code",
   "execution_count": 4,
   "metadata": {
    "collapsed": true
   },
   "outputs": [],
   "source": [
    "tb.to_csv('table_11-12.csv', index=False)"
   ]
  },
  {
   "cell_type": "code",
   "execution_count": 5,
   "metadata": {
    "collapsed": false
   },
   "outputs": [
    {
     "data": {
      "text/plain": [
       "Index(['cty', 'county_name', 'cty_pop2000', 'cz', 'cz_name', 'cz_pop2000',\n",
       "       'statename', 'state_id', 'stateabbrv', 'intersects_msa', 'cur_smoke_q1',\n",
       "       'cur_smoke_q2', 'cur_smoke_q3', 'cur_smoke_q4', 'bmi_obese_q1',\n",
       "       'bmi_obese_q2', 'bmi_obese_q3', 'bmi_obese_q4', 'exercise_any_q1',\n",
       "       'exercise_any_q2', 'exercise_any_q3', 'exercise_any_q4',\n",
       "       'puninsured2010', 'reimb_penroll_adj10', 'mort_30day_hosp_z',\n",
       "       'adjmortmeas_amiall30day', 'adjmortmeas_chfall30day',\n",
       "       'adjmortmeas_pnall30day', 'med_prev_qual_z', 'primcarevis_10',\n",
       "       'diab_hemotest_10', 'diab_eyeexam_10', 'diab_lipids_10', 'mammogram_10',\n",
       "       'amb_disch_per1000_10', 'cs00_seg_inc', 'cs00_seg_inc_pov25',\n",
       "       'cs00_seg_inc_aff75', 'cs_race_theil_2000', 'gini99', 'poor_share',\n",
       "       'inc_share_1perc', 'frac_middleclass', 'scap_ski90pcm', 'rel_tot',\n",
       "       'cs_frac_black', 'cs_frac_hisp', 'unemp_rate', 'pop_d_2000_1980',\n",
       "       'lf_d_2000_1980', 'cs_labforce', 'cs_elf_ind_man', 'cs_born_foreign',\n",
       "       'mig_inflow', 'mig_outflow', 'pop_density', 'frac_traveltime_lt15',\n",
       "       'hhinc00', 'median_house_value', 'ccd_exp_tot', 'ccd_pup_tch_ratio',\n",
       "       'score_r', 'dropout_r', 'cs_educ_ba', 'e_rank_b',\n",
       "       'cs_fam_wkidsinglemom', 'crime_total', 'subcty_exp_pc', 'taxrate',\n",
       "       'tax_st_diff_top20', 'le_raceadj_q1_F', 'le_raceadj_q2_F',\n",
       "       'le_raceadj_q3_F', 'le_raceadj_q4_F', 'le_raceadj_q1_M',\n",
       "       'le_raceadj_q2_M', 'le_raceadj_q3_M', 'le_raceadj_q4_M', 'count_q1_F',\n",
       "       'count_q2_F', 'count_q3_F', 'count_q4_F', 'count_q1_M', 'count_q2_M',\n",
       "       'count_q3_M', 'count_q4_M'],\n",
       "      dtype='object')"
      ]
     },
     "execution_count": 5,
     "metadata": {},
     "output_type": "execute_result"
    }
   ],
   "source": [
    "tb.columns"
   ]
  },
  {
   "cell_type": "code",
   "execution_count": 6,
   "metadata": {
    "collapsed": false
   },
   "outputs": [
    {
     "data": {
      "text/plain": [
       "1073"
      ]
     },
     "execution_count": 6,
     "metadata": {},
     "output_type": "execute_result"
    }
   ],
   "source": [
    "len(tb)"
   ]
  },
  {
   "cell_type": "code",
   "execution_count": 7,
   "metadata": {
    "collapsed": false
   },
   "outputs": [
    {
     "data": {
      "text/html": [
       "<div>\n",
       "<table border=\"1\" class=\"dataframe\">\n",
       "  <thead>\n",
       "    <tr style=\"text-align: right;\">\n",
       "      <th></th>\n",
       "      <th>cty</th>\n",
       "      <th>county_name</th>\n",
       "      <th>cty_pop2000</th>\n",
       "      <th>cz</th>\n",
       "      <th>cz_name</th>\n",
       "      <th>cz_pop2000</th>\n",
       "      <th>statename</th>\n",
       "      <th>state_id</th>\n",
       "      <th>stateabbrv</th>\n",
       "      <th>intersects_msa</th>\n",
       "      <th>...</th>\n",
       "      <th>le_raceadj_q3_M</th>\n",
       "      <th>le_raceadj_q4_M</th>\n",
       "      <th>count_q1_F</th>\n",
       "      <th>count_q2_F</th>\n",
       "      <th>count_q3_F</th>\n",
       "      <th>count_q4_F</th>\n",
       "      <th>count_q1_M</th>\n",
       "      <th>count_q2_M</th>\n",
       "      <th>count_q3_M</th>\n",
       "      <th>count_q4_M</th>\n",
       "    </tr>\n",
       "  </thead>\n",
       "  <tbody>\n",
       "    <tr>\n",
       "      <th>0</th>\n",
       "      <td>1003</td>\n",
       "      <td>Baldwin</td>\n",
       "      <td>140415</td>\n",
       "      <td>11001</td>\n",
       "      <td>Mobile</td>\n",
       "      <td>599405.0</td>\n",
       "      <td>Alabama</td>\n",
       "      <td>1</td>\n",
       "      <td>AL</td>\n",
       "      <td>1</td>\n",
       "      <td>...</td>\n",
       "      <td>82.27977</td>\n",
       "      <td>84.75025</td>\n",
       "      <td>122351</td>\n",
       "      <td>110023</td>\n",
       "      <td>106440</td>\n",
       "      <td>98805</td>\n",
       "      <td>101194</td>\n",
       "      <td>103246</td>\n",
       "      <td>103219</td>\n",
       "      <td>92921</td>\n",
       "    </tr>\n",
       "    <tr>\n",
       "      <th>1</th>\n",
       "      <td>1005</td>\n",
       "      <td>Barbour</td>\n",
       "      <td>29038</td>\n",
       "      <td>10301</td>\n",
       "      <td>Eufaula</td>\n",
       "      <td>61458.0</td>\n",
       "      <td>Alabama</td>\n",
       "      <td>1</td>\n",
       "      <td>AL</td>\n",
       "      <td>0</td>\n",
       "      <td>...</td>\n",
       "      <td>81.05935</td>\n",
       "      <td>83.79749</td>\n",
       "      <td>23577</td>\n",
       "      <td>13590</td>\n",
       "      <td>9782</td>\n",
       "      <td>7385</td>\n",
       "      <td>18759</td>\n",
       "      <td>14378</td>\n",
       "      <td>9766</td>\n",
       "      <td>6408</td>\n",
       "    </tr>\n",
       "    <tr>\n",
       "      <th>2</th>\n",
       "      <td>1009</td>\n",
       "      <td>Blount</td>\n",
       "      <td>51024</td>\n",
       "      <td>10700</td>\n",
       "      <td>Birmingham</td>\n",
       "      <td>1038182.0</td>\n",
       "      <td>Alabama</td>\n",
       "      <td>1</td>\n",
       "      <td>AL</td>\n",
       "      <td>1</td>\n",
       "      <td>...</td>\n",
       "      <td>82.30053</td>\n",
       "      <td>84.16502</td>\n",
       "      <td>27874</td>\n",
       "      <td>28046</td>\n",
       "      <td>25802</td>\n",
       "      <td>12904</td>\n",
       "      <td>26117</td>\n",
       "      <td>30097</td>\n",
       "      <td>25761</td>\n",
       "      <td>11371</td>\n",
       "    </tr>\n",
       "    <tr>\n",
       "      <th>3</th>\n",
       "      <td>1015</td>\n",
       "      <td>Calhoun</td>\n",
       "      <td>112249</td>\n",
       "      <td>9600</td>\n",
       "      <td>LaGrange</td>\n",
       "      <td>457299.0</td>\n",
       "      <td>Alabama</td>\n",
       "      <td>1</td>\n",
       "      <td>AL</td>\n",
       "      <td>1</td>\n",
       "      <td>...</td>\n",
       "      <td>82.66959</td>\n",
       "      <td>83.28709</td>\n",
       "      <td>92985</td>\n",
       "      <td>81511</td>\n",
       "      <td>75250</td>\n",
       "      <td>42735</td>\n",
       "      <td>78701</td>\n",
       "      <td>84552</td>\n",
       "      <td>74572</td>\n",
       "      <td>39127</td>\n",
       "    </tr>\n",
       "    <tr>\n",
       "      <th>4</th>\n",
       "      <td>1025</td>\n",
       "      <td>Clarke</td>\n",
       "      <td>27867</td>\n",
       "      <td>11001</td>\n",
       "      <td>Mobile</td>\n",
       "      <td>599405.0</td>\n",
       "      <td>Alabama</td>\n",
       "      <td>1</td>\n",
       "      <td>AL</td>\n",
       "      <td>1</td>\n",
       "      <td>...</td>\n",
       "      <td>83.20515</td>\n",
       "      <td>86.08119</td>\n",
       "      <td>23842</td>\n",
       "      <td>13812</td>\n",
       "      <td>14173</td>\n",
       "      <td>9947</td>\n",
       "      <td>17262</td>\n",
       "      <td>16024</td>\n",
       "      <td>16179</td>\n",
       "      <td>9419</td>\n",
       "    </tr>\n",
       "  </tbody>\n",
       "</table>\n",
       "<p>5 rows × 86 columns</p>\n",
       "</div>"
      ],
      "text/plain": [
       "    cty county_name  cty_pop2000     cz     cz_name  cz_pop2000 statename  \\\n",
       "0  1003     Baldwin       140415  11001      Mobile    599405.0   Alabama   \n",
       "1  1005     Barbour        29038  10301     Eufaula     61458.0   Alabama   \n",
       "2  1009      Blount        51024  10700  Birmingham   1038182.0   Alabama   \n",
       "3  1015     Calhoun       112249   9600    LaGrange    457299.0   Alabama   \n",
       "4  1025      Clarke        27867  11001      Mobile    599405.0   Alabama   \n",
       "\n",
       "   state_id stateabbrv  intersects_msa     ...      le_raceadj_q3_M  \\\n",
       "0         1         AL               1     ...             82.27977   \n",
       "1         1         AL               0     ...             81.05935   \n",
       "2         1         AL               1     ...             82.30053   \n",
       "3         1         AL               1     ...             82.66959   \n",
       "4         1         AL               1     ...             83.20515   \n",
       "\n",
       "   le_raceadj_q4_M  count_q1_F  count_q2_F  count_q3_F  count_q4_F  \\\n",
       "0         84.75025      122351      110023      106440       98805   \n",
       "1         83.79749       23577       13590        9782        7385   \n",
       "2         84.16502       27874       28046       25802       12904   \n",
       "3         83.28709       92985       81511       75250       42735   \n",
       "4         86.08119       23842       13812       14173        9947   \n",
       "\n",
       "   count_q1_M  count_q2_M  count_q3_M  count_q4_M  \n",
       "0      101194      103246      103219       92921  \n",
       "1       18759       14378        9766        6408  \n",
       "2       26117       30097       25761       11371  \n",
       "3       78701       84552       74572       39127  \n",
       "4       17262       16024       16179        9419  \n",
       "\n",
       "[5 rows x 86 columns]"
      ]
     },
     "execution_count": 7,
     "metadata": {},
     "output_type": "execute_result"
    }
   ],
   "source": [
    "tb.head(5)"
   ]
  },
  {
   "cell_type": "code",
   "execution_count": 8,
   "metadata": {
    "collapsed": false
   },
   "outputs": [],
   "source": [
    "# Get average values of life expectancy\n",
    "count_M = tb.count_q1_M + tb.count_q2_M + tb.count_q3_M + tb.count_q4_M\n",
    "count_F = tb.count_q1_F + tb.count_q2_F + tb.count_q3_F + tb.count_q4_F\n",
    "leall_M = (tb.le_raceadj_q1_M * tb.count_q1_M \n",
    "        + tb.le_raceadj_q2_M * tb.count_q2_M \n",
    "        + tb.le_raceadj_q3_M * tb.count_q3_M \n",
    "        + tb.le_raceadj_q4_M * tb.count_q4_M)\n",
    "leall_F = (tb.le_raceadj_q1_F * tb.count_q1_F \n",
    "        + tb.le_raceadj_q2_F * tb.count_q2_F \n",
    "        + tb.le_raceadj_q3_F * tb.count_q3_F \n",
    "        + tb.le_raceadj_q4_F * tb.count_q4_F)\n",
    "tb['le'] = (leall_M + leall_F) / (count_M + count_F)"
   ]
  },
  {
   "cell_type": "code",
   "execution_count": 9,
   "metadata": {
    "collapsed": false
   },
   "outputs": [],
   "source": [
    "# Get average values of Fraction Current Smokers, Fraction Obese, Fraction Exercised in Past 30 Days\n",
    "tb['cur_smoke'] = (tb.cur_smoke_q1 * (tb.count_q1_M + tb.count_q1_F)\n",
    "                 + tb.cur_smoke_q2 * (tb.count_q2_M + tb.count_q2_F)\n",
    "                 + tb.cur_smoke_q3 * (tb.count_q3_M + tb.count_q3_F)\n",
    "                 + tb.cur_smoke_q4 * (tb.count_q4_M + tb.count_q4_F)) / (count_M + count_F)\n",
    "tb['bmi_obese'] = (tb.bmi_obese_q1 * (tb.count_q1_M + tb.count_q1_F)\n",
    "                 + tb.bmi_obese_q2 * (tb.count_q2_M + tb.count_q2_F)\n",
    "                 + tb.bmi_obese_q3 * (tb.count_q3_M + tb.count_q3_F)\n",
    "                 + tb.bmi_obese_q4 * (tb.count_q4_M + tb.count_q4_F)) / (count_M + count_F)\n",
    "tb['exercise_any'] = (tb.exercise_any_q1 * (tb.count_q1_M + tb.count_q1_F)\n",
    "                    + tb.exercise_any_q2 * (tb.count_q1_M + tb.count_q2_F)\n",
    "                    + tb.exercise_any_q3 * (tb.count_q1_M + tb.count_q3_F)\n",
    "                    + tb.exercise_any_q4 * (tb.count_q1_M + tb.count_q4_F)) / (count_M + count_F)"
   ]
  },
  {
   "cell_type": "code",
   "execution_count": 10,
   "metadata": {
    "collapsed": false
   },
   "outputs": [
    {
     "data": {
      "text/html": [
       "<div>\n",
       "<table border=\"1\" class=\"dataframe\">\n",
       "  <thead>\n",
       "    <tr style=\"text-align: right;\">\n",
       "      <th></th>\n",
       "      <th>cty</th>\n",
       "      <th>county_name</th>\n",
       "      <th>cty_pop2000</th>\n",
       "      <th>cz</th>\n",
       "      <th>cz_name</th>\n",
       "      <th>cz_pop2000</th>\n",
       "      <th>statename</th>\n",
       "      <th>state_id</th>\n",
       "      <th>stateabbrv</th>\n",
       "      <th>intersects_msa</th>\n",
       "      <th>...</th>\n",
       "      <th>count_q3_F</th>\n",
       "      <th>count_q4_F</th>\n",
       "      <th>count_q1_M</th>\n",
       "      <th>count_q2_M</th>\n",
       "      <th>count_q3_M</th>\n",
       "      <th>count_q4_M</th>\n",
       "      <th>le</th>\n",
       "      <th>cur_smoke</th>\n",
       "      <th>bmi_obese</th>\n",
       "      <th>exercise_any</th>\n",
       "    </tr>\n",
       "  </thead>\n",
       "  <tbody>\n",
       "    <tr>\n",
       "      <th>0</th>\n",
       "      <td>1003</td>\n",
       "      <td>Baldwin</td>\n",
       "      <td>140415</td>\n",
       "      <td>11001</td>\n",
       "      <td>Mobile</td>\n",
       "      <td>599405.0</td>\n",
       "      <td>Alabama</td>\n",
       "      <td>1</td>\n",
       "      <td>AL</td>\n",
       "      <td>1</td>\n",
       "      <td>...</td>\n",
       "      <td>106440</td>\n",
       "      <td>98805</td>\n",
       "      <td>101194</td>\n",
       "      <td>103246</td>\n",
       "      <td>103219</td>\n",
       "      <td>92921</td>\n",
       "      <td>83.435263</td>\n",
       "      <td>0.213284</td>\n",
       "      <td>0.225655</td>\n",
       "      <td>0.755309</td>\n",
       "    </tr>\n",
       "    <tr>\n",
       "      <th>1</th>\n",
       "      <td>1005</td>\n",
       "      <td>Barbour</td>\n",
       "      <td>29038</td>\n",
       "      <td>10301</td>\n",
       "      <td>Eufaula</td>\n",
       "      <td>61458.0</td>\n",
       "      <td>Alabama</td>\n",
       "      <td>1</td>\n",
       "      <td>AL</td>\n",
       "      <td>0</td>\n",
       "      <td>...</td>\n",
       "      <td>9782</td>\n",
       "      <td>7385</td>\n",
       "      <td>18759</td>\n",
       "      <td>14378</td>\n",
       "      <td>9766</td>\n",
       "      <td>6408</td>\n",
       "      <td>82.808376</td>\n",
       "      <td>0.209904</td>\n",
       "      <td>0.414177</td>\n",
       "      <td>0.832608</td>\n",
       "    </tr>\n",
       "    <tr>\n",
       "      <th>2</th>\n",
       "      <td>1009</td>\n",
       "      <td>Blount</td>\n",
       "      <td>51024</td>\n",
       "      <td>10700</td>\n",
       "      <td>Birmingham</td>\n",
       "      <td>1038182.0</td>\n",
       "      <td>Alabama</td>\n",
       "      <td>1</td>\n",
       "      <td>AL</td>\n",
       "      <td>1</td>\n",
       "      <td>...</td>\n",
       "      <td>25802</td>\n",
       "      <td>12904</td>\n",
       "      <td>26117</td>\n",
       "      <td>30097</td>\n",
       "      <td>25761</td>\n",
       "      <td>11371</td>\n",
       "      <td>82.485203</td>\n",
       "      <td>0.286449</td>\n",
       "      <td>0.373935</td>\n",
       "      <td>0.645049</td>\n",
       "    </tr>\n",
       "    <tr>\n",
       "      <th>3</th>\n",
       "      <td>1015</td>\n",
       "      <td>Calhoun</td>\n",
       "      <td>112249</td>\n",
       "      <td>9600</td>\n",
       "      <td>LaGrange</td>\n",
       "      <td>457299.0</td>\n",
       "      <td>Alabama</td>\n",
       "      <td>1</td>\n",
       "      <td>AL</td>\n",
       "      <td>1</td>\n",
       "      <td>...</td>\n",
       "      <td>75250</td>\n",
       "      <td>42735</td>\n",
       "      <td>78701</td>\n",
       "      <td>84552</td>\n",
       "      <td>74572</td>\n",
       "      <td>39127</td>\n",
       "      <td>81.344830</td>\n",
       "      <td>0.229967</td>\n",
       "      <td>0.286169</td>\n",
       "      <td>0.765085</td>\n",
       "    </tr>\n",
       "    <tr>\n",
       "      <th>4</th>\n",
       "      <td>1025</td>\n",
       "      <td>Clarke</td>\n",
       "      <td>27867</td>\n",
       "      <td>11001</td>\n",
       "      <td>Mobile</td>\n",
       "      <td>599405.0</td>\n",
       "      <td>Alabama</td>\n",
       "      <td>1</td>\n",
       "      <td>AL</td>\n",
       "      <td>1</td>\n",
       "      <td>...</td>\n",
       "      <td>14173</td>\n",
       "      <td>9947</td>\n",
       "      <td>17262</td>\n",
       "      <td>16024</td>\n",
       "      <td>16179</td>\n",
       "      <td>9419</td>\n",
       "      <td>83.042996</td>\n",
       "      <td>0.073055</td>\n",
       "      <td>0.417975</td>\n",
       "      <td>0.698628</td>\n",
       "    </tr>\n",
       "  </tbody>\n",
       "</table>\n",
       "<p>5 rows × 90 columns</p>\n",
       "</div>"
      ],
      "text/plain": [
       "    cty county_name  cty_pop2000     cz     cz_name  cz_pop2000 statename  \\\n",
       "0  1003     Baldwin       140415  11001      Mobile    599405.0   Alabama   \n",
       "1  1005     Barbour        29038  10301     Eufaula     61458.0   Alabama   \n",
       "2  1009      Blount        51024  10700  Birmingham   1038182.0   Alabama   \n",
       "3  1015     Calhoun       112249   9600    LaGrange    457299.0   Alabama   \n",
       "4  1025      Clarke        27867  11001      Mobile    599405.0   Alabama   \n",
       "\n",
       "   state_id stateabbrv  intersects_msa      ...       count_q3_F  count_q4_F  \\\n",
       "0         1         AL               1      ...           106440       98805   \n",
       "1         1         AL               0      ...             9782        7385   \n",
       "2         1         AL               1      ...            25802       12904   \n",
       "3         1         AL               1      ...            75250       42735   \n",
       "4         1         AL               1      ...            14173        9947   \n",
       "\n",
       "   count_q1_M  count_q2_M  count_q3_M  count_q4_M         le  cur_smoke  \\\n",
       "0      101194      103246      103219       92921  83.435263   0.213284   \n",
       "1       18759       14378        9766        6408  82.808376   0.209904   \n",
       "2       26117       30097       25761       11371  82.485203   0.286449   \n",
       "3       78701       84552       74572       39127  81.344830   0.229967   \n",
       "4       17262       16024       16179        9419  83.042996   0.073055   \n",
       "\n",
       "   bmi_obese  exercise_any  \n",
       "0   0.225655      0.755309  \n",
       "1   0.414177      0.832608  \n",
       "2   0.373935      0.645049  \n",
       "3   0.286169      0.765085  \n",
       "4   0.417975      0.698628  \n",
       "\n",
       "[5 rows x 90 columns]"
      ]
     },
     "execution_count": 10,
     "metadata": {},
     "output_type": "execute_result"
    }
   ],
   "source": [
    "tb.head(5)"
   ]
  },
  {
   "cell_type": "code",
   "execution_count": 11,
   "metadata": {
    "collapsed": false
   },
   "outputs": [
    {
     "data": {
      "text/plain": [
       "Index(['cty', 'county_name', 'cty_pop2000', 'cz', 'cz_name', 'cz_pop2000',\n",
       "       'statename', 'state_id', 'stateabbrv', 'intersects_msa', 'cur_smoke_q1',\n",
       "       'cur_smoke_q2', 'cur_smoke_q3', 'cur_smoke_q4', 'bmi_obese_q1',\n",
       "       'bmi_obese_q2', 'bmi_obese_q3', 'bmi_obese_q4', 'exercise_any_q1',\n",
       "       'exercise_any_q2', 'exercise_any_q3', 'exercise_any_q4',\n",
       "       'puninsured2010', 'reimb_penroll_adj10', 'mort_30day_hosp_z',\n",
       "       'adjmortmeas_amiall30day', 'adjmortmeas_chfall30day',\n",
       "       'adjmortmeas_pnall30day', 'med_prev_qual_z', 'primcarevis_10',\n",
       "       'diab_hemotest_10', 'diab_eyeexam_10', 'diab_lipids_10', 'mammogram_10',\n",
       "       'amb_disch_per1000_10', 'cs00_seg_inc', 'cs00_seg_inc_pov25',\n",
       "       'cs00_seg_inc_aff75', 'cs_race_theil_2000', 'gini99', 'poor_share',\n",
       "       'inc_share_1perc', 'frac_middleclass', 'scap_ski90pcm', 'rel_tot',\n",
       "       'cs_frac_black', 'cs_frac_hisp', 'unemp_rate', 'pop_d_2000_1980',\n",
       "       'lf_d_2000_1980', 'cs_labforce', 'cs_elf_ind_man', 'cs_born_foreign',\n",
       "       'mig_inflow', 'mig_outflow', 'pop_density', 'frac_traveltime_lt15',\n",
       "       'hhinc00', 'median_house_value', 'ccd_exp_tot', 'ccd_pup_tch_ratio',\n",
       "       'score_r', 'dropout_r', 'cs_educ_ba', 'e_rank_b',\n",
       "       'cs_fam_wkidsinglemom', 'crime_total', 'subcty_exp_pc', 'taxrate',\n",
       "       'tax_st_diff_top20', 'le_raceadj_q1_F', 'le_raceadj_q2_F',\n",
       "       'le_raceadj_q3_F', 'le_raceadj_q4_F', 'le_raceadj_q1_M',\n",
       "       'le_raceadj_q2_M', 'le_raceadj_q3_M', 'le_raceadj_q4_M', 'count_q1_F',\n",
       "       'count_q2_F', 'count_q3_F', 'count_q4_F', 'count_q1_M', 'count_q2_M',\n",
       "       'count_q3_M', 'count_q4_M', 'le', 'cur_smoke', 'bmi_obese',\n",
       "       'exercise_any'],\n",
       "      dtype='object')"
      ]
     },
     "execution_count": 11,
     "metadata": {},
     "output_type": "execute_result"
    }
   ],
   "source": [
    "tb.columns"
   ]
  },
  {
   "cell_type": "markdown",
   "metadata": {},
   "source": [
    "## In-depth analysis using machine learning"
   ]
  },
  {
   "cell_type": "code",
   "execution_count": 12,
   "metadata": {
    "collapsed": true
   },
   "outputs": [],
   "source": [
    "X_1 = tb[['cty_pop2000', 'intersects_msa']]\n",
    "X_2 = tb.loc[:, 'cur_smoke':'exercise_any']\n",
    "X_3 = tb.loc[:, 'puninsured2010':'tax_st_diff_top20']\n",
    "X = pd.concat([X_1, X_2, X_3], axis = 1)\n",
    "y = tb['le']"
   ]
  },
  {
   "cell_type": "code",
   "execution_count": 13,
   "metadata": {
    "collapsed": false
   },
   "outputs": [
    {
     "data": {
      "text/plain": [
       "53"
      ]
     },
     "execution_count": 13,
     "metadata": {},
     "output_type": "execute_result"
    }
   ],
   "source": [
    "len(X.columns)"
   ]
  },
  {
   "cell_type": "code",
   "execution_count": 14,
   "metadata": {
    "collapsed": false
   },
   "outputs": [
    {
     "data": {
      "text/plain": [
       "array(['cty_pop2000', 'intersects_msa', 'cur_smoke', 'bmi_obese',\n",
       "       'exercise_any', 'puninsured2010', 'reimb_penroll_adj10',\n",
       "       'mort_30day_hosp_z', 'adjmortmeas_amiall30day',\n",
       "       'adjmortmeas_chfall30day', 'adjmortmeas_pnall30day',\n",
       "       'med_prev_qual_z', 'primcarevis_10', 'diab_hemotest_10',\n",
       "       'diab_eyeexam_10', 'diab_lipids_10', 'mammogram_10',\n",
       "       'amb_disch_per1000_10', 'cs00_seg_inc', 'cs00_seg_inc_pov25',\n",
       "       'cs00_seg_inc_aff75', 'cs_race_theil_2000', 'gini99', 'poor_share',\n",
       "       'inc_share_1perc', 'frac_middleclass', 'scap_ski90pcm', 'rel_tot',\n",
       "       'cs_frac_black', 'cs_frac_hisp', 'unemp_rate', 'pop_d_2000_1980',\n",
       "       'lf_d_2000_1980', 'cs_labforce', 'cs_elf_ind_man',\n",
       "       'cs_born_foreign', 'mig_inflow', 'mig_outflow', 'pop_density',\n",
       "       'frac_traveltime_lt15', 'hhinc00', 'median_house_value',\n",
       "       'ccd_exp_tot', 'ccd_pup_tch_ratio', 'score_r', 'dropout_r',\n",
       "       'cs_educ_ba', 'e_rank_b', 'cs_fam_wkidsinglemom', 'crime_total',\n",
       "       'subcty_exp_pc', 'taxrate', 'tax_st_diff_top20'], dtype=object)"
      ]
     },
     "execution_count": 14,
     "metadata": {},
     "output_type": "execute_result"
    }
   ],
   "source": [
    "X.columns.values"
   ]
  },
  {
   "cell_type": "markdown",
   "metadata": {},
   "source": [
    "### 1. Linear Regression"
   ]
  },
  {
   "cell_type": "code",
   "execution_count": 15,
   "metadata": {
    "collapsed": true
   },
   "outputs": [],
   "source": [
    "# Fitting Linear Regression using sklearn\n",
    "from sklearn.linear_model import LinearRegression"
   ]
  },
  {
   "cell_type": "markdown",
   "metadata": {},
   "source": [
    "#### 1) Use all 53 predictors to fit linear regression model"
   ]
  },
  {
   "cell_type": "code",
   "execution_count": 16,
   "metadata": {
    "collapsed": true
   },
   "outputs": [],
   "source": [
    "X0 = X.copy()"
   ]
  },
  {
   "cell_type": "code",
   "execution_count": 17,
   "metadata": {
    "collapsed": false
   },
   "outputs": [
    {
     "name": "stdout",
     "output_type": "stream",
     "text": [
      "Coefficient of determination R^2 of the prediction: 0.824921447464\n"
     ]
    }
   ],
   "source": [
    "# Creates a LinearRegression object\n",
    "lm = LinearRegression()\n",
    "lm.fit(X0, y)\n",
    "print('Coefficient of determination R^2 of the prediction:', lm.score(X0,y))"
   ]
  },
  {
   "cell_type": "markdown",
   "metadata": {},
   "source": [
    "#### Estimated intercept and coefficients"
   ]
  },
  {
   "cell_type": "code",
   "execution_count": 18,
   "metadata": {
    "collapsed": false,
    "scrolled": true
   },
   "outputs": [
    {
     "name": "stdout",
     "output_type": "stream",
     "text": [
      "Estimated intercept: 1654357.80006\n",
      "Number of coefficients: 53\n"
     ]
    },
    {
     "data": {
      "text/html": [
       "<div>\n",
       "<table border=\"1\" class=\"dataframe\">\n",
       "  <thead>\n",
       "    <tr style=\"text-align: right;\">\n",
       "      <th></th>\n",
       "      <th>features</th>\n",
       "      <th>Coefficients</th>\n",
       "    </tr>\n",
       "  </thead>\n",
       "  <tbody>\n",
       "    <tr>\n",
       "      <th>0</th>\n",
       "      <td>cty_pop2000</td>\n",
       "      <td>-4.496111e-08</td>\n",
       "    </tr>\n",
       "    <tr>\n",
       "      <th>1</th>\n",
       "      <td>intersects_msa</td>\n",
       "      <td>2.158680e-02</td>\n",
       "    </tr>\n",
       "    <tr>\n",
       "      <th>2</th>\n",
       "      <td>cur_smoke</td>\n",
       "      <td>-2.847131e+00</td>\n",
       "    </tr>\n",
       "    <tr>\n",
       "      <th>3</th>\n",
       "      <td>bmi_obese</td>\n",
       "      <td>-3.373241e-01</td>\n",
       "    </tr>\n",
       "    <tr>\n",
       "      <th>4</th>\n",
       "      <td>exercise_any</td>\n",
       "      <td>-4.314171e-01</td>\n",
       "    </tr>\n",
       "    <tr>\n",
       "      <th>5</th>\n",
       "      <td>puninsured2010</td>\n",
       "      <td>-1.321207e-02</td>\n",
       "    </tr>\n",
       "    <tr>\n",
       "      <th>6</th>\n",
       "      <td>reimb_penroll_adj10</td>\n",
       "      <td>-1.481957e-04</td>\n",
       "    </tr>\n",
       "    <tr>\n",
       "      <th>7</th>\n",
       "      <td>mort_30day_hosp_z</td>\n",
       "      <td>-8.012415e+03</td>\n",
       "    </tr>\n",
       "    <tr>\n",
       "      <th>8</th>\n",
       "      <td>adjmortmeas_amiall30day</td>\n",
       "      <td>1.381965e+05</td>\n",
       "    </tr>\n",
       "    <tr>\n",
       "      <th>9</th>\n",
       "      <td>adjmortmeas_chfall30day</td>\n",
       "      <td>1.874960e+05</td>\n",
       "    </tr>\n",
       "    <tr>\n",
       "      <th>10</th>\n",
       "      <td>adjmortmeas_pnall30day</td>\n",
       "      <td>1.833813e+05</td>\n",
       "    </tr>\n",
       "    <tr>\n",
       "      <th>11</th>\n",
       "      <td>med_prev_qual_z</td>\n",
       "      <td>1.570683e+05</td>\n",
       "    </tr>\n",
       "    <tr>\n",
       "      <th>12</th>\n",
       "      <td>primcarevis_10</td>\n",
       "      <td>-4.264048e+03</td>\n",
       "    </tr>\n",
       "    <tr>\n",
       "      <th>13</th>\n",
       "      <td>diab_hemotest_10</td>\n",
       "      <td>-5.696736e+03</td>\n",
       "    </tr>\n",
       "    <tr>\n",
       "      <th>14</th>\n",
       "      <td>diab_eyeexam_10</td>\n",
       "      <td>-4.764654e+03</td>\n",
       "    </tr>\n",
       "    <tr>\n",
       "      <th>15</th>\n",
       "      <td>diab_lipids_10</td>\n",
       "      <td>-4.978911e+03</td>\n",
       "    </tr>\n",
       "    <tr>\n",
       "      <th>16</th>\n",
       "      <td>mammogram_10</td>\n",
       "      <td>-4.200995e+03</td>\n",
       "    </tr>\n",
       "    <tr>\n",
       "      <th>17</th>\n",
       "      <td>amb_disch_per1000_10</td>\n",
       "      <td>1.286562e+03</td>\n",
       "    </tr>\n",
       "    <tr>\n",
       "      <th>18</th>\n",
       "      <td>cs00_seg_inc</td>\n",
       "      <td>1.940479e+01</td>\n",
       "    </tr>\n",
       "    <tr>\n",
       "      <th>19</th>\n",
       "      <td>cs00_seg_inc_pov25</td>\n",
       "      <td>-1.097051e+01</td>\n",
       "    </tr>\n",
       "    <tr>\n",
       "      <th>20</th>\n",
       "      <td>cs00_seg_inc_aff75</td>\n",
       "      <td>-7.380117e+00</td>\n",
       "    </tr>\n",
       "    <tr>\n",
       "      <th>21</th>\n",
       "      <td>cs_race_theil_2000</td>\n",
       "      <td>3.087027e-01</td>\n",
       "    </tr>\n",
       "    <tr>\n",
       "      <th>22</th>\n",
       "      <td>gini99</td>\n",
       "      <td>2.500090e+00</td>\n",
       "    </tr>\n",
       "    <tr>\n",
       "      <th>23</th>\n",
       "      <td>poor_share</td>\n",
       "      <td>3.302300e+00</td>\n",
       "    </tr>\n",
       "    <tr>\n",
       "      <th>24</th>\n",
       "      <td>inc_share_1perc</td>\n",
       "      <td>-2.617089e+00</td>\n",
       "    </tr>\n",
       "    <tr>\n",
       "      <th>25</th>\n",
       "      <td>frac_middleclass</td>\n",
       "      <td>5.884733e-01</td>\n",
       "    </tr>\n",
       "    <tr>\n",
       "      <th>26</th>\n",
       "      <td>scap_ski90pcm</td>\n",
       "      <td>9.935478e-02</td>\n",
       "    </tr>\n",
       "    <tr>\n",
       "      <th>27</th>\n",
       "      <td>rel_tot</td>\n",
       "      <td>3.480378e-03</td>\n",
       "    </tr>\n",
       "    <tr>\n",
       "      <th>28</th>\n",
       "      <td>cs_frac_black</td>\n",
       "      <td>1.201757e-02</td>\n",
       "    </tr>\n",
       "    <tr>\n",
       "      <th>29</th>\n",
       "      <td>cs_frac_hisp</td>\n",
       "      <td>-1.907276e-02</td>\n",
       "    </tr>\n",
       "    <tr>\n",
       "      <th>30</th>\n",
       "      <td>unemp_rate</td>\n",
       "      <td>6.317571e+00</td>\n",
       "    </tr>\n",
       "    <tr>\n",
       "      <th>31</th>\n",
       "      <td>pop_d_2000_1980</td>\n",
       "      <td>-3.472754e-01</td>\n",
       "    </tr>\n",
       "    <tr>\n",
       "      <th>32</th>\n",
       "      <td>lf_d_2000_1980</td>\n",
       "      <td>5.855272e-01</td>\n",
       "    </tr>\n",
       "    <tr>\n",
       "      <th>33</th>\n",
       "      <td>cs_labforce</td>\n",
       "      <td>-8.048021e-01</td>\n",
       "    </tr>\n",
       "    <tr>\n",
       "      <th>34</th>\n",
       "      <td>cs_elf_ind_man</td>\n",
       "      <td>6.405681e-01</td>\n",
       "    </tr>\n",
       "    <tr>\n",
       "      <th>35</th>\n",
       "      <td>cs_born_foreign</td>\n",
       "      <td>-6.504669e-03</td>\n",
       "    </tr>\n",
       "    <tr>\n",
       "      <th>36</th>\n",
       "      <td>mig_inflow</td>\n",
       "      <td>2.722922e-01</td>\n",
       "    </tr>\n",
       "    <tr>\n",
       "      <th>37</th>\n",
       "      <td>mig_outflow</td>\n",
       "      <td>-2.633143e+00</td>\n",
       "    </tr>\n",
       "    <tr>\n",
       "      <th>38</th>\n",
       "      <td>pop_density</td>\n",
       "      <td>-1.240020e-05</td>\n",
       "    </tr>\n",
       "    <tr>\n",
       "      <th>39</th>\n",
       "      <td>frac_traveltime_lt15</td>\n",
       "      <td>-7.714505e-01</td>\n",
       "    </tr>\n",
       "    <tr>\n",
       "      <th>40</th>\n",
       "      <td>hhinc00</td>\n",
       "      <td>-1.075624e-05</td>\n",
       "    </tr>\n",
       "    <tr>\n",
       "      <th>41</th>\n",
       "      <td>median_house_value</td>\n",
       "      <td>4.917505e-06</td>\n",
       "    </tr>\n",
       "    <tr>\n",
       "      <th>42</th>\n",
       "      <td>ccd_exp_tot</td>\n",
       "      <td>7.517118e-02</td>\n",
       "    </tr>\n",
       "    <tr>\n",
       "      <th>43</th>\n",
       "      <td>ccd_pup_tch_ratio</td>\n",
       "      <td>4.084231e-02</td>\n",
       "    </tr>\n",
       "    <tr>\n",
       "      <th>44</th>\n",
       "      <td>score_r</td>\n",
       "      <td>3.275511e-03</td>\n",
       "    </tr>\n",
       "    <tr>\n",
       "      <th>45</th>\n",
       "      <td>dropout_r</td>\n",
       "      <td>5.333661e-01</td>\n",
       "    </tr>\n",
       "    <tr>\n",
       "      <th>46</th>\n",
       "      <td>cs_educ_ba</td>\n",
       "      <td>4.104341e-02</td>\n",
       "    </tr>\n",
       "    <tr>\n",
       "      <th>47</th>\n",
       "      <td>e_rank_b</td>\n",
       "      <td>5.187708e-02</td>\n",
       "    </tr>\n",
       "    <tr>\n",
       "      <th>48</th>\n",
       "      <td>cs_fam_wkidsinglemom</td>\n",
       "      <td>-5.342858e+00</td>\n",
       "    </tr>\n",
       "    <tr>\n",
       "      <th>49</th>\n",
       "      <td>crime_total</td>\n",
       "      <td>-1.019082e+01</td>\n",
       "    </tr>\n",
       "    <tr>\n",
       "      <th>50</th>\n",
       "      <td>subcty_exp_pc</td>\n",
       "      <td>4.185639e-05</td>\n",
       "    </tr>\n",
       "    <tr>\n",
       "      <th>51</th>\n",
       "      <td>taxrate</td>\n",
       "      <td>1.383300e+00</td>\n",
       "    </tr>\n",
       "    <tr>\n",
       "      <th>52</th>\n",
       "      <td>tax_st_diff_top20</td>\n",
       "      <td>5.858652e-03</td>\n",
       "    </tr>\n",
       "  </tbody>\n",
       "</table>\n",
       "</div>"
      ],
      "text/plain": [
       "                   features  Coefficients\n",
       "0               cty_pop2000 -4.496111e-08\n",
       "1            intersects_msa  2.158680e-02\n",
       "2                 cur_smoke -2.847131e+00\n",
       "3                 bmi_obese -3.373241e-01\n",
       "4              exercise_any -4.314171e-01\n",
       "5            puninsured2010 -1.321207e-02\n",
       "6       reimb_penroll_adj10 -1.481957e-04\n",
       "7         mort_30day_hosp_z -8.012415e+03\n",
       "8   adjmortmeas_amiall30day  1.381965e+05\n",
       "9   adjmortmeas_chfall30day  1.874960e+05\n",
       "10   adjmortmeas_pnall30day  1.833813e+05\n",
       "11          med_prev_qual_z  1.570683e+05\n",
       "12           primcarevis_10 -4.264048e+03\n",
       "13         diab_hemotest_10 -5.696736e+03\n",
       "14          diab_eyeexam_10 -4.764654e+03\n",
       "15           diab_lipids_10 -4.978911e+03\n",
       "16             mammogram_10 -4.200995e+03\n",
       "17     amb_disch_per1000_10  1.286562e+03\n",
       "18             cs00_seg_inc  1.940479e+01\n",
       "19       cs00_seg_inc_pov25 -1.097051e+01\n",
       "20       cs00_seg_inc_aff75 -7.380117e+00\n",
       "21       cs_race_theil_2000  3.087027e-01\n",
       "22                   gini99  2.500090e+00\n",
       "23               poor_share  3.302300e+00\n",
       "24          inc_share_1perc -2.617089e+00\n",
       "25         frac_middleclass  5.884733e-01\n",
       "26            scap_ski90pcm  9.935478e-02\n",
       "27                  rel_tot  3.480378e-03\n",
       "28            cs_frac_black  1.201757e-02\n",
       "29             cs_frac_hisp -1.907276e-02\n",
       "30               unemp_rate  6.317571e+00\n",
       "31          pop_d_2000_1980 -3.472754e-01\n",
       "32           lf_d_2000_1980  5.855272e-01\n",
       "33              cs_labforce -8.048021e-01\n",
       "34           cs_elf_ind_man  6.405681e-01\n",
       "35          cs_born_foreign -6.504669e-03\n",
       "36               mig_inflow  2.722922e-01\n",
       "37              mig_outflow -2.633143e+00\n",
       "38              pop_density -1.240020e-05\n",
       "39     frac_traveltime_lt15 -7.714505e-01\n",
       "40                  hhinc00 -1.075624e-05\n",
       "41       median_house_value  4.917505e-06\n",
       "42              ccd_exp_tot  7.517118e-02\n",
       "43        ccd_pup_tch_ratio  4.084231e-02\n",
       "44                  score_r  3.275511e-03\n",
       "45                dropout_r  5.333661e-01\n",
       "46               cs_educ_ba  4.104341e-02\n",
       "47                 e_rank_b  5.187708e-02\n",
       "48     cs_fam_wkidsinglemom -5.342858e+00\n",
       "49              crime_total -1.019082e+01\n",
       "50            subcty_exp_pc  4.185639e-05\n",
       "51                  taxrate  1.383300e+00\n",
       "52        tax_st_diff_top20  5.858652e-03"
      ]
     },
     "execution_count": 18,
     "metadata": {},
     "output_type": "execute_result"
    }
   ],
   "source": [
    "print('Estimated intercept:', lm.intercept_)\n",
    "print('Number of coefficients:', len(lm.coef_))\n",
    "pd.DataFrame(list(zip(X0.columns, lm.coef_)), columns = ['features', 'Coefficients'])"
   ]
  },
  {
   "cell_type": "markdown",
   "metadata": {},
   "source": [
    "We can see that some features have much higher coefficients: \n",
    "mort_30day_hosp_z, adjmortmeas_amiall30day, adjmortmeas_chfall30day, adjmortmeas_pnall30day, med_prev_qual_z, primcarevis_10, diab_hemotest_10, diab_eyeexam_10, diab_lipids_10, mammogram_10, amb_disch_per1000_10 "
   ]
  },
  {
   "cell_type": "markdown",
   "metadata": {},
   "source": [
    "#### Predict Life Expectancy"
   ]
  },
  {
   "cell_type": "code",
   "execution_count": 19,
   "metadata": {
    "collapsed": false
   },
   "outputs": [
    {
     "data": {
      "text/plain": [
       "<matplotlib.text.Text at 0x7f90b76fdb70>"
      ]
     },
     "execution_count": 19,
     "metadata": {},
     "output_type": "execute_result"
    },
    {
     "data": {
      "image/png": "[encoded data removed]",
      "text/plain": [
       "<matplotlib.figure.Figure at 0x7f90bae43518>"
      ]
     },
     "metadata": {},
     "output_type": "display_data"
    }
   ],
   "source": [
    "# Plot a histogram of all the predicted life expectancy\n",
    "plt.hist(lm.predict(X0))\n",
    "plt.title('Predicted Life Expectancy')\n",
    "plt.xlabel('Life Expectancy')\n",
    "plt.ylabel('Frequency')"
   ]
  },
  {
   "cell_type": "code",
   "execution_count": 20,
   "metadata": {
    "collapsed": false
   },
   "outputs": [
    {
     "data": {
      "text/plain": [
       "<matplotlib.text.Text at 0x7f90b75bbe10>"
      ]
     },
     "execution_count": 20,
     "metadata": {},
     "output_type": "execute_result"
    },
    {
     "data": {
      "image/png": "[encoded data removed]",
      "text/plain": [
       "<matplotlib.figure.Figure at 0x7f90bae43710>"
      ]
     },
     "metadata": {},
     "output_type": "display_data"
    }
   ],
   "source": [
    "# True life expectancy compared to the predicted life expectancy\n",
    "plt.plot(y, lm.predict(X0), 'b.')\n",
    "plt.xlabel('Life Expectancy')\n",
    "plt.ylabel('Predicted Life Expectancy')\n",
    "plt.title('Life Expectancy vs Predicted Life Expectancy')"
   ]
  },
  {
   "cell_type": "markdown",
   "metadata": {},
   "source": [
    "##### Residual sum of squares"
   ]
  },
  {
   "cell_type": "code",
   "execution_count": 21,
   "metadata": {
    "collapsed": false
   },
   "outputs": [
    {
     "name": "stdout",
     "output_type": "stream",
     "text": [
      "264.9517644586649\n"
     ]
    }
   ],
   "source": [
    "print(np.sum((y - lm.predict(X0)) ** 2))"
   ]
  },
  {
   "cell_type": "markdown",
   "metadata": {},
   "source": [
    "##### Mean squared error"
   ]
  },
  {
   "cell_type": "code",
   "execution_count": 22,
   "metadata": {
    "collapsed": false
   },
   "outputs": [
    {
     "name": "stdout",
     "output_type": "stream",
     "text": [
      "0.24692615513389088\n"
     ]
    }
   ],
   "source": [
    "print(np.mean((y - lm.predict(X0)) ** 2))"
   ]
  },
  {
   "cell_type": "markdown",
   "metadata": {},
   "source": [
    "#### 2) Feature selection"
   ]
  },
  {
   "cell_type": "code",
   "execution_count": 23,
   "metadata": {
    "collapsed": false
   },
   "outputs": [
    {
     "name": "stdout",
     "output_type": "stream",
     "text": [
      "Number of Components 10\n",
      "Explained Variance: %s [  9.79898419e-01   1.98782977e-02   1.87715000e-04   1.66012728e-05\n",
      "   1.16316504e-05   7.32588468e-06   2.68695147e-09   2.08324643e-09\n",
      "   1.48989774e-09   1.09248413e-09]\n",
      "Explained Variance Ratio: %s [  9.79898419e-01   1.98782977e-02   1.87715000e-04   1.66012728e-05\n",
      "   1.16316504e-05   7.32588468e-06   2.68695147e-09   2.08324643e-09\n",
      "   1.48989774e-09   1.09248413e-09]\n"
     ]
    }
   ],
   "source": [
    "# Feature selection with Principal Component Analysis\n",
    "from sklearn.decomposition import PCA\n",
    "# feature extraction\n",
    "pca = PCA(n_components=10)\n",
    "X1 = pca.fit_transform(X) \n",
    "# summarize components\n",
    "print('Number of Components', pca.n_components_)\n",
    "print('Explained Variance: %s', pca.explained_variance_ratio_)\n",
    "print('Explained Variance Ratio: %s', pca.explained_variance_ratio_ )"
   ]
  },
  {
   "cell_type": "code",
   "execution_count": 24,
   "metadata": {
    "collapsed": false
   },
   "outputs": [
    {
     "name": "stdout",
     "output_type": "stream",
     "text": [
      "Coefficient of determination R^2 of the prediction: 0.694371696474\n"
     ]
    }
   ],
   "source": [
    "lm1 = LinearRegression()\n",
    "lm1.fit(X1, y)\n",
    "print('Coefficient of determination R^2 of the prediction:', lm1.score(X1,y))"
   ]
  },
  {
   "cell_type": "markdown",
   "metadata": {},
   "source": [
    "#### Estimated intercept and coefficients"
   ]
  },
  {
   "cell_type": "code",
   "execution_count": 25,
   "metadata": {
    "collapsed": false
   },
   "outputs": [
    {
     "name": "stdout",
     "output_type": "stream",
     "text": [
      "Estimated intercept: 82.8816835278\n",
      "Number of coefficients: 10\n"
     ]
    },
    {
     "data": {
      "text/html": [
       "<div>\n",
       "<table border=\"1\" class=\"dataframe\">\n",
       "  <thead>\n",
       "    <tr style=\"text-align: right;\">\n",
       "      <th></th>\n",
       "      <th>Coefficients</th>\n",
       "    </tr>\n",
       "  </thead>\n",
       "  <tbody>\n",
       "    <tr>\n",
       "      <th>0</th>\n",
       "      <td>4.461694e-07</td>\n",
       "    </tr>\n",
       "    <tr>\n",
       "      <th>1</th>\n",
       "      <td>1.629156e-05</td>\n",
       "    </tr>\n",
       "    <tr>\n",
       "      <th>2</th>\n",
       "      <td>-4.190767e-05</td>\n",
       "    </tr>\n",
       "    <tr>\n",
       "      <th>3</th>\n",
       "      <td>-3.121870e-04</td>\n",
       "    </tr>\n",
       "    <tr>\n",
       "      <th>4</th>\n",
       "      <td>4.343405e-05</td>\n",
       "    </tr>\n",
       "    <tr>\n",
       "      <th>5</th>\n",
       "      <td>-8.389818e-05</td>\n",
       "    </tr>\n",
       "    <tr>\n",
       "      <th>6</th>\n",
       "      <td>-4.367967e-03</td>\n",
       "    </tr>\n",
       "    <tr>\n",
       "      <th>7</th>\n",
       "      <td>-1.338176e-02</td>\n",
       "    </tr>\n",
       "    <tr>\n",
       "      <th>8</th>\n",
       "      <td>-8.022278e-03</td>\n",
       "    </tr>\n",
       "    <tr>\n",
       "      <th>9</th>\n",
       "      <td>-3.475821e-02</td>\n",
       "    </tr>\n",
       "  </tbody>\n",
       "</table>\n",
       "</div>"
      ],
      "text/plain": [
       "   Coefficients\n",
       "0  4.461694e-07\n",
       "1  1.629156e-05\n",
       "2 -4.190767e-05\n",
       "3 -3.121870e-04\n",
       "4  4.343405e-05\n",
       "5 -8.389818e-05\n",
       "6 -4.367967e-03\n",
       "7 -1.338176e-02\n",
       "8 -8.022278e-03\n",
       "9 -3.475821e-02"
      ]
     },
     "execution_count": 25,
     "metadata": {},
     "output_type": "execute_result"
    }
   ],
   "source": [
    "print('Estimated intercept:', lm1.intercept_)\n",
    "print('Number of coefficients:', len(lm1.coef_))\n",
    "pd.DataFrame(list(zip(lm1.coef_)), columns = ['Coefficients'])"
   ]
  },
  {
   "cell_type": "markdown",
   "metadata": {},
   "source": [
    "It seems that this model is more accurate."
   ]
  },
  {
   "cell_type": "markdown",
   "metadata": {},
   "source": [
    "#### Predict Life Expectancy"
   ]
  },
  {
   "cell_type": "code",
   "execution_count": 26,
   "metadata": {
    "collapsed": false
   },
   "outputs": [
    {
     "data": {
      "text/plain": [
       "<matplotlib.text.Text at 0x7f90b72f3518>"
      ]
     },
     "execution_count": 26,
     "metadata": {},
     "output_type": "execute_result"
    },
    {
     "data": {
      "image/png": "[encoded data removed]",
      "text/plain": [
       "<matplotlib.figure.Figure at 0x7f90b757ab70>"
      ]
     },
     "metadata": {},
     "output_type": "display_data"
    }
   ],
   "source": [
    "# Plot a histogram of all the predicted life expectancy\n",
    "plt.hist(lm1.predict(X1))\n",
    "plt.title('Predicted Life Expectancy')\n",
    "plt.xlabel('Life Expectancy')\n",
    "plt.ylabel('Frequency')"
   ]
  },
  {
   "cell_type": "code",
   "execution_count": 27,
   "metadata": {
    "collapsed": false
   },
   "outputs": [
    {
     "data": {
      "text/plain": [
       "<matplotlib.text.Text at 0x7f90b6fd5a58>"
      ]
     },
     "execution_count": 27,
     "metadata": {},
     "output_type": "execute_result"
    },
    {
     "data": {
      "image/png": "[encoded data removed]",
      "text/plain": [
       "<matplotlib.figure.Figure at 0x7f90b707ffd0>"
      ]
     },
     "metadata": {},
     "output_type": "display_data"
    }
   ],
   "source": [
    "# True prices compared to the predicted life expectancy\n",
    "plt.plot(y, lm1.predict(X1), 'b.')\n",
    "plt.xlabel('Life Expectancy')\n",
    "plt.ylabel('Predicted Life Expectancy')\n",
    "plt.title('Life Expectancy vs Predicted Life Expectancy')"
   ]
  },
  {
   "cell_type": "markdown",
   "metadata": {},
   "source": [
    "##### Residual sum of squares"
   ]
  },
  {
   "cell_type": "code",
   "execution_count": 28,
   "metadata": {
    "collapsed": false
   },
   "outputs": [
    {
     "name": "stdout",
     "output_type": "stream",
     "text": [
      "462.5167224340576\n"
     ]
    }
   ],
   "source": [
    "print(np.sum((y - lm1.predict(X1)) ** 2))"
   ]
  },
  {
   "cell_type": "markdown",
   "metadata": {},
   "source": [
    "##### Mean squared error"
   ]
  },
  {
   "cell_type": "code",
   "execution_count": 29,
   "metadata": {
    "collapsed": false
   },
   "outputs": [
    {
     "name": "stdout",
     "output_type": "stream",
     "text": [
      "0.43105006750611147\n"
     ]
    }
   ],
   "source": [
    "print(np.mean((y - lm1.predict(X1)) ** 2))"
   ]
  },
  {
   "cell_type": "markdown",
   "metadata": {},
   "source": [
    "#### 3) Use less predictors to fit linear regression model"
   ]
  },
  {
   "cell_type": "code",
   "execution_count": 30,
   "metadata": {
    "collapsed": false
   },
   "outputs": [
    {
     "name": "stdout",
     "output_type": "stream",
     "text": [
      "Number of Components 5\n",
      "Explained Variance: %s [  9.79898419e-01   1.98782977e-02   1.87715000e-04   1.66012728e-05\n",
      "   1.16316504e-05]\n",
      "Explained Variance Ratio: %s [  9.79898419e-01   1.98782977e-02   1.87715000e-04   1.66012728e-05\n",
      "   1.16316504e-05]\n"
     ]
    }
   ],
   "source": [
    "# feature extraction with n_components=5\n",
    "pca = PCA(n_components=5)\n",
    "X2 = pca.fit_transform(X) \n",
    "# summarize components\n",
    "print('Number of Components', pca.n_components_)\n",
    "print('Explained Variance: %s', pca.explained_variance_ratio_)\n",
    "print('Explained Variance Ratio: %s', pca.explained_variance_ratio_ )"
   ]
  },
  {
   "cell_type": "code",
   "execution_count": 31,
   "metadata": {
    "collapsed": false
   },
   "outputs": [
    {
     "name": "stdout",
     "output_type": "stream",
     "text": [
      "Coefficient of determination R^2 of the prediction: 0.553624200036\n"
     ]
    }
   ],
   "source": [
    "lm2 = LinearRegression()\n",
    "lm2.fit(X2, y)\n",
    "print('Coefficient of determination R^2 of the prediction:', lm2.score(X2,y))"
   ]
  },
  {
   "cell_type": "code",
   "execution_count": 32,
   "metadata": {
    "collapsed": false
   },
   "outputs": [
    {
     "name": "stdout",
     "output_type": "stream",
     "text": [
      "Number of Components 3\n",
      "Explained Variance: %s [  9.79898419e-01   1.98782977e-02   1.87715000e-04]\n",
      "Explained Variance Ratio: %s [  9.79898419e-01   1.98782977e-02   1.87715000e-04]\n"
     ]
    }
   ],
   "source": [
    "# feature extraction with n_components=3\n",
    "pca = PCA(n_components=3)\n",
    "X3 = pca.fit_transform(X) \n",
    "# summarize components\n",
    "print('Number of Components', pca.n_components_)\n",
    "print('Explained Variance: %s', pca.explained_variance_ratio_)\n",
    "print('Explained Variance Ratio: %s', pca.explained_variance_ratio_ )"
   ]
  },
  {
   "cell_type": "code",
   "execution_count": 33,
   "metadata": {
    "collapsed": false
   },
   "outputs": [
    {
     "name": "stdout",
     "output_type": "stream",
     "text": [
      "Coefficient of determination R^2 of the prediction: 0.431605818442\n"
     ]
    }
   ],
   "source": [
    "lm3 = LinearRegression()\n",
    "lm3.fit(X3, y)\n",
    "print('Coefficient of determination R^2 of the prediction:', lm3.score(X3,y))"
   ]
  },
  {
   "cell_type": "code",
   "execution_count": 34,
   "metadata": {
    "collapsed": false
   },
   "outputs": [
    {
     "name": "stdout",
     "output_type": "stream",
     "text": [
      "Number of Components 2\n",
      "Explained Variance: %s [ 0.97989842  0.0198783 ]\n",
      "Explained Variance Ratio: %s [ 0.97989842  0.0198783 ]\n"
     ]
    }
   ],
   "source": [
    "# feature extraction with n_components=2\n",
    "pca = PCA(n_components=2)\n",
    "X4 = pca.fit_transform(X) \n",
    "# summarize components\n",
    "print('Number of Components', pca.n_components_)\n",
    "print('Explained Variance: %s', pca.explained_variance_ratio_)\n",
    "print('Explained Variance Ratio: %s', pca.explained_variance_ratio_ )"
   ]
  },
  {
   "cell_type": "code",
   "execution_count": 35,
   "metadata": {
    "collapsed": false
   },
   "outputs": [
    {
     "name": "stdout",
     "output_type": "stream",
     "text": [
      "Coefficient of determination R^2 of the prediction: 0.407076251113\n"
     ]
    }
   ],
   "source": [
    "lm4 = LinearRegression()\n",
    "lm4.fit(X4, y)\n",
    "print('Coefficient of determination R^2 of the prediction:', lm4.score(X4,y))"
   ]
  },
  {
   "cell_type": "markdown",
   "metadata": {},
   "source": [
    "#### Estimated intercept and coefficients"
   ]
  },
  {
   "cell_type": "code",
   "execution_count": 36,
   "metadata": {
    "collapsed": false
   },
   "outputs": [
    {
     "name": "stdout",
     "output_type": "stream",
     "text": [
      "Estimated intercept: 82.8816835278\n",
      "Number of coefficients: 5\n"
     ]
    },
    {
     "data": {
      "text/html": [
       "<div>\n",
       "<table border=\"1\" class=\"dataframe\">\n",
       "  <thead>\n",
       "    <tr style=\"text-align: right;\">\n",
       "      <th></th>\n",
       "      <th>Coefficients</th>\n",
       "    </tr>\n",
       "  </thead>\n",
       "  <tbody>\n",
       "    <tr>\n",
       "      <th>0</th>\n",
       "      <td>4.461694e-07</td>\n",
       "    </tr>\n",
       "    <tr>\n",
       "      <th>1</th>\n",
       "      <td>1.629156e-05</td>\n",
       "    </tr>\n",
       "    <tr>\n",
       "      <th>2</th>\n",
       "      <td>-4.190767e-05</td>\n",
       "    </tr>\n",
       "    <tr>\n",
       "      <th>3</th>\n",
       "      <td>-3.121870e-04</td>\n",
       "    </tr>\n",
       "    <tr>\n",
       "      <th>4</th>\n",
       "      <td>4.343405e-05</td>\n",
       "    </tr>\n",
       "  </tbody>\n",
       "</table>\n",
       "</div>"
      ],
      "text/plain": [
       "   Coefficients\n",
       "0  4.461694e-07\n",
       "1  1.629156e-05\n",
       "2 -4.190767e-05\n",
       "3 -3.121870e-04\n",
       "4  4.343405e-05"
      ]
     },
     "execution_count": 36,
     "metadata": {},
     "output_type": "execute_result"
    }
   ],
   "source": [
    "# PCA with n_components=5\n",
    "print('Estimated intercept:', lm2.intercept_)\n",
    "print('Number of coefficients:', len(lm2.coef_))\n",
    "pd.DataFrame(list(zip(lm2.coef_)), columns = ['Coefficients'])"
   ]
  },
  {
   "cell_type": "code",
   "execution_count": 37,
   "metadata": {
    "collapsed": false
   },
   "outputs": [
    {
     "name": "stdout",
     "output_type": "stream",
     "text": [
      "Estimated intercept: 82.8816835278\n",
      "Number of coefficients: 3\n"
     ]
    },
    {
     "data": {
      "text/html": [
       "<div>\n",
       "<table border=\"1\" class=\"dataframe\">\n",
       "  <thead>\n",
       "    <tr style=\"text-align: right;\">\n",
       "      <th></th>\n",
       "      <th>Coefficients</th>\n",
       "    </tr>\n",
       "  </thead>\n",
       "  <tbody>\n",
       "    <tr>\n",
       "      <th>0</th>\n",
       "      <td>4.461694e-07</td>\n",
       "    </tr>\n",
       "    <tr>\n",
       "      <th>1</th>\n",
       "      <td>1.629156e-05</td>\n",
       "    </tr>\n",
       "    <tr>\n",
       "      <th>2</th>\n",
       "      <td>-4.190767e-05</td>\n",
       "    </tr>\n",
       "  </tbody>\n",
       "</table>\n",
       "</div>"
      ],
      "text/plain": [
       "   Coefficients\n",
       "0  4.461694e-07\n",
       "1  1.629156e-05\n",
       "2 -4.190767e-05"
      ]
     },
     "execution_count": 37,
     "metadata": {},
     "output_type": "execute_result"
    }
   ],
   "source": [
    "# PCA with n_components=3\n",
    "print('Estimated intercept:', lm3.intercept_)\n",
    "print('Number of coefficients:', len(lm3.coef_))\n",
    "pd.DataFrame(list(zip(lm3.coef_)), columns = ['Coefficients'])"
   ]
  },
  {
   "cell_type": "code",
   "execution_count": 38,
   "metadata": {
    "collapsed": false
   },
   "outputs": [
    {
     "name": "stdout",
     "output_type": "stream",
     "text": [
      "Estimated intercept: 82.8816835278\n",
      "Number of coefficients: 2\n"
     ]
    },
    {
     "data": {
      "text/html": [
       "<div>\n",
       "<table border=\"1\" class=\"dataframe\">\n",
       "  <thead>\n",
       "    <tr style=\"text-align: right;\">\n",
       "      <th></th>\n",
       "      <th>Coefficients</th>\n",
       "    </tr>\n",
       "  </thead>\n",
       "  <tbody>\n",
       "    <tr>\n",
       "      <th>0</th>\n",
       "      <td>4.461694e-07</td>\n",
       "    </tr>\n",
       "    <tr>\n",
       "      <th>1</th>\n",
       "      <td>1.629156e-05</td>\n",
       "    </tr>\n",
       "  </tbody>\n",
       "</table>\n",
       "</div>"
      ],
      "text/plain": [
       "   Coefficients\n",
       "0  4.461694e-07\n",
       "1  1.629156e-05"
      ]
     },
     "execution_count": 38,
     "metadata": {},
     "output_type": "execute_result"
    }
   ],
   "source": [
    "# PCA with n_components=2\n",
    "print('Estimated intercept:', lm4.intercept_)\n",
    "print('Number of coefficients:', len(lm4.coef_))\n",
    "pd.DataFrame(list(zip(lm4.coef_)), columns = ['Coefficients'])"
   ]
  },
  {
   "cell_type": "markdown",
   "metadata": {},
   "source": [
    "#### Predict Life Expectancy"
   ]
  },
  {
   "cell_type": "code",
   "execution_count": 39,
   "metadata": {
    "collapsed": false
   },
   "outputs": [
    {
     "data": {
      "text/plain": [
       "<matplotlib.text.Text at 0x7f90b7021550>"
      ]
     },
     "execution_count": 39,
     "metadata": {},
     "output_type": "execute_result"
    },
    {
     "data": {
      "image/png": "[encoded data removed]",
      "text/plain": [
       "<matplotlib.figure.Figure at 0x7f90b7580a90>"
      ]
     },
     "metadata": {},
     "output_type": "display_data"
    }
   ],
   "source": [
    "# Plot a histogram of all the predicted life expectancy\n",
    "plt.hist(lm2.predict(X2))\n",
    "plt.title('Predicted Life Expectancy')\n",
    "plt.xlabel('Life Expectancy')\n",
    "plt.ylabel('Frequency')"
   ]
  },
  {
   "cell_type": "code",
   "execution_count": 40,
   "metadata": {
    "collapsed": false
   },
   "outputs": [
    {
     "data": {
      "text/plain": [
       "<matplotlib.text.Text at 0x7f90b6f490b8>"
      ]
     },
     "execution_count": 40,
     "metadata": {},
     "output_type": "execute_result"
    },
    {
     "data": {
      "image/png": "[encoded data removed]",
      "text/plain": [
       "<matplotlib.figure.Figure at 0x7f90b6ee6b70>"
      ]
     },
     "metadata": {},
     "output_type": "display_data"
    }
   ],
   "source": [
    "# Plot a histogram of all the predicted life expectancy\n",
    "plt.hist(lm3.predict(X3))\n",
    "plt.title('Predicted Life Expectancy')\n",
    "plt.xlabel('Life Expectancy')\n",
    "plt.ylabel('Frequency')"
   ]
  },
  {
   "cell_type": "code",
   "execution_count": 41,
   "metadata": {
    "collapsed": false
   },
   "outputs": [
    {
     "data": {
      "text/plain": [
       "<matplotlib.text.Text at 0x7f90b6eefcf8>"
      ]
     },
     "execution_count": 41,
     "metadata": {},
     "output_type": "execute_result"
    },
    {
     "data": {
      "image/png": "[encoded data removed]",
      "text/plain": [
       "<matplotlib.figure.Figure at 0x7f90b6dd3470>"
      ]
     },
     "metadata": {},
     "output_type": "display_data"
    }
   ],
   "source": [
    "# Plot a histogram of all the predicted life expectancy\n",
    "plt.hist(lm4.predict(X4))\n",
    "plt.title('Predicted Life Expectancy')\n",
    "plt.xlabel('Life Expectancy')\n",
    "plt.ylabel('Frequency')"
   ]
  },
  {
   "cell_type": "code",
   "execution_count": 42,
   "metadata": {
    "collapsed": false
   },
   "outputs": [
    {
     "data": {
      "text/plain": [
       "<matplotlib.text.Text at 0x7f90b6cbe6d8>"
      ]
     },
     "execution_count": 42,
     "metadata": {},
     "output_type": "execute_result"
    },
    {
     "data": {
      "image/png": "[encoded data removed]",
      "text/plain": [
       "<matplotlib.figure.Figure at 0x7f90bded7ac8>"
      ]
     },
     "metadata": {},
     "output_type": "display_data"
    }
   ],
   "source": [
    "# True life expectancy compared to the predicted life expectancy\n",
    "plt.plot(y, lm2.predict(X2), 'b.')\n",
    "plt.xlabel('Life Expectancy')\n",
    "plt.ylabel('Predicted Life Expectancy')\n",
    "plt.title('Life Expectancy vs Predicted Life Expectancy')"
   ]
  },
  {
   "cell_type": "code",
   "execution_count": 43,
   "metadata": {
    "collapsed": false
   },
   "outputs": [
    {
     "data": {
      "text/plain": [
       "<matplotlib.text.Text at 0x7f90b6c61630>"
      ]
     },
     "execution_count": 43,
     "metadata": {},
     "output_type": "execute_result"
    },
    {
     "data": {
      "image/png": "[encoded data removed]",
      "text/plain": [
       "<matplotlib.figure.Figure at 0x7f90b6ffa4a8>"
      ]
     },
     "metadata": {},
     "output_type": "display_data"
    }
   ],
   "source": [
    "# True life expectancy compared to the predicted life expectancy\n",
    "plt.plot(y, lm3.predict(X3), 'b.')\n",
    "plt.xlabel('Life Expectancy')\n",
    "plt.ylabel('Predicted Life Expectancy')\n",
    "plt.title('Life Expectancy vs Predicted Life Expectancy')"
   ]
  },
  {
   "cell_type": "code",
   "execution_count": 44,
   "metadata": {
    "collapsed": false
   },
   "outputs": [
    {
     "data": {
      "text/plain": [
       "<matplotlib.text.Text at 0x7f90b6b7feb8>"
      ]
     },
     "execution_count": 44,
     "metadata": {},
     "output_type": "execute_result"
    },
    {
     "data": {
      "image/png": "[encoded data removed]",
      "text/plain": [
       "<matplotlib.figure.Figure at 0x7f90b763a320>"
      ]
     },
     "metadata": {},
     "output_type": "display_data"
    }
   ],
   "source": [
    "# True life expectancy compared to the predicted life expectancy\n",
    "plt.plot(y, lm4.predict(X4), 'b.')\n",
    "plt.xlabel('Life Expectancy')\n",
    "plt.ylabel('Predicted Life Expectancy')\n",
    "plt.title('Life Expectancy vs Predicted Life Expectancy')"
   ]
  },
  {
   "cell_type": "markdown",
   "metadata": {},
   "source": [
    "##### Residual sum of squares"
   ]
  },
  {
   "cell_type": "code",
   "execution_count": 45,
   "metadata": {
    "collapsed": false
   },
   "outputs": [
    {
     "name": "stdout",
     "output_type": "stream",
     "text": [
      "675.5142425997581\n"
     ]
    }
   ],
   "source": [
    "print(np.sum((y - lm2.predict(X2)) ** 2))"
   ]
  },
  {
   "cell_type": "code",
   "execution_count": 46,
   "metadata": {
    "collapsed": false
   },
   "outputs": [
    {
     "name": "stdout",
     "output_type": "stream",
     "text": [
      "860.1684165761304\n"
     ]
    }
   ],
   "source": [
    "print(np.sum((y - lm3.predict(X3)) ** 2))"
   ]
  },
  {
   "cell_type": "code",
   "execution_count": 47,
   "metadata": {
    "collapsed": false
   },
   "outputs": [
    {
     "name": "stdout",
     "output_type": "stream",
     "text": [
      "897.2897661147032\n"
     ]
    }
   ],
   "source": [
    "print(np.sum((y - lm4.predict(X4)) ** 2))"
   ]
  },
  {
   "cell_type": "markdown",
   "metadata": {},
   "source": [
    "##### Mean squared error"
   ]
  },
  {
   "cell_type": "code",
   "execution_count": 48,
   "metadata": {
    "collapsed": false
   },
   "outputs": [
    {
     "name": "stdout",
     "output_type": "stream",
     "text": [
      "0.6295566100650122\n"
     ]
    }
   ],
   "source": [
    "print(np.mean((y - lm2.predict(X2)) ** 2))"
   ]
  },
  {
   "cell_type": "code",
   "execution_count": 49,
   "metadata": {
    "collapsed": false
   },
   "outputs": [
    {
     "name": "stdout",
     "output_type": "stream",
     "text": [
      "0.8016481049171765\n"
     ]
    }
   ],
   "source": [
    "print(np.mean((y - lm3.predict(X3)) ** 2))"
   ]
  },
  {
   "cell_type": "code",
   "execution_count": 50,
   "metadata": {
    "collapsed": false
   },
   "outputs": [
    {
     "name": "stdout",
     "output_type": "stream",
     "text": [
      "0.8362439572364428\n"
     ]
    }
   ],
   "source": [
    "print(np.mean((y - lm4.predict(X4)) ** 2))"
   ]
  },
  {
   "cell_type": "code",
   "execution_count": 51,
   "metadata": {
    "collapsed": false
   },
   "outputs": [
    {
     "data": {
      "text/plain": [
       "<seaborn.axisgrid.FacetGrid at 0x7f90b6b6b9b0>"
      ]
     },
     "execution_count": 51,
     "metadata": {},
     "output_type": "execute_result"
    },
    {
     "data": {
      "image/png": "[encoded data removed]",
      "text/plain": [
       "<matplotlib.figure.Figure at 0x7f90b6b6b6a0>"
      ]
     },
     "metadata": {},
     "output_type": "display_data"
    }
   ],
   "source": [
    "sns.lmplot(x='hhinc00', y='le', data=tb)"
   ]
  },
  {
   "cell_type": "markdown",
   "metadata": {},
   "source": [
    "#### 4) Training and Test Data sets"
   ]
  },
  {
   "cell_type": "markdown",
   "metadata": {},
   "source": [
    "* PCA with n_components=10"
   ]
  },
  {
   "cell_type": "code",
   "execution_count": 52,
   "metadata": {
    "collapsed": false
   },
   "outputs": [
    {
     "name": "stdout",
     "output_type": "stream",
     "text": [
      "(858, 10)\n",
      "(215, 10)\n",
      "(858,)\n",
      "(215,)\n"
     ]
    }
   ],
   "source": [
    "# Split dataset\n",
    "from sklearn.model_selection import train_test_split\n",
    "X1_train, X1_test, y1_train, y1_test = train_test_split(X1, y, test_size=0.2, random_state = 5)\n",
    "print(X1_train.shape)\n",
    "print(X1_test.shape)\n",
    "print(y1_train.shape)\n",
    "print(y1_test.shape)"
   ]
  },
  {
   "cell_type": "code",
   "execution_count": 53,
   "metadata": {
    "collapsed": true
   },
   "outputs": [],
   "source": [
    "# Build a linear regression model using training data sets\n",
    "lm1 = LinearRegression()\n",
    "lm1.fit(X1_train, y1_train)\n",
    "pred_train1 = lm1.predict(X1_train)\n",
    "pred_test1 = lm1.predict(X1_test)"
   ]
  },
  {
   "cell_type": "code",
   "execution_count": 54,
   "metadata": {
    "collapsed": false
   },
   "outputs": [
    {
     "name": "stdout",
     "output_type": "stream",
     "text": [
      "Fit a model X_train, and calculate MSE with y_train: 0.43135675948677205\n",
      "Fit a model X_train, and calculate MSE with X_test, y_test: 0.44241485234143607\n"
     ]
    }
   ],
   "source": [
    "# Calculate the mean squared error\n",
    "print(\"Fit a model X_train, and calculate MSE with y_train:\", np.mean((y1_train - pred_train1) ** 2))\n",
    "print(\"Fit a model X_train, and calculate MSE with X_test, y_test:\", np.mean((y1_test - pred_test1) ** 2))"
   ]
  },
  {
   "cell_type": "markdown",
   "metadata": {},
   "source": [
    "* PCA with n_components=5"
   ]
  },
  {
   "cell_type": "code",
   "execution_count": 55,
   "metadata": {
    "collapsed": false
   },
   "outputs": [
    {
     "name": "stdout",
     "output_type": "stream",
     "text": [
      "(858, 5)\n",
      "(215, 5)\n",
      "(858,)\n",
      "(215,)\n"
     ]
    }
   ],
   "source": [
    "# Split dataset\n",
    "from sklearn.model_selection import train_test_split\n",
    "X2_train, X2_test, y2_train, y2_test = train_test_split(X2, y, test_size=0.2, random_state = 5)\n",
    "print(X2_train.shape)\n",
    "print(X2_test.shape)\n",
    "print(y2_train.shape)\n",
    "print(y2_test.shape)"
   ]
  },
  {
   "cell_type": "code",
   "execution_count": 56,
   "metadata": {
    "collapsed": true
   },
   "outputs": [],
   "source": [
    "# Build a linear regression model using training data sets\n",
    "lm2 = LinearRegression()\n",
    "lm2.fit(X2_train, y2_train)\n",
    "pred_train2 = lm2.predict(X2_train)\n",
    "pred_test2 = lm2.predict(X2_test)"
   ]
  },
  {
   "cell_type": "code",
   "execution_count": 57,
   "metadata": {
    "collapsed": false
   },
   "outputs": [
    {
     "name": "stdout",
     "output_type": "stream",
     "text": [
      "Fit a model X_train, and calculate MSE with y_train: 0.6392305603975829\n",
      "Fit a model X_train, and calculate MSE with X_test, y_test: 0.6044248330593767\n"
     ]
    }
   ],
   "source": [
    "# Calculate the mean squared error\n",
    "print(\"Fit a model X_train, and calculate MSE with y_train:\", np.mean((y2_train - pred_train2) ** 2))\n",
    "print(\"Fit a model X_train, and calculate MSE with X_test, y_test:\", np.mean((y2_test - pred_test2) ** 2))"
   ]
  },
  {
   "cell_type": "markdown",
   "metadata": {},
   "source": [
    "* PCA with n_components=3"
   ]
  },
  {
   "cell_type": "code",
   "execution_count": 58,
   "metadata": {
    "collapsed": false
   },
   "outputs": [
    {
     "name": "stdout",
     "output_type": "stream",
     "text": [
      "(858, 3)\n",
      "(215, 3)\n",
      "(858,)\n",
      "(215,)\n"
     ]
    }
   ],
   "source": [
    "# Split dataset\n",
    "from sklearn.model_selection import train_test_split\n",
    "X3_train, X3_test, y3_train, y3_test = train_test_split(X3, y, test_size=0.2, random_state = 5)\n",
    "print(X3_train.shape)\n",
    "print(X3_test.shape)\n",
    "print(y3_train.shape)\n",
    "print(y3_test.shape)"
   ]
  },
  {
   "cell_type": "code",
   "execution_count": 59,
   "metadata": {
    "collapsed": true
   },
   "outputs": [],
   "source": [
    "# Build a linear regression model using training data sets\n",
    "lm3 = LinearRegression()\n",
    "lm3.fit(X3_train, y3_train)\n",
    "pred_train3 = lm3.predict(X3_train)\n",
    "pred_test3 = lm3.predict(X3_test)"
   ]
  },
  {
   "cell_type": "code",
   "execution_count": 60,
   "metadata": {
    "collapsed": false
   },
   "outputs": [
    {
     "name": "stdout",
     "output_type": "stream",
     "text": [
      "Fit a model X_train, and calculate MSE with y_train: 0.7918447356814086\n",
      "Fit a model X_train, and calculate MSE with X_test, y_test: 0.8539001580812011\n"
     ]
    }
   ],
   "source": [
    "# Calculate the mean squared error\n",
    "print(\"Fit a model X_train, and calculate MSE with y_train:\", np.mean((y3_train - pred_train3) ** 2))\n",
    "print(\"Fit a model X_train, and calculate MSE with X_test, y_test:\", np.mean((y3_test - pred_test3) ** 2))"
   ]
  },
  {
   "cell_type": "markdown",
   "metadata": {},
   "source": [
    "* PCA with n_components=2"
   ]
  },
  {
   "cell_type": "code",
   "execution_count": 61,
   "metadata": {
    "collapsed": false
   },
   "outputs": [
    {
     "name": "stdout",
     "output_type": "stream",
     "text": [
      "(858, 2)\n",
      "(215, 2)\n",
      "(858,)\n",
      "(215,)\n"
     ]
    }
   ],
   "source": [
    "# Split dataset\n",
    "from sklearn.model_selection import train_test_split\n",
    "X4_train, X4_test, y4_train, y4_test = train_test_split(X4, y, test_size=0.2, random_state = 5)\n",
    "print(X4_train.shape)\n",
    "print(X4_test.shape)\n",
    "print(y4_train.shape)\n",
    "print(y4_test.shape)"
   ]
  },
  {
   "cell_type": "code",
   "execution_count": 62,
   "metadata": {
    "collapsed": true
   },
   "outputs": [],
   "source": [
    "# Build a linear regression model using training data sets\n",
    "lm4 = LinearRegression()\n",
    "lm4.fit(X4_train, y4_train)\n",
    "pred_train4 = lm4.predict(X4_train)\n",
    "pred_test4 = lm4.predict(X4_test)"
   ]
  },
  {
   "cell_type": "code",
   "execution_count": 63,
   "metadata": {
    "collapsed": false
   },
   "outputs": [
    {
     "name": "stdout",
     "output_type": "stream",
     "text": [
      "Fit a model X_train, and calculate MSE with y_train: 0.8143850689865173\n",
      "Fit a model X_train, and calculate MSE with X_test, y_test: 0.9356580969583564\n"
     ]
    }
   ],
   "source": [
    "# Calculate the mean squared error\n",
    "print(\"Fit a model X_train, and calculate MSE with y_train:\", np.mean((y4_train - pred_train4) ** 2))\n",
    "print(\"Fit a model X_train, and calculate MSE with X_test, y_test:\", np.mean((y4_test - pred_test4) ** 2))"
   ]
  },
  {
   "cell_type": "markdown",
   "metadata": {},
   "source": [
    "##### Residual plots"
   ]
  },
  {
   "cell_type": "markdown",
   "metadata": {},
   "source": [
    "* PCA with n_components=10"
   ]
  },
  {
   "cell_type": "code",
   "execution_count": 64,
   "metadata": {
    "collapsed": false
   },
   "outputs": [
    {
     "data": {
      "text/plain": [
       "<matplotlib.text.Text at 0x7f90b6a53a90>"
      ]
     },
     "execution_count": 64,
     "metadata": {},
     "output_type": "execute_result"
    },
    {
     "data": {
      "image/png": "[encoded data removed]",
      "text/plain": [
       "<matplotlib.figure.Figure at 0x7f90b6b70b38>"
      ]
     },
     "metadata": {},
     "output_type": "display_data"
    }
   ],
   "source": [
    "plt.scatter(pred_train1, pred_train1 - y1_train, c='b', s=20, alpha=0.4)\n",
    "plt.scatter(pred_test1, pred_test1 - y1_test, c='g', s=20, alpha=0.8)\n",
    "plt.hlines(y = 0, xmin=78, xmax = 88)\n",
    "plt.title('Residual Plot using training (blue) and test (green) data')\n",
    "plt.ylabel('Residuals')"
   ]
  },
  {
   "cell_type": "markdown",
   "metadata": {
    "collapsed": true
   },
   "source": [
    "* PCA with n_components=5"
   ]
  },
  {
   "cell_type": "code",
   "execution_count": 65,
   "metadata": {
    "collapsed": false
   },
   "outputs": [
    {
     "data": {
      "text/plain": [
       "<matplotlib.text.Text at 0x7f90b6af7550>"
      ]
     },
     "execution_count": 65,
     "metadata": {},
     "output_type": "execute_result"
    },
    {
     "data": {
      "image/png": "[encoded data removed]",
      "text/plain": [
       "<matplotlib.figure.Figure at 0x7f90b6a6f470>"
      ]
     },
     "metadata": {},
     "output_type": "display_data"
    }
   ],
   "source": [
    "plt.scatter(pred_train2, pred_train2 - y2_train, c='b', s=20, alpha=0.4)\n",
    "plt.scatter(pred_test2, pred_test2 - y2_test, c='g', s=20, alpha=0.8)\n",
    "plt.hlines(y = 0, xmin=79, xmax = 89)\n",
    "plt.title('Residual Plot using training (blue) and test (green) data')\n",
    "plt.ylabel('Residuals')"
   ]
  },
  {
   "cell_type": "markdown",
   "metadata": {
    "collapsed": true
   },
   "source": [
    "* PCA with n_components=3"
   ]
  },
  {
   "cell_type": "code",
   "execution_count": 66,
   "metadata": {
    "collapsed": false
   },
   "outputs": [
    {
     "data": {
      "text/plain": [
       "<matplotlib.text.Text at 0x7f90b69b8208>"
      ]
     },
     "execution_count": 66,
     "metadata": {},
     "output_type": "execute_result"
    },
    {
     "data": {
      "image/png": "[encoded data removed]",
      "text/plain": [
       "<matplotlib.figure.Figure at 0x7f90b698a240>"
      ]
     },
     "metadata": {},
     "output_type": "display_data"
    }
   ],
   "source": [
    "plt.scatter(pred_train3, pred_train3 - y3_train, c='b', s=20, alpha=0.4)\n",
    "plt.scatter(pred_test3, pred_test3 - y3_test, c='g', s=20, alpha=0.8)\n",
    "plt.hlines(y = 0, xmin=80, xmax = 90)\n",
    "plt.title('Residual Plot using training (blue) and test (green) data')\n",
    "plt.ylabel('Residuals')"
   ]
  },
  {
   "cell_type": "markdown",
   "metadata": {},
   "source": [
    "* PCA with n_components=2"
   ]
  },
  {
   "cell_type": "code",
   "execution_count": 67,
   "metadata": {
    "collapsed": false
   },
   "outputs": [
    {
     "data": {
      "text/plain": [
       "<matplotlib.text.Text at 0x7f90b696e240>"
      ]
     },
     "execution_count": 67,
     "metadata": {},
     "output_type": "execute_result"
    },
    {
     "data": {
      "image/png": "[encoded data removed]",
      "text/plain": [
       "<matplotlib.figure.Figure at 0x7f90b68d9438>"
      ]
     },
     "metadata": {},
     "output_type": "display_data"
    }
   ],
   "source": [
    "plt.scatter(pred_train4, pred_train4 - y4_train, c='b', s=20, alpha=0.4)\n",
    "plt.scatter(pred_test4, pred_test4 - y4_test, c='g', s=20, alpha=0.8)\n",
    "plt.hlines(y = 0, xmin=80, xmax = 90)\n",
    "plt.title('Residual Plot using training (blue) and test (green) data')\n",
    "plt.ylabel('Residuals')"
   ]
  },
  {
   "cell_type": "markdown",
   "metadata": {},
   "source": [
    "### 2. Support Vector Machines"
   ]
  },
  {
   "cell_type": "code",
   "execution_count": 68,
   "metadata": {
    "collapsed": false
   },
   "outputs": [],
   "source": [
    "# Import Library\n",
    "from sklearn.svm import SVR"
   ]
  },
  {
   "cell_type": "markdown",
   "metadata": {},
   "source": [
    "#### 1) Use all 53 predictors to fit Support Vector Regression model"
   ]
  },
  {
   "cell_type": "code",
   "execution_count": 69,
   "metadata": {
    "collapsed": true
   },
   "outputs": [],
   "source": [
    "X0 = X.copy()"
   ]
  },
  {
   "cell_type": "code",
   "execution_count": 70,
   "metadata": {
    "collapsed": false
   },
   "outputs": [
    {
     "name": "stdout",
     "output_type": "stream",
     "text": [
      "Coefficient of determination R^2 of the prediction: 0.78348896526\n"
     ]
    }
   ],
   "source": [
    "# Support Vector Regression \n",
    "svr = SVR()\n",
    "svr.fit(X0, y)\n",
    "print('Coefficient of determination R^2 of the prediction:', svr.score(X0, y))"
   ]
  },
  {
   "cell_type": "code",
   "execution_count": 79,
   "metadata": {
    "collapsed": false
   },
   "outputs": [
    {
     "name": "stdout",
     "output_type": "stream",
     "text": [
      "Coefficient of determination R^2 of the prediction: 0.508880532926\n"
     ]
    }
   ],
   "source": [
    "# RBF model with C=0.5\n",
    "svr_rbf1 = SVR(kernel='rbf', C=0.5)\n",
    "svr_rbf1.fit(X0, y)\n",
    "print('Coefficient of determination R^2 of the prediction:', svr_rbf1.score(X0, y))"
   ]
  },
  {
   "cell_type": "code",
   "execution_count": 80,
   "metadata": {
    "collapsed": false
   },
   "outputs": [
    {
     "name": "stdout",
     "output_type": "stream",
     "text": [
      "Coefficient of determination R^2 of the prediction: 0.119554155052\n"
     ]
    }
   ],
   "source": [
    "# RBF model with C=0.1\n",
    "svr_rbf2 = SVR(kernel='rbf', C=0.1)\n",
    "svr_rbf2.fit(X0, y)\n",
    "print('Coefficient of determination R^2 of the prediction:', svr_rbf2.score(X0, y))"
   ]
  },
  {
   "cell_type": "code",
   "execution_count": 72,
   "metadata": {
    "collapsed": false
   },
   "outputs": [],
   "source": [
    "# Polynomial model with C=0.1\n",
    "#svr_poly = SVR(kernel='poly', C=0.1)\n",
    "#svr_poly.fit(X0, y)\n",
    "#print('Coefficient of determination R^2 of the prediction:', svr_poly.score(X0, y))"
   ]
  },
  {
   "cell_type": "code",
   "execution_count": 81,
   "metadata": {
    "collapsed": false
   },
   "outputs": [
    {
     "name": "stdout",
     "output_type": "stream",
     "text": [
      "Coefficient of determination R^2 of the prediction: 0.00429124413604\n"
     ]
    }
   ],
   "source": [
    "# RBF model with C=0.01\n",
    "svr_rbf3 = SVR(kernel='rbf', C=0.01)\n",
    "svr_rbf3.fit(X0, y)\n",
    "print('Coefficient of determination R^2 of the prediction:', svr_rbf3.score(X0, y))"
   ]
  },
  {
   "cell_type": "code",
   "execution_count": null,
   "metadata": {
    "collapsed": true
   },
   "outputs": [],
   "source": [
    "# Polynomial model with C=0.01\n",
    "#svr_poly = SVR(kernel='poly', C=0.01)\n",
    "#svr_poly.fit(X0, y)\n",
    "#print('Coefficient of determination R^2 of the prediction:', svr_poly.score(X0, y))"
   ]
  },
  {
   "cell_type": "markdown",
   "metadata": {},
   "source": [
    "#### Predict Life Expectancy"
   ]
  },
  {
   "cell_type": "markdown",
   "metadata": {},
   "source": [
    "Default model"
   ]
  },
  {
   "cell_type": "code",
   "execution_count": 77,
   "metadata": {
    "collapsed": false
   },
   "outputs": [
    {
     "data": {
      "text/plain": [
       "<matplotlib.text.Text at 0x7f90b68309e8>"
      ]
     },
     "execution_count": 77,
     "metadata": {},
     "output_type": "execute_result"
    },
    {
     "data": {
      "image/png": "[encoded data removed]",
      "text/plain": [
       "<matplotlib.figure.Figure at 0x7f90b6969a20>"
      ]
     },
     "metadata": {},
     "output_type": "display_data"
    }
   ],
   "source": [
    "# Plot a histogram of all the predicted life expectancy\n",
    "plt.hist(svr.predict(X0))\n",
    "plt.title('Predicted Life Expectancy')\n",
    "plt.xlabel('Life Expectancy')\n",
    "plt.ylabel('Frequency')"
   ]
  },
  {
   "cell_type": "code",
   "execution_count": 78,
   "metadata": {
    "collapsed": false,
    "scrolled": true
   },
   "outputs": [
    {
     "data": {
      "text/plain": [
       "<matplotlib.text.Text at 0x7f90b65f9a20>"
      ]
     },
     "execution_count": 78,
     "metadata": {},
     "output_type": "execute_result"
    },
    {
     "data": {
      "image/png": "[encoded data removed]",
      "text/plain": [
       "<matplotlib.figure.Figure at 0x7f90b6939fd0>"
      ]
     },
     "metadata": {},
     "output_type": "display_data"
    }
   ],
   "source": [
    "# True life expectancy compared to the predicted life expectancy\n",
    "plt.plot(y, svr.predict(X0), 'b.')\n",
    "plt.xlabel('Life Expectancy')\n",
    "plt.ylabel('Predicted Life Expectancy')\n",
    "plt.title('Life Expectancy vs Predicted Life Expectancy')"
   ]
  },
  {
   "cell_type": "markdown",
   "metadata": {},
   "source": [
    "RBF model with C=0.5"
   ]
  },
  {
   "cell_type": "code",
   "execution_count": 82,
   "metadata": {
    "collapsed": false
   },
   "outputs": [
    {
     "data": {
      "text/plain": [
       "<matplotlib.text.Text at 0x7f90b668ba90>"
      ]
     },
     "execution_count": 82,
     "metadata": {},
     "output_type": "execute_result"
    },
    {
     "data": {
      "image/png": "[encoded data removed]",
      "text/plain": [
       "<matplotlib.figure.Figure at 0x7f90b6778080>"
      ]
     },
     "metadata": {},
     "output_type": "display_data"
    }
   ],
   "source": [
    "# Plot a histogram of all the predicted life expectancy\n",
    "plt.hist(svr_rbf1.predict(X0))\n",
    "plt.title('Predicted Life Expectancy')\n",
    "plt.xlabel('Life Expectancy')\n",
    "plt.ylabel('Frequency')"
   ]
  },
  {
   "cell_type": "code",
   "execution_count": 83,
   "metadata": {
    "collapsed": false
   },
   "outputs": [
    {
     "data": {
      "text/plain": [
       "<matplotlib.text.Text at 0x7f90b64e0e10>"
      ]
     },
     "execution_count": 83,
     "metadata": {},
     "output_type": "execute_result"
    },
    {
     "data": {
      "image/png": "[encoded data removed]",
      "text/plain": [
       "<matplotlib.figure.Figure at 0x7f90b69cccf8>"
      ]
     },
     "metadata": {},
     "output_type": "display_data"
    }
   ],
   "source": [
    "# True life expectancy compared to the predicted life expectancy\n",
    "plt.plot(y, svr_rbf1.predict(X0), 'b.')\n",
    "plt.xlabel('Life Expectancy')\n",
    "plt.ylabel('Predicted Life Expectancy')\n",
    "plt.title('Life Expectancy vs Predicted Life Expectancy')"
   ]
  },
  {
   "cell_type": "markdown",
   "metadata": {},
   "source": [
    "RBF model with C=0.1"
   ]
  },
  {
   "cell_type": "code",
   "execution_count": 84,
   "metadata": {
    "collapsed": false
   },
   "outputs": [
    {
     "data": {
      "text/plain": [
       "<matplotlib.text.Text at 0x7f90b6437fd0>"
      ]
     },
     "execution_count": 84,
     "metadata": {},
     "output_type": "execute_result"
    },
    {
     "data": {
      "image/png": "[encoded data removed]",
      "text/plain": [
       "<matplotlib.figure.Figure at 0x7f90b65cbc88>"
      ]
     },
     "metadata": {},
     "output_type": "display_data"
    }
   ],
   "source": [
    "# Plot a histogram of all the predicted life expectancy\n",
    "plt.hist(svr_rbf2.predict(X0))\n",
    "plt.title('Predicted Life Expectancy')\n",
    "plt.xlabel('Life Expectancy')\n",
    "plt.ylabel('Frequency')"
   ]
  },
  {
   "cell_type": "code",
   "execution_count": 85,
   "metadata": {
    "collapsed": false
   },
   "outputs": [
    {
     "data": {
      "text/plain": [
       "<matplotlib.text.Text at 0x7f90b6343320>"
      ]
     },
     "execution_count": 85,
     "metadata": {},
     "output_type": "execute_result"
    },
    {
     "data": {
      "image/png": "[encoded data removed]",
      "text/plain": [
       "<matplotlib.figure.Figure at 0x7f90b6b295f8>"
      ]
     },
     "metadata": {},
     "output_type": "display_data"
    }
   ],
   "source": [
    "# True life expectancy compared to the predicted life expectancy\n",
    "plt.plot(y, svr_rbf2.predict(X0), 'b.')\n",
    "plt.xlabel('Life Expectancy')\n",
    "plt.ylabel('Predicted Life Expectancy')\n",
    "plt.title('Life Expectancy vs Predicted Life Expectancy')"
   ]
  },
  {
   "cell_type": "markdown",
   "metadata": {},
   "source": [
    "RBF model with C=0.01"
   ]
  },
  {
   "cell_type": "code",
   "execution_count": 86,
   "metadata": {
    "collapsed": false
   },
   "outputs": [
    {
     "data": {
      "text/plain": [
       "<matplotlib.text.Text at 0x7f90b63962b0>"
      ]
     },
     "execution_count": 86,
     "metadata": {},
     "output_type": "execute_result"
    },
    {
     "data": {
      "image/png": "[encoded data removed]",
      "text/plain": [
       "<matplotlib.figure.Figure at 0x7f90b632f240>"
      ]
     },
     "metadata": {},
     "output_type": "display_data"
    }
   ],
   "source": [
    "# Plot a histogram of all the predicted life expectancy\n",
    "plt.hist(svr_rbf3.predict(X0))\n",
    "plt.title('Predicted Life Expectancy')\n",
    "plt.xlabel('Life Expectancy')\n",
    "plt.ylabel('Frequency')"
   ]
  },
  {
   "cell_type": "code",
   "execution_count": 87,
   "metadata": {
    "collapsed": false
   },
   "outputs": [
    {
     "data": {
      "text/plain": [
       "<matplotlib.text.Text at 0x7f90b6228e80>"
      ]
     },
     "execution_count": 87,
     "metadata": {},
     "output_type": "execute_result"
    },
    {
     "data": {
      "image/png": "[encoded data removed]",
      "text/plain": [
       "<matplotlib.figure.Figure at 0x7f90b69cc828>"
      ]
     },
     "metadata": {},
     "output_type": "display_data"
    }
   ],
   "source": [
    "# True life expectancy compared to the predicted life expectancy\n",
    "plt.plot(y, svr_rbf2.predict(X0), 'b.')\n",
    "plt.xlabel('Life Expectancy')\n",
    "plt.ylabel('Predicted Life Expectancy')\n",
    "plt.title('Life Expectancy vs Predicted Life Expectancy')"
   ]
  },
  {
   "cell_type": "markdown",
   "metadata": {},
   "source": [
    "##### Residual sum of squares"
   ]
  },
  {
   "cell_type": "code",
   "execution_count": 88,
   "metadata": {
    "collapsed": false
   },
   "outputs": [
    {
     "name": "stdout",
     "output_type": "stream",
     "text": [
      "327.6528155389526\n"
     ]
    }
   ],
   "source": [
    "print(np.sum((y - svr.predict(X0)) ** 2))"
   ]
  },
  {
   "cell_type": "code",
   "execution_count": 89,
   "metadata": {
    "collapsed": false
   },
   "outputs": [
    {
     "name": "stdout",
     "output_type": "stream",
     "text": [
      "743.2262117551106\n"
     ]
    }
   ],
   "source": [
    "print(np.sum((y - svr_rbf1.predict(X0)) ** 2))"
   ]
  },
  {
   "cell_type": "code",
   "execution_count": 90,
   "metadata": {
    "collapsed": false
   },
   "outputs": [
    {
     "name": "stdout",
     "output_type": "stream",
     "text": [
      "1332.4058072769253\n"
     ]
    }
   ],
   "source": [
    "print(np.sum((y - svr_rbf2.predict(X0)) ** 2))"
   ]
  },
  {
   "cell_type": "code",
   "execution_count": 91,
   "metadata": {
    "collapsed": false
   },
   "outputs": [
    {
     "name": "stdout",
     "output_type": "stream",
     "text": [
      "1506.8367194674017\n"
     ]
    }
   ],
   "source": [
    "print(np.sum((y - svr_rbf3.predict(X0)) ** 2))"
   ]
  },
  {
   "cell_type": "markdown",
   "metadata": {},
   "source": [
    "##### Mean squared error"
   ]
  },
  {
   "cell_type": "code",
   "execution_count": 92,
   "metadata": {
    "collapsed": false
   },
   "outputs": [
    {
     "name": "stdout",
     "output_type": "stream",
     "text": [
      "0.3053614310707853\n"
     ]
    }
   ],
   "source": [
    "print(np.mean((y - svr.predict(X0)) ** 2))"
   ]
  },
  {
   "cell_type": "code",
   "execution_count": 93,
   "metadata": {
    "collapsed": false
   },
   "outputs": [
    {
     "name": "stdout",
     "output_type": "stream",
     "text": [
      "0.6926618935275961\n"
     ]
    }
   ],
   "source": [
    "print(np.mean((y - svr_rbf1.predict(X0)) ** 2))"
   ]
  },
  {
   "cell_type": "code",
   "execution_count": 94,
   "metadata": {
    "collapsed": false
   },
   "outputs": [
    {
     "name": "stdout",
     "output_type": "stream",
     "text": [
      "1.2417575091117663\n"
     ]
    }
   ],
   "source": [
    "print(np.mean((y - svr_rbf2.predict(X0)) ** 2))"
   ]
  },
  {
   "cell_type": "code",
   "execution_count": 95,
   "metadata": {
    "collapsed": false
   },
   "outputs": [
    {
     "name": "stdout",
     "output_type": "stream",
     "text": [
      "1.4043212669780072\n"
     ]
    }
   ],
   "source": [
    "print(np.mean((y - svr_rbf3.predict(X0)) ** 2))"
   ]
  },
  {
   "cell_type": "markdown",
   "metadata": {},
   "source": [
    "#### 2) Feature selection"
   ]
  },
  {
   "cell_type": "code",
   "execution_count": 97,
   "metadata": {
    "collapsed": false
   },
   "outputs": [
    {
     "name": "stdout",
     "output_type": "stream",
     "text": [
      "Coefficient of determination R^2 of the prediction: 0.508880532926\n"
     ]
    }
   ],
   "source": [
    "# PCA with n_components=10\n",
    "svr1 = SVR(C=0.5)\n",
    "svr1.fit(X1, y)\n",
    "print('Coefficient of determination R^2 of the prediction:', svr1.score(X1, y))"
   ]
  },
  {
   "cell_type": "code",
   "execution_count": 99,
   "metadata": {
    "collapsed": false
   },
   "outputs": [
    {
     "name": "stdout",
     "output_type": "stream",
     "text": [
      "Coefficient of determination R^2 of the prediction: 0.508880532926\n"
     ]
    }
   ],
   "source": [
    "# PCA with n_components=5\n",
    "svr2 = SVR(C=0.5)\n",
    "svr2.fit(X2, y)\n",
    "print('Coefficient of determination R^2 of the prediction:', svr2.score(X2, y))"
   ]
  },
  {
   "cell_type": "code",
   "execution_count": 100,
   "metadata": {
    "collapsed": false
   },
   "outputs": [
    {
     "name": "stdout",
     "output_type": "stream",
     "text": [
      "Coefficient of determination R^2 of the prediction: 0.508880532926\n"
     ]
    }
   ],
   "source": [
    "# PCA with n_components=3\n",
    "svr3 = SVR(C=0.5)\n",
    "svr3.fit(X3, y)\n",
    "print('Coefficient of determination R^2 of the prediction:', svr3.score(X3, y))"
   ]
  },
  {
   "cell_type": "code",
   "execution_count": 101,
   "metadata": {
    "collapsed": false
   },
   "outputs": [
    {
     "name": "stdout",
     "output_type": "stream",
     "text": [
      "Coefficient of determination R^2 of the prediction: 0.508880532926\n"
     ]
    }
   ],
   "source": [
    "# PCA with n_components=2\n",
    "svr4 = SVR(C=0.5)\n",
    "svr4.fit(X4, y)\n",
    "print('Coefficient of determination R^2 of the prediction:', svr4.score(X4, y))"
   ]
  },
  {
   "cell_type": "markdown",
   "metadata": {},
   "source": [
    "#### Predict Life Expectancy"
   ]
  },
  {
   "cell_type": "code",
   "execution_count": 102,
   "metadata": {
    "collapsed": false
   },
   "outputs": [
    {
     "data": {
      "text/plain": [
       "<matplotlib.text.Text at 0x7f90b5f3dac8>"
      ]
     },
     "execution_count": 102,
     "metadata": {},
     "output_type": "execute_result"
    },
    {
     "data": {
      "image/png": "[encoded data removed]",
      "text/plain": [
       "<matplotlib.figure.Figure at 0x7f90b5f73f60>"
      ]
     },
     "metadata": {},
     "output_type": "display_data"
    }
   ],
   "source": [
    "# Plot a histogram of all the predicted life expectancy\n",
    "plt.hist(svr1.predict(X1))\n",
    "plt.title('Predicted Life Expectancy')\n",
    "plt.xlabel('Life Expectancy')\n",
    "plt.ylabel('Frequency')"
   ]
  },
  {
   "cell_type": "code",
   "execution_count": 103,
   "metadata": {
    "collapsed": false
   },
   "outputs": [
    {
     "data": {
      "text/plain": [
       "<matplotlib.text.Text at 0x7f90b5e86438>"
      ]
     },
     "execution_count": 103,
     "metadata": {},
     "output_type": "execute_result"
    },
    {
     "data": {
      "image/png": "[encoded data removed]",
      "text/plain": [
       "<matplotlib.figure.Figure at 0x7f90b5ecad68>"
      ]
     },
     "metadata": {},
     "output_type": "display_data"
    }
   ],
   "source": [
    "# Plot a histogram of all the predicted life expectancy\n",
    "plt.hist(svr2.predict(X2))\n",
    "plt.title('Predicted Life Expectancy')\n",
    "plt.xlabel('Life Expectancy')\n",
    "plt.ylabel('Frequency')"
   ]
  },
  {
   "cell_type": "code",
   "execution_count": 104,
   "metadata": {
    "collapsed": false
   },
   "outputs": [
    {
     "data": {
      "text/plain": [
       "<matplotlib.text.Text at 0x7f90b5ed86d8>"
      ]
     },
     "execution_count": 104,
     "metadata": {},
     "output_type": "execute_result"
    },
    {
     "data": {
      "image/png": "[encoded data removed]",
      "text/plain": [
       "<matplotlib.figure.Figure at 0x7f90b6174ba8>"
      ]
     },
     "metadata": {},
     "output_type": "display_data"
    }
   ],
   "source": [
    "# Plot a histogram of all the predicted life expectancy\n",
    "plt.hist(svr3.predict(X3))\n",
    "plt.title('Predicted Life Expectancy')\n",
    "plt.xlabel('Life Expectancy')\n",
    "plt.ylabel('Frequency')"
   ]
  },
  {
   "cell_type": "code",
   "execution_count": 105,
   "metadata": {
    "collapsed": false
   },
   "outputs": [
    {
     "data": {
      "text/plain": [
       "<matplotlib.text.Text at 0x7f90b5ec6cf8>"
      ]
     },
     "execution_count": 105,
     "metadata": {},
     "output_type": "execute_result"
    },
    {
     "data": {
      "image/png": "[encoded data removed]",
      "text/plain": [
       "<matplotlib.figure.Figure at 0x7f90b5f6aac8>"
      ]
     },
     "metadata": {},
     "output_type": "display_data"
    }
   ],
   "source": [
    "# Plot a histogram of all the predicted life expectancy\n",
    "plt.hist(svr4.predict(X4))\n",
    "plt.title('Predicted Life Expectancy')\n",
    "plt.xlabel('Life Expectancy')\n",
    "plt.ylabel('Frequency')"
   ]
  },
  {
   "cell_type": "code",
   "execution_count": 106,
   "metadata": {
    "collapsed": false
   },
   "outputs": [
    {
     "data": {
      "text/plain": [
       "<matplotlib.text.Text at 0x7f90b5c405c0>"
      ]
     },
     "execution_count": 106,
     "metadata": {},
     "output_type": "execute_result"
    },
    {
     "data": {
      "image/png": "[encoded data removed]",
      "text/plain": [
       "<matplotlib.figure.Figure at 0x7f90b5e0c5c0>"
      ]
     },
     "metadata": {},
     "output_type": "display_data"
    }
   ],
   "source": [
    "# True life expectancy compared to the predicted life expectancy\n",
    "plt.plot(y, svr1.predict(X1), 'b.')\n",
    "plt.xlabel('Life Expectancy')\n",
    "plt.ylabel('Predicted Life Expectancy')\n",
    "plt.title('Life Expectancy vs Predicted Life Expectancy')"
   ]
  },
  {
   "cell_type": "code",
   "execution_count": 107,
   "metadata": {
    "collapsed": false
   },
   "outputs": [
    {
     "data": {
      "text/plain": [
       "<matplotlib.text.Text at 0x7f90b5bd9cf8>"
      ]
     },
     "execution_count": 107,
     "metadata": {},
     "output_type": "execute_result"
    },
    {
     "data": {
      "image/png": "[encoded data removed]",
      "text/plain": [
       "<matplotlib.figure.Figure at 0x7f90b5cb73c8>"
      ]
     },
     "metadata": {},
     "output_type": "display_data"
    }
   ],
   "source": [
    "# True life expectancy compared to the predicted life expectancy\n",
    "plt.plot(y, svr2.predict(X2), 'b.')\n",
    "plt.xlabel('Life Expectancy')\n",
    "plt.ylabel('Predicted Life Expectancy')\n",
    "plt.title('Life Expectancy vs Predicted Life Expectancy')"
   ]
  },
  {
   "cell_type": "code",
   "execution_count": 108,
   "metadata": {
    "collapsed": false
   },
   "outputs": [
    {
     "data": {
      "text/plain": [
       "<matplotlib.text.Text at 0x7f90b5af5400>"
      ]
     },
     "execution_count": 108,
     "metadata": {},
     "output_type": "execute_result"
    },
    {
     "data": {
      "image/png": "[encoded data removed]",
      "text/plain": [
       "<matplotlib.figure.Figure at 0x7f90b5c85748>"
      ]
     },
     "metadata": {},
     "output_type": "display_data"
    }
   ],
   "source": [
    "# True life expectancy compared to the predicted life expectancy\n",
    "plt.plot(y, svr3.predict(X3), 'b.')\n",
    "plt.xlabel('Life Expectancy')\n",
    "plt.ylabel('Predicted Life Expectancy')\n",
    "plt.title('Life Expectancy vs Predicted Life Expectancy')"
   ]
  },
  {
   "cell_type": "code",
   "execution_count": 109,
   "metadata": {
    "collapsed": false
   },
   "outputs": [
    {
     "data": {
      "text/plain": [
       "<matplotlib.text.Text at 0x7f90b5a8eac8>"
      ]
     },
     "execution_count": 109,
     "metadata": {},
     "output_type": "execute_result"
    },
    {
     "data": {
      "image/png": "[encoded data removed]",
      "text/plain": [
       "<matplotlib.figure.Figure at 0x7f90b5c85cf8>"
      ]
     },
     "metadata": {},
     "output_type": "display_data"
    }
   ],
   "source": [
    "# True life expectancy compared to the predicted life expectancy\n",
    "plt.plot(y, svr4.predict(X4), 'b.')\n",
    "plt.xlabel('Life Expectancy')\n",
    "plt.ylabel('Predicted Life Expectancy')\n",
    "plt.title('Life Expectancy vs Predicted Life Expectancy')"
   ]
  },
  {
   "cell_type": "markdown",
   "metadata": {},
   "source": [
    "##### Residual sum of squares"
   ]
  },
  {
   "cell_type": "code",
   "execution_count": 110,
   "metadata": {
    "collapsed": false
   },
   "outputs": [
    {
     "name": "stdout",
     "output_type": "stream",
     "text": [
      "743.2262117551106\n"
     ]
    }
   ],
   "source": [
    "print(np.sum((y - svr1.predict(X1)) ** 2))"
   ]
  },
  {
   "cell_type": "code",
   "execution_count": 111,
   "metadata": {
    "collapsed": false
   },
   "outputs": [
    {
     "name": "stdout",
     "output_type": "stream",
     "text": [
      "743.2262117551106\n"
     ]
    }
   ],
   "source": [
    "print(np.sum((y - svr2.predict(X2)) ** 2))"
   ]
  },
  {
   "cell_type": "code",
   "execution_count": 112,
   "metadata": {
    "collapsed": false
   },
   "outputs": [
    {
     "name": "stdout",
     "output_type": "stream",
     "text": [
      "743.2262117551106\n"
     ]
    }
   ],
   "source": [
    "print(np.sum((y - svr3.predict(X3)) ** 2))"
   ]
  },
  {
   "cell_type": "code",
   "execution_count": 113,
   "metadata": {
    "collapsed": false
   },
   "outputs": [
    {
     "name": "stdout",
     "output_type": "stream",
     "text": [
      "743.2262117551106\n"
     ]
    }
   ],
   "source": [
    "print(np.sum((y - svr4.predict(X4)) ** 2))"
   ]
  },
  {
   "cell_type": "markdown",
   "metadata": {},
   "source": [
    "##### Mean squared error"
   ]
  },
  {
   "cell_type": "code",
   "execution_count": 114,
   "metadata": {
    "collapsed": false
   },
   "outputs": [
    {
     "name": "stdout",
     "output_type": "stream",
     "text": [
      "0.6926618935275961\n"
     ]
    }
   ],
   "source": [
    "print(np.mean((y - svr1.predict(X1)) ** 2))"
   ]
  },
  {
   "cell_type": "code",
   "execution_count": 115,
   "metadata": {
    "collapsed": false
   },
   "outputs": [
    {
     "name": "stdout",
     "output_type": "stream",
     "text": [
      "0.6926618935275961\n"
     ]
    }
   ],
   "source": [
    "print(np.mean((y - svr2.predict(X2)) ** 2))"
   ]
  },
  {
   "cell_type": "code",
   "execution_count": 116,
   "metadata": {
    "collapsed": false
   },
   "outputs": [
    {
     "name": "stdout",
     "output_type": "stream",
     "text": [
      "0.6926618935275961\n"
     ]
    }
   ],
   "source": [
    "print(np.mean((y - svr3.predict(X3)) ** 2))"
   ]
  },
  {
   "cell_type": "code",
   "execution_count": 117,
   "metadata": {
    "collapsed": false
   },
   "outputs": [
    {
     "name": "stdout",
     "output_type": "stream",
     "text": [
      "0.6926618935275961\n"
     ]
    }
   ],
   "source": [
    "print(np.mean((y - svr4.predict(X4)) ** 2))"
   ]
  },
  {
   "cell_type": "markdown",
   "metadata": {},
   "source": [
    "#### 3) Training and Test Data sets"
   ]
  },
  {
   "cell_type": "markdown",
   "metadata": {},
   "source": [
    "Original dataset with Default SVR model "
   ]
  },
  {
   "cell_type": "code",
   "execution_count": 118,
   "metadata": {
    "collapsed": true
   },
   "outputs": [],
   "source": [
    "X0 = X.copy()"
   ]
  },
  {
   "cell_type": "code",
   "execution_count": 119,
   "metadata": {
    "collapsed": false
   },
   "outputs": [
    {
     "name": "stdout",
     "output_type": "stream",
     "text": [
      "(858, 53)\n",
      "(215, 53)\n",
      "(858,)\n",
      "(215,)\n"
     ]
    }
   ],
   "source": [
    "# Split dataset\n",
    "X0_train, X0_test, y0_train, y0_test = train_test_split(X0, y, test_size=0.2, random_state = 5)\n",
    "print(X0_train.shape)\n",
    "print(X0_test.shape)\n",
    "print(y0_train.shape)\n",
    "print(y0_test.shape)"
   ]
  },
  {
   "cell_type": "code",
   "execution_count": 122,
   "metadata": {
    "collapsed": true
   },
   "outputs": [],
   "source": [
    "# Build a support vector regression model using training data sets\n",
    "svr = SVR()\n",
    "svr.fit(X0_train, y0_train)\n",
    "pred_train0 = svr.predict(X0_train)\n",
    "pred_test0 = svr.predict(X0_test)"
   ]
  },
  {
   "cell_type": "code",
   "execution_count": 123,
   "metadata": {
    "collapsed": false
   },
   "outputs": [
    {
     "name": "stdout",
     "output_type": "stream",
     "text": [
      "Fit a model X_train, and calculate MSE with y_train: 0.3056692394741886\n",
      "Fit a model X_train, and calculate MSE with X_test, y_test: 1.4713715795892517\n"
     ]
    }
   ],
   "source": [
    "# Calculate the mean squared error\n",
    "print(\"Fit a model X_train, and calculate MSE with y_train:\", np.mean((y0_train - pred_train0) ** 2))\n",
    "print(\"Fit a model X_train, and calculate MSE with X_test, y_test:\", np.mean((y0_test - pred_test0) ** 2))"
   ]
  },
  {
   "cell_type": "markdown",
   "metadata": {},
   "source": [
    "PCA with n_components=10 and SVR with C=0.5"
   ]
  },
  {
   "cell_type": "code",
   "execution_count": 124,
   "metadata": {
    "collapsed": false
   },
   "outputs": [
    {
     "name": "stdout",
     "output_type": "stream",
     "text": [
      "(858, 10)\n",
      "(215, 10)\n",
      "(858,)\n",
      "(215,)\n"
     ]
    }
   ],
   "source": [
    "# Split dataset\n",
    "X1_train, X1_test, y1_train, y1_test = train_test_split(X1, y, test_size=0.2, random_state = 5)\n",
    "print(X1_train.shape)\n",
    "print(X1_test.shape)\n",
    "print(y1_train.shape)\n",
    "print(y1_test.shape)"
   ]
  },
  {
   "cell_type": "code",
   "execution_count": 126,
   "metadata": {
    "collapsed": false
   },
   "outputs": [],
   "source": [
    "# Build a support vector regression model using training data sets\n",
    "svr1 = SVR(C=0.5)\n",
    "svr1.fit(X1_train, y1_train)\n",
    "pred_train1 = svr1.predict(X1_train)\n",
    "pred_test1 = svr1.predict(X1_test)"
   ]
  },
  {
   "cell_type": "code",
   "execution_count": 127,
   "metadata": {
    "collapsed": false
   },
   "outputs": [
    {
     "name": "stdout",
     "output_type": "stream",
     "text": [
      "Fit a model X_train, and calculate MSE with y_train: 0.6891693073327819\n",
      "Fit a model X_train, and calculate MSE with X_test, y_test: 1.4738157392890738\n"
     ]
    }
   ],
   "source": [
    "# Calculate the mean squared error\n",
    "print(\"Fit a model X_train, and calculate MSE with y_train:\", np.mean((y1_train - pred_train1) ** 2))\n",
    "print(\"Fit a model X_train, and calculate MSE with X_test, y_test:\", np.mean((y1_test - pred_test1) ** 2))"
   ]
  },
  {
   "cell_type": "markdown",
   "metadata": {},
   "source": [
    "PCA with n_components=5 and SVR with C=0.5"
   ]
  },
  {
   "cell_type": "code",
   "execution_count": 128,
   "metadata": {
    "collapsed": false
   },
   "outputs": [
    {
     "name": "stdout",
     "output_type": "stream",
     "text": [
      "(858, 5)\n",
      "(215, 5)\n",
      "(858,)\n",
      "(215,)\n"
     ]
    }
   ],
   "source": [
    "# Split dataset\n",
    "X2_train, X2_test, y2_train, y2_test = train_test_split(X2, y, test_size=0.2, random_state = 5)\n",
    "print(X2_train.shape)\n",
    "print(X2_test.shape)\n",
    "print(y2_train.shape)\n",
    "print(y2_test.shape)"
   ]
  },
  {
   "cell_type": "code",
   "execution_count": 129,
   "metadata": {
    "collapsed": true
   },
   "outputs": [],
   "source": [
    "# Build a support vector regression model using training data sets\n",
    "svr2 = SVR(C=0.5)\n",
    "svr2.fit(X2_train, y2_train)\n",
    "pred_train2 = svr2.predict(X2_train)\n",
    "pred_test2 = svr2.predict(X2_test)"
   ]
  },
  {
   "cell_type": "code",
   "execution_count": 130,
   "metadata": {
    "collapsed": false
   },
   "outputs": [
    {
     "name": "stdout",
     "output_type": "stream",
     "text": [
      "Fit a model X_train, and calculate MSE with y_train: 0.6891693073327819\n",
      "Fit a model X_train, and calculate MSE with X_test, y_test: 1.4738157392890738\n"
     ]
    }
   ],
   "source": [
    "# Calculate the mean squared error\n",
    "print(\"Fit a model X_train, and calculate MSE with y_train:\", np.mean((y2_train - pred_train2) ** 2))\n",
    "print(\"Fit a model X_train, and calculate MSE with X_test, y_test:\", np.mean((y2_test - pred_test2) ** 2))"
   ]
  },
  {
   "cell_type": "markdown",
   "metadata": {},
   "source": [
    "PCA with n_components=3 and SVR with C=0.1"
   ]
  },
  {
   "cell_type": "code",
   "execution_count": 131,
   "metadata": {
    "collapsed": false
   },
   "outputs": [
    {
     "name": "stdout",
     "output_type": "stream",
     "text": [
      "(858, 3)\n",
      "(215, 3)\n",
      "(858,)\n",
      "(215,)\n"
     ]
    }
   ],
   "source": [
    "# Split dataset\n",
    "X3_train, X3_test, y3_train, y3_test = train_test_split(X3, y, test_size=0.2, random_state = 5)\n",
    "print(X3_train.shape)\n",
    "print(X3_test.shape)\n",
    "print(y3_train.shape)\n",
    "print(y3_test.shape)"
   ]
  },
  {
   "cell_type": "code",
   "execution_count": 132,
   "metadata": {
    "collapsed": true
   },
   "outputs": [],
   "source": [
    "# Build a support vector regression model using training data sets\n",
    "svr3 = SVR(C=0.1)\n",
    "svr3.fit(X3_train, y3_train)\n",
    "pred_train3 = svr3.predict(X3_train)\n",
    "pred_test3 = svr3.predict(X3_test)"
   ]
  },
  {
   "cell_type": "code",
   "execution_count": 133,
   "metadata": {
    "collapsed": false
   },
   "outputs": [
    {
     "name": "stdout",
     "output_type": "stream",
     "text": [
      "Fit a model X_train, and calculate MSE with y_train: 1.2304353715220717\n",
      "Fit a model X_train, and calculate MSE with X_test, y_test: 1.477138331386946\n"
     ]
    }
   ],
   "source": [
    "# Calculate the mean squared error\n",
    "print(\"Fit a model X_train, and calculate MSE with y_train:\", np.mean((y3_train - pred_train3) ** 2))\n",
    "print(\"Fit a model X_train, and calculate MSE with X_test, y_test:\", np.mean((y3_test - pred_test3) ** 2))"
   ]
  },
  {
   "cell_type": "markdown",
   "metadata": {},
   "source": [
    "PCA with n_components=2 and SVR with C=0.01"
   ]
  },
  {
   "cell_type": "code",
   "execution_count": 134,
   "metadata": {
    "collapsed": false
   },
   "outputs": [
    {
     "name": "stdout",
     "output_type": "stream",
     "text": [
      "(858, 2)\n",
      "(215, 2)\n",
      "(858,)\n",
      "(215,)\n"
     ]
    }
   ],
   "source": [
    "# Split dataset\n",
    "X4_train, X4_test, y4_train, y4_test = train_test_split(X4, y, test_size=0.2, random_state = 5)\n",
    "print(X4_train.shape)\n",
    "print(X4_test.shape)\n",
    "print(y4_train.shape)\n",
    "print(y4_test.shape)"
   ]
  },
  {
   "cell_type": "code",
   "execution_count": 135,
   "metadata": {
    "collapsed": true
   },
   "outputs": [],
   "source": [
    "# Build a support vector regression model using training data sets\n",
    "svr4 = SVR(C=0.01)\n",
    "svr4.fit(X4_train, y4_train)\n",
    "pred_train4 = svr4.predict(X4_train)\n",
    "pred_test4 = svr4.predict(X4_test)"
   ]
  },
  {
   "cell_type": "code",
   "execution_count": 136,
   "metadata": {
    "collapsed": false
   },
   "outputs": [
    {
     "name": "stdout",
     "output_type": "stream",
     "text": [
      "Fit a model X_train, and calculate MSE with y_train: 1.390234195425816\n",
      "Fit a model X_train, and calculate MSE with X_test, y_test: 1.4780347186738856\n"
     ]
    }
   ],
   "source": [
    "# Calculate the mean squared error\n",
    "print(\"Fit a model X_train, and calculate MSE with y_train:\", np.mean((y4_train - pred_train4) ** 2))\n",
    "print(\"Fit a model X_train, and calculate MSE with X_test, y_test:\", np.mean((y4_test - pred_test4) ** 2))"
   ]
  },
  {
   "cell_type": "markdown",
   "metadata": {},
   "source": [
    "??? Which model is the best?"
   ]
  },
  {
   "cell_type": "markdown",
   "metadata": {},
   "source": [
    "### 3. Random Forests"
   ]
  },
  {
   "cell_type": "code",
   "execution_count": null,
   "metadata": {
    "collapsed": true
   },
   "outputs": [],
   "source": []
  },
  {
   "cell_type": "code",
   "execution_count": null,
   "metadata": {
    "collapsed": true
   },
   "outputs": [],
   "source": []
  }
 ],
 "metadata": {
  "kernelspec": {
   "display_name": "Python 3",
   "language": "python",
   "name": "python3"
  },
  "language_info": {
   "codemirror_mode": {
    "name": "ipython",
    "version": 3
   },
   "file_extension": ".py",
   "mimetype": "text/x-python",
   "name": "python",
   "nbconvert_exporter": "python",
   "pygments_lexer": "ipython3",
   "version": "3.6.0"
  }
 },
 "nbformat": 4,
 "nbformat_minor": 2
}
