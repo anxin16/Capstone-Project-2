{
 "cells": [
  {
   "cell_type": "code",
   "execution_count": 1,
   "metadata": {
    "collapsed": true
   },
   "outputs": [],
   "source": [
    "import pandas as pd"
   ]
  },
  {
   "cell_type": "markdown",
   "metadata": {},
   "source": [
    "### Read original files"
   ]
  },
  {
   "cell_type": "code",
   "execution_count": 2,
   "metadata": {
    "collapsed": true
   },
   "outputs": [],
   "source": [
    "# Cross walk of County, Commuting Zone and State\n",
    "cw = pd.read_csv('Health-Wealth/cty_cz_st_crosswalk.csv', index_col=None)"
   ]
  },
  {
   "cell_type": "code",
   "execution_count": 3,
   "metadata": {
    "collapsed": true
   },
   "outputs": [],
   "source": [
    "# National life expectancy estimates (pooling 2001-14) for men and women, by income percentile \n",
    "tb1 = pd.read_csv('Health-Wealth/health_ineq_online_table_1.csv', index_col=None)"
   ]
  },
  {
   "cell_type": "code",
   "execution_count": 4,
   "metadata": {
    "collapsed": true
   },
   "outputs": [],
   "source": [
    "# National by-year life expectancy estimates for men and women, by income percentile\n",
    "tb2 = pd.read_csv('Health-Wealth/health_ineq_online_table_2.csv', index_col=None)"
   ]
  },
  {
   "cell_type": "code",
   "execution_count": 5,
   "metadata": {
    "collapsed": true
   },
   "outputs": [],
   "source": [
    "# State-level life expectancy estimates for men and women, by income quartile\n",
    "tb3 = pd.read_csv('Health-Wealth/health_ineq_online_table_3.csv', index_col=None)"
   ]
  },
  {
   "cell_type": "code",
   "execution_count": 6,
   "metadata": {
    "collapsed": true
   },
   "outputs": [],
   "source": [
    "# State-level estimates of trends in life expectancy for men and women, by income quartile\n",
    "tb4 = pd.read_csv('Health-Wealth/health_ineq_online_table_4.csv', index_col=None)"
   ]
  },
  {
   "cell_type": "code",
   "execution_count": 7,
   "metadata": {
    "collapsed": true
   },
   "outputs": [],
   "source": [
    "# State-level by-year life expectancy estimates for men and women, by income quartile \n",
    "tb5 = pd.read_csv('Health-Wealth/health_ineq_online_table_5.csv', index_col=None)"
   ]
  },
  {
   "cell_type": "code",
   "execution_count": 8,
   "metadata": {
    "collapsed": true
   },
   "outputs": [],
   "source": [
    "# CZ-level life expectancy estimates for men and women, by income quartile\n",
    "tb6 = pd.read_csv('Health-Wealth/health_ineq_online_table_6.csv', index_col=None)"
   ]
  },
  {
   "cell_type": "code",
   "execution_count": 9,
   "metadata": {
    "collapsed": true
   },
   "outputs": [],
   "source": [
    "# CZ-level life expectancy estimates for men and women, by income ventile\n",
    "tb7 = pd.read_csv('Health-Wealth/health_ineq_online_table_7.csv', index_col=None)"
   ]
  },
  {
   "cell_type": "code",
   "execution_count": 10,
   "metadata": {
    "collapsed": true
   },
   "outputs": [],
   "source": [
    "# CZ-level estimates of trends in life expectancy for men and women, by income quartile\n",
    "tb8 = pd.read_csv('Health-Wealth/health_ineq_online_table_8.csv', index_col=None)"
   ]
  },
  {
   "cell_type": "code",
   "execution_count": 11,
   "metadata": {
    "collapsed": true
   },
   "outputs": [],
   "source": [
    "# CZ-level by-year life expectancy estimates for men and women, by income quartile\n",
    "tb9 = pd.read_csv('Health-Wealth/health_ineq_online_table_9.csv', index_col=None)"
   ]
  },
  {
   "cell_type": "code",
   "execution_count": 12,
   "metadata": {
    "collapsed": true
   },
   "outputs": [],
   "source": [
    "# CZ-level characteristics described in eTable 9 \n",
    "tb10 = pd.read_csv('Health-Wealth/health_ineq_online_table_10.csv', index_col=None)"
   ]
  },
  {
   "cell_type": "code",
   "execution_count": 13,
   "metadata": {
    "collapsed": true
   },
   "outputs": [],
   "source": [
    "# County-level life expectancy estimates for men and women, by income quartile \n",
    "tb11 = pd.read_csv('Health-Wealth/health_ineq_online_table_11.csv', index_col=None)"
   ]
  },
  {
   "cell_type": "code",
   "execution_count": 14,
   "metadata": {
    "collapsed": false
   },
   "outputs": [],
   "source": [
    "# County-level characteristics described in eTable 9 \n",
    "tb12 = pd.read_csv('Health-Wealth/health_ineq_online_table_12.csv', index_col=None, encoding='latin-1')"
   ]
  },
  {
   "cell_type": "code",
   "execution_count": 15,
   "metadata": {
    "collapsed": true
   },
   "outputs": [],
   "source": [
    "# International estimates of mean life expectancy at age 40, by country for men and women\n",
    "tb13 = pd.read_csv('Health-Wealth/health_ineq_online_table_13.csv', index_col=None)"
   ]
  },
  {
   "cell_type": "code",
   "execution_count": 16,
   "metadata": {
    "collapsed": true
   },
   "outputs": [],
   "source": [
    "# Comparison of population and death counts in tax data and NCHS data \n",
    "tb14 = pd.read_csv('Health-Wealth/health_ineq_online_table_14.csv', index_col=None)"
   ]
  },
  {
   "cell_type": "code",
   "execution_count": 17,
   "metadata": {
    "collapsed": false,
    "scrolled": true
   },
   "outputs": [
    {
     "data": {
      "text/html": [
       "<div>\n",
       "<table border=\"1\" class=\"dataframe\">\n",
       "  <thead>\n",
       "    <tr style=\"text-align: right;\">\n",
       "      <th></th>\n",
       "      <th>cty</th>\n",
       "      <th>county_name</th>\n",
       "      <th>cz</th>\n",
       "      <th>cz_name</th>\n",
       "      <th>statename</th>\n",
       "      <th>state_fips</th>\n",
       "      <th>stateabbrv</th>\n",
       "    </tr>\n",
       "  </thead>\n",
       "  <tbody>\n",
       "    <tr>\n",
       "      <th>0</th>\n",
       "      <td>1001</td>\n",
       "      <td>Autauga</td>\n",
       "      <td>11101</td>\n",
       "      <td>Montgomery</td>\n",
       "      <td>Alabama</td>\n",
       "      <td>1</td>\n",
       "      <td>AL</td>\n",
       "    </tr>\n",
       "    <tr>\n",
       "      <th>1</th>\n",
       "      <td>1003</td>\n",
       "      <td>Baldwin</td>\n",
       "      <td>11001</td>\n",
       "      <td>Mobile</td>\n",
       "      <td>Alabama</td>\n",
       "      <td>1</td>\n",
       "      <td>AL</td>\n",
       "    </tr>\n",
       "    <tr>\n",
       "      <th>2</th>\n",
       "      <td>1005</td>\n",
       "      <td>Barbour</td>\n",
       "      <td>10301</td>\n",
       "      <td>Eufaula</td>\n",
       "      <td>Alabama</td>\n",
       "      <td>1</td>\n",
       "      <td>AL</td>\n",
       "    </tr>\n",
       "    <tr>\n",
       "      <th>3</th>\n",
       "      <td>1007</td>\n",
       "      <td>Bibb</td>\n",
       "      <td>10801</td>\n",
       "      <td>Tuscaloosa</td>\n",
       "      <td>Alabama</td>\n",
       "      <td>1</td>\n",
       "      <td>AL</td>\n",
       "    </tr>\n",
       "    <tr>\n",
       "      <th>4</th>\n",
       "      <td>1009</td>\n",
       "      <td>Blount</td>\n",
       "      <td>10700</td>\n",
       "      <td>Birmingham</td>\n",
       "      <td>Alabama</td>\n",
       "      <td>1</td>\n",
       "      <td>AL</td>\n",
       "    </tr>\n",
       "  </tbody>\n",
       "</table>\n",
       "</div>"
      ],
      "text/plain": [
       "    cty county_name     cz     cz_name statename  state_fips stateabbrv\n",
       "0  1001     Autauga  11101  Montgomery   Alabama           1         AL\n",
       "1  1003     Baldwin  11001      Mobile   Alabama           1         AL\n",
       "2  1005     Barbour  10301     Eufaula   Alabama           1         AL\n",
       "3  1007        Bibb  10801  Tuscaloosa   Alabama           1         AL\n",
       "4  1009      Blount  10700  Birmingham   Alabama           1         AL"
      ]
     },
     "execution_count": 17,
     "metadata": {},
     "output_type": "execute_result"
    }
   ],
   "source": [
    "cw.head()"
   ]
  },
  {
   "cell_type": "code",
   "execution_count": 18,
   "metadata": {
    "collapsed": false
   },
   "outputs": [
    {
     "data": {
      "text/plain": [
       "3138"
      ]
     },
     "execution_count": 18,
     "metadata": {},
     "output_type": "execute_result"
    }
   ],
   "source": [
    "len(cw)"
   ]
  },
  {
   "cell_type": "markdown",
   "metadata": {
    "collapsed": false
   },
   "source": [
    "### Data Wrangling\n",
    "For each table, remove the Unadjusted  and Standard Error columns, keep Q1 or V1 columns"
   ]
  },
  {
   "cell_type": "code",
   "execution_count": 19,
   "metadata": {
    "collapsed": false
   },
   "outputs": [],
   "source": [
    "# National life expectancy estimates (pooling 2001-14) for men and women, by income percentile \n",
    "ntb1 = tb1.loc[:, 'gnd':'le_raceadj']\n",
    "ntb1.to_csv('table_1.csv', index=False)"
   ]
  },
  {
   "cell_type": "code",
   "execution_count": 20,
   "metadata": {
    "collapsed": false
   },
   "outputs": [],
   "source": [
    "# National by-year life expectancy estimates for men and women, by income percentile\n",
    "ntb2 = tb2.loc[:, 'gnd':'le_raceadj']\n",
    "ntb2.to_csv('table_2.csv', index=False)"
   ]
  },
  {
   "cell_type": "code",
   "execution_count": 21,
   "metadata": {
    "collapsed": false
   },
   "outputs": [],
   "source": [
    "# State-level life expectancy estimates for men and women, by income quartile\n",
    "ntb3 = tb3[['st', 'statename', 'stateabbrv', 'le_raceadj_q1_F', 'le_raceadj_q1_M', 'count_q1_F', 'count_q1_M']]\n",
    "ntb3.to_csv('table_3.csv', index=False)"
   ]
  },
  {
   "cell_type": "code",
   "execution_count": 22,
   "metadata": {
    "collapsed": false,
    "scrolled": true
   },
   "outputs": [],
   "source": [
    "# State-level estimates of trends in life expectancy for men and women, by income quartile\n",
    "ntb4 = tb4[['st', 'statename', 'stateabbrv', 'le_raceadj_slope_q1_F', 'le_raceadj_slope_q1_M', 'count_q1_F', 'count_q1_M']]\n",
    "ntb4.to_csv('table_4.csv', index=False)"
   ]
  },
  {
   "cell_type": "code",
   "execution_count": 23,
   "metadata": {
    "collapsed": false
   },
   "outputs": [],
   "source": [
    "# State-level by-year life expectancy estimates for men and women, by income quartile \n",
    "ntb5 = tb5[['st', 'statename', 'stateabbrv', 'year', 'le_raceadj_q1_F', 'le_raceadj_q1_M', 'count_q1_F', 'count_q1_M']]\n",
    "ntb5.to_csv('table_5.csv', index=False)"
   ]
  },
  {
   "cell_type": "code",
   "execution_count": 24,
   "metadata": {
    "collapsed": false,
    "scrolled": true
   },
   "outputs": [],
   "source": [
    "# CZ-level life expectancy estimates for men and women, by income quartile\n",
    "ntb6 = tb6[['cz', 'czname', 'pop2000', 'fips', 'statename', 'stateabbrv', 'le_raceadj_q1_F', 'le_raceadj_q1_M', 'count_q1_F', 'count_q1_M']]\n",
    "ntb6.to_csv('table_6.csv', index=False)"
   ]
  },
  {
   "cell_type": "code",
   "execution_count": 25,
   "metadata": {
    "collapsed": false
   },
   "outputs": [],
   "source": [
    "# CZ-level life expectancy estimates for men and women, by income ventile\n",
    "ntb7 = tb7[['cz', 'czname', 'pop2000', 'fips', 'statename', 'stateabbrv', 'le_raceadj_v1_F', 'le_raceadj_v1_M', 'count_v1_F', 'count_v1_M']]\n",
    "ntb7.to_csv('table_7.csv', index=False)"
   ]
  },
  {
   "cell_type": "code",
   "execution_count": 26,
   "metadata": {
    "collapsed": true
   },
   "outputs": [],
   "source": [
    "# CZ-level estimates of trends in life expectancy for men and women, by income quartile\n",
    "ntb8 = tb8[['cz', 'czname', 'pop2000', 'fips', 'statename', 'stateabbrv', 'le_raceadj_slope_q1_F', 'le_raceadj_slope_q1_M', 'count_q1_F', 'count_q1_M']]\n",
    "ntb8.to_csv('table_8.csv', index=False)"
   ]
  },
  {
   "cell_type": "code",
   "execution_count": 27,
   "metadata": {
    "collapsed": true
   },
   "outputs": [],
   "source": [
    "# CZ-level by-year life expectancy estimates for men and women, by income quartile\n",
    "ntb9 = tb9[['cz', 'czname', 'pop2000', 'stateabbrv', 'year', 'le_raceadj_q1_F', 'le_raceadj_q1_M', 'count_q1_F', 'count_q1_M']]\n",
    "ntb9.to_csv('table_9.csv', index=False)"
   ]
  },
  {
   "cell_type": "code",
   "execution_count": 28,
   "metadata": {
    "collapsed": true
   },
   "outputs": [],
   "source": [
    "# County-level life expectancy estimates for men and women, by income quartile \n",
    "ntb11_1 = tb11.loc[:, 'cty':'stateabbrv']\n",
    "ntb11_2 = tb11[['le_raceadj_q1_F', 'le_raceadj_q1_M', 'count_q1_F', 'count_q1_M']]\n",
    "ntb11 = pd.concat([ntb11_1, ntb11_2], axis = 1)\n",
    "ntb11.to_csv('table_11.csv', index=False)"
   ]
  },
  {
   "cell_type": "code",
   "execution_count": 29,
   "metadata": {
    "collapsed": false
   },
   "outputs": [],
   "source": [
    "# International estimates of mean life expectancy at age 40, by country for men and women\n",
    "ntb13 = tb13\n",
    "ntb13.to_csv('table_13.csv', index=False)"
   ]
  },
  {
   "cell_type": "code",
   "execution_count": 30,
   "metadata": {
    "collapsed": true
   },
   "outputs": [],
   "source": [
    "# Comparison of population and death counts in tax data and NCHS data \n",
    "ntb14 = tb14[['gnd', 'year', 'age', 'dm1_pop', 'dm1_dead', 'cdc_dead', 'cdc_pop']]\n",
    "ntb14.to_csv('table_14.csv', index=False)"
   ]
  },
  {
   "cell_type": "markdown",
   "metadata": {},
   "source": [
    "#### Fill missing values in table 10 and table 12\n",
    "A column is removed if there are more than 20% missing value.   \n",
    "A state is removed if all the values of a column are missing.  \n",
    "Fill missing values with the mean value of that state."
   ]
  },
  {
   "cell_type": "code",
   "execution_count": 31,
   "metadata": {
    "collapsed": false
   },
   "outputs": [],
   "source": [
    "# Choose useful colums in table 10\n",
    "ntb10_1 = tb10.loc[:, 'cz':'stateabbrv']\n",
    "ntb10_2 = tb10[['cur_smoke_q1', 'bmi_obese_q1', 'exercise_any_q1']]\n",
    "ntb10_3 = tb10.loc[:, 'puninsured2010':'adjmortmeas_pnall30day']\n",
    "ntb10_4 = tb10.loc[:, 'cs00_seg_inc':'unemp_rate']\n",
    "ntb10 = pd.concat([ntb10_1, ntb10_2, ntb10_3, ntb10_4], axis = 1)"
   ]
  },
  {
   "cell_type": "code",
   "execution_count": 32,
   "metadata": {
    "collapsed": false,
    "scrolled": true
   },
   "outputs": [
    {
     "data": {
      "text/html": [
       "<div>\n",
       "<table border=\"1\" class=\"dataframe\">\n",
       "  <thead>\n",
       "    <tr style=\"text-align: right;\">\n",
       "      <th></th>\n",
       "      <th>cz</th>\n",
       "      <th>czname</th>\n",
       "      <th>pop2000</th>\n",
       "      <th>fips</th>\n",
       "      <th>statename</th>\n",
       "      <th>stateabbrv</th>\n",
       "      <th>cur_smoke_q1</th>\n",
       "      <th>bmi_obese_q1</th>\n",
       "      <th>exercise_any_q1</th>\n",
       "      <th>puninsured2010</th>\n",
       "      <th>...</th>\n",
       "      <th>cs_race_theil_2000</th>\n",
       "      <th>gini99</th>\n",
       "      <th>poor_share</th>\n",
       "      <th>inc_share_1perc</th>\n",
       "      <th>frac_middleclass</th>\n",
       "      <th>scap_ski90pcm</th>\n",
       "      <th>rel_tot</th>\n",
       "      <th>cs_frac_black</th>\n",
       "      <th>cs_frac_hisp</th>\n",
       "      <th>unemp_rate</th>\n",
       "    </tr>\n",
       "  </thead>\n",
       "  <tbody>\n",
       "    <tr>\n",
       "      <th>0</th>\n",
       "      <td>100</td>\n",
       "      <td>Johnson City</td>\n",
       "      <td>576081.0</td>\n",
       "      <td>47</td>\n",
       "      <td>Tennessee</td>\n",
       "      <td>TN</td>\n",
       "      <td>0.351208</td>\n",
       "      <td>0.292475</td>\n",
       "      <td>0.546503</td>\n",
       "      <td>15.99971</td>\n",
       "      <td>...</td>\n",
       "      <td>0.090384</td>\n",
       "      <td>0.33345</td>\n",
       "      <td>0.140450</td>\n",
       "      <td>0.13459</td>\n",
       "      <td>0.54796</td>\n",
       "      <td>-0.297858</td>\n",
       "      <td>51.44033</td>\n",
       "      <td>2.084082</td>\n",
       "      <td>0.928515</td>\n",
       "      <td>0.052080</td>\n",
       "    </tr>\n",
       "    <tr>\n",
       "      <th>1</th>\n",
       "      <td>200</td>\n",
       "      <td>Morristown</td>\n",
       "      <td>227816.0</td>\n",
       "      <td>47</td>\n",
       "      <td>Tennessee</td>\n",
       "      <td>TN</td>\n",
       "      <td>0.419753</td>\n",
       "      <td>0.302632</td>\n",
       "      <td>0.506173</td>\n",
       "      <td>19.50662</td>\n",
       "      <td>...</td>\n",
       "      <td>0.093153</td>\n",
       "      <td>0.32828</td>\n",
       "      <td>0.146197</td>\n",
       "      <td>0.10631</td>\n",
       "      <td>0.53750</td>\n",
       "      <td>-0.767355</td>\n",
       "      <td>54.38951</td>\n",
       "      <td>1.977912</td>\n",
       "      <td>2.348825</td>\n",
       "      <td>0.059792</td>\n",
       "    </tr>\n",
       "    <tr>\n",
       "      <th>2</th>\n",
       "      <td>301</td>\n",
       "      <td>Middlesborough</td>\n",
       "      <td>66708.0</td>\n",
       "      <td>47</td>\n",
       "      <td>Tennessee</td>\n",
       "      <td>TN</td>\n",
       "      <td>0.364103</td>\n",
       "      <td>0.320856</td>\n",
       "      <td>0.475309</td>\n",
       "      <td>17.74554</td>\n",
       "      <td>...</td>\n",
       "      <td>0.064250</td>\n",
       "      <td>0.33404</td>\n",
       "      <td>0.270661</td>\n",
       "      <td>0.10691</td>\n",
       "      <td>0.46685</td>\n",
       "      <td>-1.270251</td>\n",
       "      <td>66.78059</td>\n",
       "      <td>1.464592</td>\n",
       "      <td>0.616118</td>\n",
       "      <td>0.068083</td>\n",
       "    </tr>\n",
       "    <tr>\n",
       "      <th>3</th>\n",
       "      <td>302</td>\n",
       "      <td>Knoxville</td>\n",
       "      <td>727600.0</td>\n",
       "      <td>47</td>\n",
       "      <td>Tennessee</td>\n",
       "      <td>TN</td>\n",
       "      <td>0.324125</td>\n",
       "      <td>0.259366</td>\n",
       "      <td>0.581132</td>\n",
       "      <td>14.88756</td>\n",
       "      <td>...</td>\n",
       "      <td>0.209994</td>\n",
       "      <td>0.35752</td>\n",
       "      <td>0.130067</td>\n",
       "      <td>0.15080</td>\n",
       "      <td>0.50410</td>\n",
       "      <td>-0.221885</td>\n",
       "      <td>60.19530</td>\n",
       "      <td>5.636476</td>\n",
       "      <td>1.167125</td>\n",
       "      <td>0.039858</td>\n",
       "    </tr>\n",
       "    <tr>\n",
       "      <th>4</th>\n",
       "      <td>401</td>\n",
       "      <td>Winston-Salem</td>\n",
       "      <td>493180.0</td>\n",
       "      <td>37</td>\n",
       "      <td>North Carolina</td>\n",
       "      <td>NC</td>\n",
       "      <td>0.323423</td>\n",
       "      <td>0.285605</td>\n",
       "      <td>0.606607</td>\n",
       "      <td>19.02583</td>\n",
       "      <td>...</td>\n",
       "      <td>0.262388</td>\n",
       "      <td>0.34636</td>\n",
       "      <td>0.108081</td>\n",
       "      <td>0.11917</td>\n",
       "      <td>0.49991</td>\n",
       "      <td>-0.017796</td>\n",
       "      <td>48.79375</td>\n",
       "      <td>17.353100</td>\n",
       "      <td>5.798897</td>\n",
       "      <td>0.050758</td>\n",
       "    </tr>\n",
       "  </tbody>\n",
       "</table>\n",
       "<p>5 rows × 28 columns</p>\n",
       "</div>"
      ],
      "text/plain": [
       "    cz          czname   pop2000  fips       statename stateabbrv  \\\n",
       "0  100    Johnson City  576081.0    47       Tennessee         TN   \n",
       "1  200      Morristown  227816.0    47       Tennessee         TN   \n",
       "2  301  Middlesborough   66708.0    47       Tennessee         TN   \n",
       "3  302       Knoxville  727600.0    47       Tennessee         TN   \n",
       "4  401   Winston-Salem  493180.0    37  North Carolina         NC   \n",
       "\n",
       "   cur_smoke_q1  bmi_obese_q1  exercise_any_q1  puninsured2010     ...      \\\n",
       "0      0.351208      0.292475         0.546503        15.99971     ...       \n",
       "1      0.419753      0.302632         0.506173        19.50662     ...       \n",
       "2      0.364103      0.320856         0.475309        17.74554     ...       \n",
       "3      0.324125      0.259366         0.581132        14.88756     ...       \n",
       "4      0.323423      0.285605         0.606607        19.02583     ...       \n",
       "\n",
       "   cs_race_theil_2000   gini99  poor_share  inc_share_1perc  frac_middleclass  \\\n",
       "0            0.090384  0.33345    0.140450          0.13459           0.54796   \n",
       "1            0.093153  0.32828    0.146197          0.10631           0.53750   \n",
       "2            0.064250  0.33404    0.270661          0.10691           0.46685   \n",
       "3            0.209994  0.35752    0.130067          0.15080           0.50410   \n",
       "4            0.262388  0.34636    0.108081          0.11917           0.49991   \n",
       "\n",
       "   scap_ski90pcm   rel_tot  cs_frac_black  cs_frac_hisp  unemp_rate  \n",
       "0      -0.297858  51.44033       2.084082      0.928515    0.052080  \n",
       "1      -0.767355  54.38951       1.977912      2.348825    0.059792  \n",
       "2      -1.270251  66.78059       1.464592      0.616118    0.068083  \n",
       "3      -0.221885  60.19530       5.636476      1.167125    0.039858  \n",
       "4      -0.017796  48.79375      17.353100      5.798897    0.050758  \n",
       "\n",
       "[5 rows x 28 columns]"
      ]
     },
     "execution_count": 32,
     "metadata": {},
     "output_type": "execute_result"
    }
   ],
   "source": [
    "ntb10.head()"
   ]
  },
  {
   "cell_type": "code",
   "execution_count": 33,
   "metadata": {
    "collapsed": true
   },
   "outputs": [],
   "source": [
    "# Remove the columns whose empty values are more than 20%\n",
    "l = len(ntb10)\n",
    "names = ntb10.columns.values[6:] \n",
    "for name in names:\n",
    "    n = ntb10[name].isnull().values.sum()\n",
    "    if n/l > 0.2: \n",
    "        ntb10 = ntb10.drop([name], axis=1)"
   ]
  },
  {
   "cell_type": "code",
   "execution_count": 34,
   "metadata": {
    "collapsed": false
   },
   "outputs": [
    {
     "data": {
      "text/plain": [
       "array(['cur_smoke_q1', 'bmi_obese_q1', 'exercise_any_q1', 'puninsured2010',\n",
       "       'reimb_penroll_adj10', 'mort_30day_hosp_z',\n",
       "       'adjmortmeas_amiall30day', 'adjmortmeas_chfall30day',\n",
       "       'adjmortmeas_pnall30day', 'cs00_seg_inc', 'cs00_seg_inc_pov25',\n",
       "       'cs00_seg_inc_aff75', 'cs_race_theil_2000', 'gini99', 'poor_share',\n",
       "       'inc_share_1perc', 'frac_middleclass', 'scap_ski90pcm', 'rel_tot',\n",
       "       'cs_frac_black', 'cs_frac_hisp', 'unemp_rate'], dtype=object)"
      ]
     },
     "execution_count": 34,
     "metadata": {},
     "output_type": "execute_result"
    }
   ],
   "source": [
    "names = ntb10.columns.values[6:]\n",
    "names"
   ]
  },
  {
   "cell_type": "code",
   "execution_count": 35,
   "metadata": {
    "collapsed": false
   },
   "outputs": [
    {
     "data": {
      "text/plain": [
       "array(['Tennessee', 'North Carolina', 'Virginia', 'South Carolina',\n",
       "       'Mississippi', 'Louisiana', 'Arkansas', 'Kentucky', 'Alabama',\n",
       "       'Georgia', 'Florida', 'West Virginia', 'Maryland',\n",
       "       'District of Columbia', 'Michigan', 'Ohio', 'Indiana', 'Illinois',\n",
       "       'Pennsylvania', 'New York', 'New Jersey', 'Delaware', 'Maine',\n",
       "       'Vermont', 'Rhode Island', 'Massachusetts', 'New Hampshire',\n",
       "       'Connecticut', 'Wisconsin', 'Minnesota', 'Iowa', 'Missouri',\n",
       "       'North Dakota', 'South Dakota', 'Montana', 'Nebraska', 'Wyoming',\n",
       "       'Colorado', 'Kansas', 'Oklahoma', 'Texas', 'New Mexico', 'Alaska',\n",
       "       'Idaho', 'Hawaii', 'Arizona', 'Oregon', 'Utah', 'California',\n",
       "       'Nevada', 'Washington'], dtype=object)"
      ]
     },
     "execution_count": 35,
     "metadata": {},
     "output_type": "execute_result"
    }
   ],
   "source": [
    "states = ntb10['statename'].unique()\n",
    "states"
   ]
  },
  {
   "cell_type": "code",
   "execution_count": 36,
   "metadata": {
    "collapsed": false,
    "scrolled": true
   },
   "outputs": [],
   "source": [
    "for name in names:\n",
    "    for state in states:\n",
    "        t = ntb10[ntb10.statename == state]\n",
    "        if t[name].isnull().values.all():\n",
    "            ntb10 = ntb10[ntb10.statename != state]\n",
    "        else:\n",
    "            m = t[name].mean()\n",
    "            t = t[name].fillna(m)\n",
    "            ntb10.loc[ntb10.statename == state, name] = t\n",
    "ntb10.to_csv('table_10.csv', index=False)"
   ]
  },
  {
   "cell_type": "code",
   "execution_count": 37,
   "metadata": {
    "collapsed": false
   },
   "outputs": [
    {
     "data": {
      "text/plain": [
       "722"
      ]
     },
     "execution_count": 37,
     "metadata": {},
     "output_type": "execute_result"
    }
   ],
   "source": [
    "l = len(ntb10)\n",
    "l"
   ]
  },
  {
   "cell_type": "code",
   "execution_count": 38,
   "metadata": {
    "collapsed": true
   },
   "outputs": [],
   "source": [
    "# Choose useful colums in table 12\n",
    "ntb12_1 = tb12.loc[:, 'cty':'stateabbrv']\n",
    "ntb12_2 = tb12[['cur_smoke_q1', 'bmi_obese_q1', 'exercise_any_q1']]\n",
    "ntb12_3 = tb12.loc[:, 'puninsured2010':'adjmortmeas_pnall30day']\n",
    "ntb12_4 = tb12.loc[:, 'cs00_seg_inc':'unemp_rate']\n",
    "ntb12 = pd.concat([ntb12_1, ntb12_2, ntb12_3, ntb12_4], axis = 1)"
   ]
  },
  {
   "cell_type": "code",
   "execution_count": 39,
   "metadata": {
    "collapsed": false
   },
   "outputs": [
    {
     "data": {
      "text/html": [
       "<div>\n",
       "<table border=\"1\" class=\"dataframe\">\n",
       "  <thead>\n",
       "    <tr style=\"text-align: right;\">\n",
       "      <th></th>\n",
       "      <th>cty</th>\n",
       "      <th>county_name</th>\n",
       "      <th>cty_pop2000</th>\n",
       "      <th>cz</th>\n",
       "      <th>cz_name</th>\n",
       "      <th>cz_pop2000</th>\n",
       "      <th>statename</th>\n",
       "      <th>state_id</th>\n",
       "      <th>stateabbrv</th>\n",
       "      <th>cur_smoke_q1</th>\n",
       "      <th>...</th>\n",
       "      <th>cs_race_theil_2000</th>\n",
       "      <th>gini99</th>\n",
       "      <th>poor_share</th>\n",
       "      <th>inc_share_1perc</th>\n",
       "      <th>frac_middleclass</th>\n",
       "      <th>scap_ski90pcm</th>\n",
       "      <th>rel_tot</th>\n",
       "      <th>cs_frac_black</th>\n",
       "      <th>cs_frac_hisp</th>\n",
       "      <th>unemp_rate</th>\n",
       "    </tr>\n",
       "  </thead>\n",
       "  <tbody>\n",
       "    <tr>\n",
       "      <th>0</th>\n",
       "      <td>1001</td>\n",
       "      <td>Autauga</td>\n",
       "      <td>43671</td>\n",
       "      <td>11101</td>\n",
       "      <td>Montgomery</td>\n",
       "      <td>367927.0</td>\n",
       "      <td>Alabama</td>\n",
       "      <td>1</td>\n",
       "      <td>AL</td>\n",
       "      <td>0.333333</td>\n",
       "      <td>...</td>\n",
       "      <td>0.128216</td>\n",
       "      <td>0.379976</td>\n",
       "      <td>0.109228</td>\n",
       "      <td>0.06143</td>\n",
       "      <td>0.51950</td>\n",
       "      <td>-0.897834</td>\n",
       "      <td>56.11275</td>\n",
       "      <td>17.009000</td>\n",
       "      <td>1.396808</td>\n",
       "      <td>0.037379</td>\n",
       "    </tr>\n",
       "    <tr>\n",
       "      <th>1</th>\n",
       "      <td>1003</td>\n",
       "      <td>Baldwin</td>\n",
       "      <td>140415</td>\n",
       "      <td>11001</td>\n",
       "      <td>Mobile</td>\n",
       "      <td>599405.0</td>\n",
       "      <td>Alabama</td>\n",
       "      <td>1</td>\n",
       "      <td>AL</td>\n",
       "      <td>0.268097</td>\n",
       "      <td>...</td>\n",
       "      <td>0.100549</td>\n",
       "      <td>0.489738</td>\n",
       "      <td>0.101471</td>\n",
       "      <td>0.12719</td>\n",
       "      <td>0.49911</td>\n",
       "      <td>-0.362414</td>\n",
       "      <td>47.24282</td>\n",
       "      <td>10.224690</td>\n",
       "      <td>1.756222</td>\n",
       "      <td>0.039112</td>\n",
       "    </tr>\n",
       "    <tr>\n",
       "      <th>2</th>\n",
       "      <td>1005</td>\n",
       "      <td>Barbour</td>\n",
       "      <td>29038</td>\n",
       "      <td>10301</td>\n",
       "      <td>Eufaula</td>\n",
       "      <td>61458.0</td>\n",
       "      <td>Alabama</td>\n",
       "      <td>1</td>\n",
       "      <td>AL</td>\n",
       "      <td>0.228571</td>\n",
       "      <td>...</td>\n",
       "      <td>0.039993</td>\n",
       "      <td>0.490637</td>\n",
       "      <td>0.267998</td>\n",
       "      <td>0.09734</td>\n",
       "      <td>0.40833</td>\n",
       "      <td>-1.499349</td>\n",
       "      <td>41.17019</td>\n",
       "      <td>46.039670</td>\n",
       "      <td>1.646119</td>\n",
       "      <td>0.068132</td>\n",
       "    </tr>\n",
       "    <tr>\n",
       "      <th>3</th>\n",
       "      <td>1007</td>\n",
       "      <td>Bibb</td>\n",
       "      <td>20826</td>\n",
       "      <td>10801</td>\n",
       "      <td>Tuscaloosa</td>\n",
       "      <td>261112.0</td>\n",
       "      <td>Alabama</td>\n",
       "      <td>1</td>\n",
       "      <td>AL</td>\n",
       "      <td>0.244444</td>\n",
       "      <td>...</td>\n",
       "      <td>0.103550</td>\n",
       "      <td>0.417098</td>\n",
       "      <td>0.206075</td>\n",
       "      <td>0.06622</td>\n",
       "      <td>0.46136</td>\n",
       "      <td>-0.930472</td>\n",
       "      <td>46.36512</td>\n",
       "      <td>22.010950</td>\n",
       "      <td>1.008355</td>\n",
       "      <td>0.061639</td>\n",
       "    </tr>\n",
       "    <tr>\n",
       "      <th>4</th>\n",
       "      <td>1009</td>\n",
       "      <td>Blount</td>\n",
       "      <td>51024</td>\n",
       "      <td>10700</td>\n",
       "      <td>Birmingham</td>\n",
       "      <td>1038182.0</td>\n",
       "      <td>Alabama</td>\n",
       "      <td>1</td>\n",
       "      <td>AL</td>\n",
       "      <td>0.304348</td>\n",
       "      <td>...</td>\n",
       "      <td>0.079703</td>\n",
       "      <td>0.333042</td>\n",
       "      <td>0.117428</td>\n",
       "      <td>0.06281</td>\n",
       "      <td>0.59722</td>\n",
       "      <td>-1.304095</td>\n",
       "      <td>50.79178</td>\n",
       "      <td>1.171997</td>\n",
       "      <td>5.326905</td>\n",
       "      <td>0.032847</td>\n",
       "    </tr>\n",
       "  </tbody>\n",
       "</table>\n",
       "<p>5 rows × 31 columns</p>\n",
       "</div>"
      ],
      "text/plain": [
       "    cty county_name  cty_pop2000     cz     cz_name  cz_pop2000 statename  \\\n",
       "0  1001     Autauga        43671  11101  Montgomery    367927.0   Alabama   \n",
       "1  1003     Baldwin       140415  11001      Mobile    599405.0   Alabama   \n",
       "2  1005     Barbour        29038  10301     Eufaula     61458.0   Alabama   \n",
       "3  1007        Bibb        20826  10801  Tuscaloosa    261112.0   Alabama   \n",
       "4  1009      Blount        51024  10700  Birmingham   1038182.0   Alabama   \n",
       "\n",
       "   state_id stateabbrv  cur_smoke_q1     ...      cs_race_theil_2000  \\\n",
       "0         1         AL      0.333333     ...                0.128216   \n",
       "1         1         AL      0.268097     ...                0.100549   \n",
       "2         1         AL      0.228571     ...                0.039993   \n",
       "3         1         AL      0.244444     ...                0.103550   \n",
       "4         1         AL      0.304348     ...                0.079703   \n",
       "\n",
       "     gini99  poor_share  inc_share_1perc  frac_middleclass  scap_ski90pcm  \\\n",
       "0  0.379976    0.109228          0.06143           0.51950      -0.897834   \n",
       "1  0.489738    0.101471          0.12719           0.49911      -0.362414   \n",
       "2  0.490637    0.267998          0.09734           0.40833      -1.499349   \n",
       "3  0.417098    0.206075          0.06622           0.46136      -0.930472   \n",
       "4  0.333042    0.117428          0.06281           0.59722      -1.304095   \n",
       "\n",
       "    rel_tot  cs_frac_black  cs_frac_hisp  unemp_rate  \n",
       "0  56.11275      17.009000      1.396808    0.037379  \n",
       "1  47.24282      10.224690      1.756222    0.039112  \n",
       "2  41.17019      46.039670      1.646119    0.068132  \n",
       "3  46.36512      22.010950      1.008355    0.061639  \n",
       "4  50.79178       1.171997      5.326905    0.032847  \n",
       "\n",
       "[5 rows x 31 columns]"
      ]
     },
     "execution_count": 39,
     "metadata": {},
     "output_type": "execute_result"
    }
   ],
   "source": [
    "ntb12.head()"
   ]
  },
  {
   "cell_type": "code",
   "execution_count": 40,
   "metadata": {
    "collapsed": false
   },
   "outputs": [],
   "source": [
    "# Remove the columns whose empty values are more than 20%\n",
    "l = len(ntb12)\n",
    "names = ntb12.columns.values[9:] \n",
    "for name in names:\n",
    "    n = ntb12[name].isnull().values.sum()\n",
    "    if n/l > 0.2: \n",
    "        ntb12 = ntb12.drop([name], axis=1)"
   ]
  },
  {
   "cell_type": "code",
   "execution_count": 41,
   "metadata": {
    "collapsed": false
   },
   "outputs": [
    {
     "data": {
      "text/html": [
       "<div>\n",
       "<table border=\"1\" class=\"dataframe\">\n",
       "  <thead>\n",
       "    <tr style=\"text-align: right;\">\n",
       "      <th></th>\n",
       "      <th>cty</th>\n",
       "      <th>county_name</th>\n",
       "      <th>cty_pop2000</th>\n",
       "      <th>cz</th>\n",
       "      <th>cz_name</th>\n",
       "      <th>cz_pop2000</th>\n",
       "      <th>statename</th>\n",
       "      <th>state_id</th>\n",
       "      <th>stateabbrv</th>\n",
       "      <th>puninsured2010</th>\n",
       "      <th>...</th>\n",
       "      <th>cs_race_theil_2000</th>\n",
       "      <th>gini99</th>\n",
       "      <th>poor_share</th>\n",
       "      <th>inc_share_1perc</th>\n",
       "      <th>frac_middleclass</th>\n",
       "      <th>scap_ski90pcm</th>\n",
       "      <th>rel_tot</th>\n",
       "      <th>cs_frac_black</th>\n",
       "      <th>cs_frac_hisp</th>\n",
       "      <th>unemp_rate</th>\n",
       "    </tr>\n",
       "  </thead>\n",
       "  <tbody>\n",
       "    <tr>\n",
       "      <th>0</th>\n",
       "      <td>1001</td>\n",
       "      <td>Autauga</td>\n",
       "      <td>43671</td>\n",
       "      <td>11101</td>\n",
       "      <td>Montgomery</td>\n",
       "      <td>367927.0</td>\n",
       "      <td>Alabama</td>\n",
       "      <td>1</td>\n",
       "      <td>AL</td>\n",
       "      <td>13.60128</td>\n",
       "      <td>...</td>\n",
       "      <td>0.128216</td>\n",
       "      <td>0.379976</td>\n",
       "      <td>0.109228</td>\n",
       "      <td>0.06143</td>\n",
       "      <td>0.51950</td>\n",
       "      <td>-0.897834</td>\n",
       "      <td>56.11275</td>\n",
       "      <td>17.009000</td>\n",
       "      <td>1.396808</td>\n",
       "      <td>0.037379</td>\n",
       "    </tr>\n",
       "    <tr>\n",
       "      <th>1</th>\n",
       "      <td>1003</td>\n",
       "      <td>Baldwin</td>\n",
       "      <td>140415</td>\n",
       "      <td>11001</td>\n",
       "      <td>Mobile</td>\n",
       "      <td>599405.0</td>\n",
       "      <td>Alabama</td>\n",
       "      <td>1</td>\n",
       "      <td>AL</td>\n",
       "      <td>19.08533</td>\n",
       "      <td>...</td>\n",
       "      <td>0.100549</td>\n",
       "      <td>0.489738</td>\n",
       "      <td>0.101471</td>\n",
       "      <td>0.12719</td>\n",
       "      <td>0.49911</td>\n",
       "      <td>-0.362414</td>\n",
       "      <td>47.24282</td>\n",
       "      <td>10.224690</td>\n",
       "      <td>1.756222</td>\n",
       "      <td>0.039112</td>\n",
       "    </tr>\n",
       "    <tr>\n",
       "      <th>2</th>\n",
       "      <td>1005</td>\n",
       "      <td>Barbour</td>\n",
       "      <td>29038</td>\n",
       "      <td>10301</td>\n",
       "      <td>Eufaula</td>\n",
       "      <td>61458.0</td>\n",
       "      <td>Alabama</td>\n",
       "      <td>1</td>\n",
       "      <td>AL</td>\n",
       "      <td>18.51381</td>\n",
       "      <td>...</td>\n",
       "      <td>0.039993</td>\n",
       "      <td>0.490637</td>\n",
       "      <td>0.267998</td>\n",
       "      <td>0.09734</td>\n",
       "      <td>0.40833</td>\n",
       "      <td>-1.499349</td>\n",
       "      <td>41.17019</td>\n",
       "      <td>46.039670</td>\n",
       "      <td>1.646119</td>\n",
       "      <td>0.068132</td>\n",
       "    </tr>\n",
       "    <tr>\n",
       "      <th>3</th>\n",
       "      <td>1007</td>\n",
       "      <td>Bibb</td>\n",
       "      <td>20826</td>\n",
       "      <td>10801</td>\n",
       "      <td>Tuscaloosa</td>\n",
       "      <td>261112.0</td>\n",
       "      <td>Alabama</td>\n",
       "      <td>1</td>\n",
       "      <td>AL</td>\n",
       "      <td>17.71883</td>\n",
       "      <td>...</td>\n",
       "      <td>0.103550</td>\n",
       "      <td>0.417098</td>\n",
       "      <td>0.206075</td>\n",
       "      <td>0.06622</td>\n",
       "      <td>0.46136</td>\n",
       "      <td>-0.930472</td>\n",
       "      <td>46.36512</td>\n",
       "      <td>22.010950</td>\n",
       "      <td>1.008355</td>\n",
       "      <td>0.061639</td>\n",
       "    </tr>\n",
       "    <tr>\n",
       "      <th>4</th>\n",
       "      <td>1009</td>\n",
       "      <td>Blount</td>\n",
       "      <td>51024</td>\n",
       "      <td>10700</td>\n",
       "      <td>Birmingham</td>\n",
       "      <td>1038182.0</td>\n",
       "      <td>Alabama</td>\n",
       "      <td>1</td>\n",
       "      <td>AL</td>\n",
       "      <td>19.28041</td>\n",
       "      <td>...</td>\n",
       "      <td>0.079703</td>\n",
       "      <td>0.333042</td>\n",
       "      <td>0.117428</td>\n",
       "      <td>0.06281</td>\n",
       "      <td>0.59722</td>\n",
       "      <td>-1.304095</td>\n",
       "      <td>50.79178</td>\n",
       "      <td>1.171997</td>\n",
       "      <td>5.326905</td>\n",
       "      <td>0.032847</td>\n",
       "    </tr>\n",
       "  </tbody>\n",
       "</table>\n",
       "<p>5 rows × 28 columns</p>\n",
       "</div>"
      ],
      "text/plain": [
       "    cty county_name  cty_pop2000     cz     cz_name  cz_pop2000 statename  \\\n",
       "0  1001     Autauga        43671  11101  Montgomery    367927.0   Alabama   \n",
       "1  1003     Baldwin       140415  11001      Mobile    599405.0   Alabama   \n",
       "2  1005     Barbour        29038  10301     Eufaula     61458.0   Alabama   \n",
       "3  1007        Bibb        20826  10801  Tuscaloosa    261112.0   Alabama   \n",
       "4  1009      Blount        51024  10700  Birmingham   1038182.0   Alabama   \n",
       "\n",
       "   state_id stateabbrv  puninsured2010     ...      cs_race_theil_2000  \\\n",
       "0         1         AL        13.60128     ...                0.128216   \n",
       "1         1         AL        19.08533     ...                0.100549   \n",
       "2         1         AL        18.51381     ...                0.039993   \n",
       "3         1         AL        17.71883     ...                0.103550   \n",
       "4         1         AL        19.28041     ...                0.079703   \n",
       "\n",
       "     gini99  poor_share  inc_share_1perc  frac_middleclass  scap_ski90pcm  \\\n",
       "0  0.379976    0.109228          0.06143           0.51950      -0.897834   \n",
       "1  0.489738    0.101471          0.12719           0.49911      -0.362414   \n",
       "2  0.490637    0.267998          0.09734           0.40833      -1.499349   \n",
       "3  0.417098    0.206075          0.06622           0.46136      -0.930472   \n",
       "4  0.333042    0.117428          0.06281           0.59722      -1.304095   \n",
       "\n",
       "    rel_tot  cs_frac_black  cs_frac_hisp  unemp_rate  \n",
       "0  56.11275      17.009000      1.396808    0.037379  \n",
       "1  47.24282      10.224690      1.756222    0.039112  \n",
       "2  41.17019      46.039670      1.646119    0.068132  \n",
       "3  46.36512      22.010950      1.008355    0.061639  \n",
       "4  50.79178       1.171997      5.326905    0.032847  \n",
       "\n",
       "[5 rows x 28 columns]"
      ]
     },
     "execution_count": 41,
     "metadata": {},
     "output_type": "execute_result"
    }
   ],
   "source": [
    "ntb12.head()"
   ]
  },
  {
   "cell_type": "code",
   "execution_count": 42,
   "metadata": {
    "collapsed": false
   },
   "outputs": [
    {
     "data": {
      "text/plain": [
       "array(['puninsured2010', 'reimb_penroll_adj10', 'mort_30day_hosp_z',\n",
       "       'adjmortmeas_amiall30day', 'adjmortmeas_chfall30day',\n",
       "       'adjmortmeas_pnall30day', 'cs00_seg_inc', 'cs00_seg_inc_pov25',\n",
       "       'cs00_seg_inc_aff75', 'cs_race_theil_2000', 'gini99', 'poor_share',\n",
       "       'inc_share_1perc', 'frac_middleclass', 'scap_ski90pcm', 'rel_tot',\n",
       "       'cs_frac_black', 'cs_frac_hisp', 'unemp_rate'], dtype=object)"
      ]
     },
     "execution_count": 42,
     "metadata": {},
     "output_type": "execute_result"
    }
   ],
   "source": [
    "names = ntb12.columns.values[9:]\n",
    "names"
   ]
  },
  {
   "cell_type": "code",
   "execution_count": 43,
   "metadata": {
    "collapsed": false
   },
   "outputs": [
    {
     "data": {
      "text/plain": [
       "array(['Alabama', 'Alaska', 'Arizona', 'Arkansas', 'California',\n",
       "       'Colorado', 'Connecticut', 'Delaware', 'District Of Columbia',\n",
       "       'Florida', 'Georgia', 'Hawaii', 'Idaho', 'Illinois', 'Indiana',\n",
       "       'Iowa', 'Kansas', 'Kentucky', 'Louisiana', 'Maine', 'Maryland',\n",
       "       'Massachusetts', 'Michigan', 'Minnesota', 'Mississippi', 'Missouri',\n",
       "       'Montana', 'Nebraska', 'Nevada', 'New Hampshire', 'New Jersey',\n",
       "       'New Mexico', 'New York', 'North Carolina', 'North Dakota', 'Ohio',\n",
       "       'Oklahoma', 'Oregon', 'Pennsylvania', 'Rhode Island',\n",
       "       'South Carolina', 'South Dakota', 'Tennessee', 'Texas', 'Utah',\n",
       "       'Vermont', 'Virginia', 'Washington', 'West Virginia', 'Wisconsin',\n",
       "       'Wyoming'], dtype=object)"
      ]
     },
     "execution_count": 43,
     "metadata": {},
     "output_type": "execute_result"
    }
   ],
   "source": [
    "states = ntb12['statename'].unique()\n",
    "states"
   ]
  },
  {
   "cell_type": "code",
   "execution_count": 44,
   "metadata": {
    "collapsed": true
   },
   "outputs": [],
   "source": [
    "for name in names:\n",
    "    for state in states:\n",
    "        t = ntb12[ntb12.statename == state]\n",
    "        if t[name].isnull().values.all():\n",
    "            ntb12 = ntb12[ntb12.statename != state]\n",
    "        else:\n",
    "            m = t[name].mean()\n",
    "            t = t[name].fillna(m)\n",
    "            ntb12.loc[ntb12.statename == state, name] = t\n",
    "ntb12.to_csv('table_12.csv', index=False)"
   ]
  },
  {
   "cell_type": "code",
   "execution_count": 45,
   "metadata": {
    "collapsed": false
   },
   "outputs": [
    {
     "data": {
      "text/plain": [
       "3109"
      ]
     },
     "execution_count": 45,
     "metadata": {},
     "output_type": "execute_result"
    }
   ],
   "source": [
    "l = len(ntb12)\n",
    "l"
   ]
  },
  {
   "cell_type": "code",
   "execution_count": null,
   "metadata": {
    "collapsed": true
   },
   "outputs": [],
   "source": []
  }
 ],
 "metadata": {
  "kernelspec": {
   "display_name": "Python 3",
   "language": "python",
   "name": "python3"
  },
  "language_info": {
   "codemirror_mode": {
    "name": "ipython",
    "version": 3
   },
   "file_extension": ".py",
   "mimetype": "text/x-python",
   "name": "python",
   "nbconvert_exporter": "python",
   "pygments_lexer": "ipython3",
   "version": "3.6.0"
  }
 },
 "nbformat": 4,
 "nbformat_minor": 2
}
